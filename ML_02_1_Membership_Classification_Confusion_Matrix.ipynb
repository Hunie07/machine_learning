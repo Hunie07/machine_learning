{
 "cells": [
  {
   "cell_type": "markdown",
   "metadata": {},
   "source": [
    "## <center>멤버십 고객 탈회 예측</center>"
   ]
  },
  {
   "cell_type": "markdown",
   "metadata": {},
   "source": [
    "| 컬럼                     | 설명                    | 컬럼                     | 설명                      |\n",
    "|--------------------------|-------------------------|--------------------------|---------------------------|\n",
    "| id                       | 멤버십 번호             | MEMBERSHIP_TERM_YEARS    | 멤버십 기간               |\n",
    "| ANNUAL_FEES              | 연간 회비              | MEMBER_MARITAL_STATUS    | 기혼 여부, M(기혼), S(미혼) |\n",
    "| MEMBER_GENDER            | 성별, M(남), F(여)     | MEMBER_ANNUAL_INCOME     | 연봉(연간 수입)           |\n",
    "| MEMBER_OCCUPATION_CD     | 직업                   | MEMBERSHIP_PACKAGE       | 멤버십 유형               |\n",
    "| MEMBER_AGE_AT_ISSUE      | 나이                   | ADDITIONAL_MEMBERS       | 가족 회원                 |\n",
    "| PAYMENT_MODE             | 지불 방식              | AGENT_CODE               | 직원 코드                 |\n",
    "| START_DATE (YYYYMMDD)    | 시작 날짜              | END_DATE  (YYYYMMDD)     | 종료 날짜                 |\n",
    "| MEMBERSHIP_STATUS        | 0(유지), 1(탈회)       |                           |                           |"
   ]
  },
  {
   "cell_type": "markdown",
   "metadata": {},
   "source": [
    "### 라이브러리 임포트"
   ]
  },
  {
   "cell_type": "code",
   "execution_count": 180,
   "metadata": {},
   "outputs": [],
   "source": [
    "import pandas as pd\n",
    "import numpy as np\n",
    "\n",
    "import matplotlib.pyplot as plt\n",
    "import seaborn as sns\n",
    "\n",
    "import warnings\n",
    "warnings.filterwarnings(action='ignore')"
   ]
  },
  {
   "cell_type": "markdown",
   "metadata": {},
   "source": [
    "### 데이터 불러오기"
   ]
  },
  {
   "cell_type": "code",
   "execution_count": 181,
   "metadata": {},
   "outputs": [
    {
     "name": "stdout",
     "output_type": "stream",
     "text": [
      "(8807, 15)\n"
     ]
    },
    {
     "data": {
      "text/html": [
       "<div>\n",
       "<style scoped>\n",
       "    .dataframe tbody tr th:only-of-type {\n",
       "        vertical-align: middle;\n",
       "    }\n",
       "\n",
       "    .dataframe tbody tr th {\n",
       "        vertical-align: top;\n",
       "    }\n",
       "\n",
       "    .dataframe thead th {\n",
       "        text-align: right;\n",
       "    }\n",
       "</style>\n",
       "<table border=\"1\" class=\"dataframe\">\n",
       "  <thead>\n",
       "    <tr style=\"text-align: right;\">\n",
       "      <th></th>\n",
       "      <th>id</th>\n",
       "      <th>MEMBERSHIP_TERM_YEARS</th>\n",
       "      <th>ANNUAL_FEES</th>\n",
       "      <th>MEMBER_MARITAL_STATUS</th>\n",
       "      <th>MEMBER_GENDER</th>\n",
       "      <th>MEMBER_ANNUAL_INCOME</th>\n",
       "      <th>MEMBER_OCCUPATION_CD</th>\n",
       "      <th>MEMBERSHIP_PACKAGE</th>\n",
       "      <th>MEMBER_AGE_AT_ISSUE</th>\n",
       "      <th>ADDITIONAL_MEMBERS</th>\n",
       "      <th>PAYMENT_MODE</th>\n",
       "      <th>AGENT_CODE</th>\n",
       "      <th>MEMBERSHIP_STATUS</th>\n",
       "      <th>START_DATE</th>\n",
       "      <th>END_DATE</th>\n",
       "    </tr>\n",
       "  </thead>\n",
       "  <tbody>\n",
       "    <tr>\n",
       "      <th>0</th>\n",
       "      <td>0</td>\n",
       "      <td>22</td>\n",
       "      <td>100000.00</td>\n",
       "      <td>M</td>\n",
       "      <td>M</td>\n",
       "      <td>450000.0</td>\n",
       "      <td>1.0</td>\n",
       "      <td>TYPE-B</td>\n",
       "      <td>27</td>\n",
       "      <td>1</td>\n",
       "      <td>ANNUAL</td>\n",
       "      <td>666099</td>\n",
       "      <td>0</td>\n",
       "      <td>20091029</td>\n",
       "      <td>NaN</td>\n",
       "    </tr>\n",
       "    <tr>\n",
       "      <th>1</th>\n",
       "      <td>1</td>\n",
       "      <td>88</td>\n",
       "      <td>149029.58</td>\n",
       "      <td>NaN</td>\n",
       "      <td>M</td>\n",
       "      <td>NaN</td>\n",
       "      <td>6.0</td>\n",
       "      <td>TYPE-A</td>\n",
       "      <td>75</td>\n",
       "      <td>0</td>\n",
       "      <td>ANNUAL</td>\n",
       "      <td>132000</td>\n",
       "      <td>0</td>\n",
       "      <td>20131014</td>\n",
       "      <td>NaN</td>\n",
       "    </tr>\n",
       "    <tr>\n",
       "      <th>2</th>\n",
       "      <td>2</td>\n",
       "      <td>93</td>\n",
       "      <td>102999.94</td>\n",
       "      <td>NaN</td>\n",
       "      <td>M</td>\n",
       "      <td>600000.0</td>\n",
       "      <td>1.0</td>\n",
       "      <td>TYPE-A</td>\n",
       "      <td>49</td>\n",
       "      <td>0</td>\n",
       "      <td>ANNUAL</td>\n",
       "      <td>1407177</td>\n",
       "      <td>0</td>\n",
       "      <td>20130531</td>\n",
       "      <td>NaN</td>\n",
       "    </tr>\n",
       "    <tr>\n",
       "      <th>3</th>\n",
       "      <td>3</td>\n",
       "      <td>17</td>\n",
       "      <td>147576.48</td>\n",
       "      <td>M</td>\n",
       "      <td>F</td>\n",
       "      <td>450000.0</td>\n",
       "      <td>1.0</td>\n",
       "      <td>TYPE-A</td>\n",
       "      <td>47</td>\n",
       "      <td>3</td>\n",
       "      <td>MONTHLY</td>\n",
       "      <td>343344</td>\n",
       "      <td>0</td>\n",
       "      <td>20130331</td>\n",
       "      <td>NaN</td>\n",
       "    </tr>\n",
       "    <tr>\n",
       "      <th>4</th>\n",
       "      <td>4</td>\n",
       "      <td>39</td>\n",
       "      <td>100000.00</td>\n",
       "      <td>M</td>\n",
       "      <td>M</td>\n",
       "      <td>600000.0</td>\n",
       "      <td>1.0</td>\n",
       "      <td>TYPE-B</td>\n",
       "      <td>36</td>\n",
       "      <td>3</td>\n",
       "      <td>ANNUAL</td>\n",
       "      <td>119199</td>\n",
       "      <td>0</td>\n",
       "      <td>20080313</td>\n",
       "      <td>NaN</td>\n",
       "    </tr>\n",
       "  </tbody>\n",
       "</table>\n",
       "</div>"
      ],
      "text/plain": [
       "   id  MEMBERSHIP_TERM_YEARS  ANNUAL_FEES MEMBER_MARITAL_STATUS MEMBER_GENDER  \\\n",
       "0   0                     22    100000.00                     M             M   \n",
       "1   1                     88    149029.58                   NaN             M   \n",
       "2   2                     93    102999.94                   NaN             M   \n",
       "3   3                     17    147576.48                     M             F   \n",
       "4   4                     39    100000.00                     M             M   \n",
       "\n",
       "   MEMBER_ANNUAL_INCOME  MEMBER_OCCUPATION_CD MEMBERSHIP_PACKAGE  \\\n",
       "0              450000.0                   1.0             TYPE-B   \n",
       "1                   NaN                   6.0             TYPE-A   \n",
       "2              600000.0                   1.0             TYPE-A   \n",
       "3              450000.0                   1.0             TYPE-A   \n",
       "4              600000.0                   1.0             TYPE-B   \n",
       "\n",
       "   MEMBER_AGE_AT_ISSUE  ADDITIONAL_MEMBERS PAYMENT_MODE AGENT_CODE  \\\n",
       "0                   27                   1       ANNUAL     666099   \n",
       "1                   75                   0       ANNUAL     132000   \n",
       "2                   49                   0       ANNUAL    1407177   \n",
       "3                   47                   3      MONTHLY     343344   \n",
       "4                   36                   3       ANNUAL     119199   \n",
       "\n",
       "   MEMBERSHIP_STATUS  START_DATE  END_DATE  \n",
       "0                  0    20091029       NaN  \n",
       "1                  0    20131014       NaN  \n",
       "2                  0    20130531       NaN  \n",
       "3                  0    20130331       NaN  \n",
       "4                  0    20080313       NaN  "
      ]
     },
     "execution_count": 181,
     "metadata": {},
     "output_type": "execute_result"
    }
   ],
   "source": [
    "data = pd.read_csv(\"../Module03_머신러닝/membership.csv\")\n",
    "print(data.shape)\n",
    "data.head()"
   ]
  },
  {
   "cell_type": "markdown",
   "metadata": {},
   "source": [
    "### 데이터 탐색 (EDA)"
   ]
  },
  {
   "cell_type": "markdown",
   "metadata": {},
   "source": [
    "### 데이터프레임 기본 정보"
   ]
  },
  {
   "cell_type": "code",
   "execution_count": 182,
   "metadata": {},
   "outputs": [
    {
     "name": "stdout",
     "output_type": "stream",
     "text": [
      "<class 'pandas.core.frame.DataFrame'>\n",
      "RangeIndex: 8807 entries, 0 to 8806\n",
      "Data columns (total 15 columns):\n",
      " #   Column                 Non-Null Count  Dtype  \n",
      "---  ------                 --------------  -----  \n",
      " 0   id                     8807 non-null   int64  \n",
      " 1   MEMBERSHIP_TERM_YEARS  8807 non-null   int64  \n",
      " 2   ANNUAL_FEES            8807 non-null   float64\n",
      " 3   MEMBER_MARITAL_STATUS  6597 non-null   object \n",
      " 4   MEMBER_GENDER          8305 non-null   object \n",
      " 5   MEMBER_ANNUAL_INCOME   7338 non-null   float64\n",
      " 6   MEMBER_OCCUPATION_CD   8773 non-null   float64\n",
      " 7   MEMBERSHIP_PACKAGE     8807 non-null   object \n",
      " 8   MEMBER_AGE_AT_ISSUE    8807 non-null   int64  \n",
      " 9   ADDITIONAL_MEMBERS     8807 non-null   int64  \n",
      " 10  PAYMENT_MODE           8807 non-null   object \n",
      " 11  AGENT_CODE             8807 non-null   object \n",
      " 12  MEMBERSHIP_STATUS      8807 non-null   int64  \n",
      " 13  START_DATE             8807 non-null   int64  \n",
      " 14  END_DATE               2671 non-null   float64\n",
      "dtypes: float64(4), int64(6), object(5)\n",
      "memory usage: 1.0+ MB\n"
     ]
    }
   ],
   "source": [
    "data.info()"
   ]
  },
  {
   "cell_type": "markdown",
   "metadata": {},
   "source": [
    "### 통계정보 요약"
   ]
  },
  {
   "cell_type": "code",
   "execution_count": 183,
   "metadata": {},
   "outputs": [
    {
     "data": {
      "text/html": [
       "<div>\n",
       "<style scoped>\n",
       "    .dataframe tbody tr th:only-of-type {\n",
       "        vertical-align: middle;\n",
       "    }\n",
       "\n",
       "    .dataframe tbody tr th {\n",
       "        vertical-align: top;\n",
       "    }\n",
       "\n",
       "    .dataframe thead th {\n",
       "        text-align: right;\n",
       "    }\n",
       "</style>\n",
       "<table border=\"1\" class=\"dataframe\">\n",
       "  <thead>\n",
       "    <tr style=\"text-align: right;\">\n",
       "      <th></th>\n",
       "      <th>id</th>\n",
       "      <th>MEMBERSHIP_TERM_YEARS</th>\n",
       "      <th>ANNUAL_FEES</th>\n",
       "      <th>MEMBER_MARITAL_STATUS</th>\n",
       "      <th>MEMBER_GENDER</th>\n",
       "      <th>MEMBER_ANNUAL_INCOME</th>\n",
       "      <th>MEMBER_OCCUPATION_CD</th>\n",
       "      <th>MEMBERSHIP_PACKAGE</th>\n",
       "      <th>MEMBER_AGE_AT_ISSUE</th>\n",
       "      <th>ADDITIONAL_MEMBERS</th>\n",
       "      <th>PAYMENT_MODE</th>\n",
       "      <th>AGENT_CODE</th>\n",
       "      <th>MEMBERSHIP_STATUS</th>\n",
       "      <th>START_DATE</th>\n",
       "      <th>END_DATE</th>\n",
       "    </tr>\n",
       "  </thead>\n",
       "  <tbody>\n",
       "    <tr>\n",
       "      <th>count</th>\n",
       "      <td>8807.000000</td>\n",
       "      <td>8807.000000</td>\n",
       "      <td>8.807000e+03</td>\n",
       "      <td>6597</td>\n",
       "      <td>8305</td>\n",
       "      <td>7.338000e+03</td>\n",
       "      <td>8773.000000</td>\n",
       "      <td>8807</td>\n",
       "      <td>8807.000000</td>\n",
       "      <td>8807.000000</td>\n",
       "      <td>8807</td>\n",
       "      <td>8807</td>\n",
       "      <td>8807.000000</td>\n",
       "      <td>8.807000e+03</td>\n",
       "      <td>2.671000e+03</td>\n",
       "    </tr>\n",
       "    <tr>\n",
       "      <th>unique</th>\n",
       "      <td>NaN</td>\n",
       "      <td>NaN</td>\n",
       "      <td>NaN</td>\n",
       "      <td>4</td>\n",
       "      <td>2</td>\n",
       "      <td>NaN</td>\n",
       "      <td>NaN</td>\n",
       "      <td>2</td>\n",
       "      <td>NaN</td>\n",
       "      <td>NaN</td>\n",
       "      <td>5</td>\n",
       "      <td>3915</td>\n",
       "      <td>NaN</td>\n",
       "      <td>NaN</td>\n",
       "      <td>NaN</td>\n",
       "    </tr>\n",
       "    <tr>\n",
       "      <th>top</th>\n",
       "      <td>NaN</td>\n",
       "      <td>NaN</td>\n",
       "      <td>NaN</td>\n",
       "      <td>M</td>\n",
       "      <td>M</td>\n",
       "      <td>NaN</td>\n",
       "      <td>NaN</td>\n",
       "      <td>TYPE-B</td>\n",
       "      <td>NaN</td>\n",
       "      <td>NaN</td>\n",
       "      <td>ANNUAL</td>\n",
       "      <td>343344</td>\n",
       "      <td>NaN</td>\n",
       "      <td>NaN</td>\n",
       "      <td>NaN</td>\n",
       "    </tr>\n",
       "    <tr>\n",
       "      <th>freq</th>\n",
       "      <td>NaN</td>\n",
       "      <td>NaN</td>\n",
       "      <td>NaN</td>\n",
       "      <td>5455</td>\n",
       "      <td>6249</td>\n",
       "      <td>NaN</td>\n",
       "      <td>NaN</td>\n",
       "      <td>5744</td>\n",
       "      <td>NaN</td>\n",
       "      <td>NaN</td>\n",
       "      <td>5592</td>\n",
       "      <td>504</td>\n",
       "      <td>NaN</td>\n",
       "      <td>NaN</td>\n",
       "      <td>NaN</td>\n",
       "    </tr>\n",
       "    <tr>\n",
       "      <th>mean</th>\n",
       "      <td>4403.000000</td>\n",
       "      <td>29.518451</td>\n",
       "      <td>1.806998e+05</td>\n",
       "      <td>NaN</td>\n",
       "      <td>NaN</td>\n",
       "      <td>1.375036e+06</td>\n",
       "      <td>1.711159</td>\n",
       "      <td>NaN</td>\n",
       "      <td>46.766322</td>\n",
       "      <td>1.412967</td>\n",
       "      <td>NaN</td>\n",
       "      <td>NaN</td>\n",
       "      <td>0.303281</td>\n",
       "      <td>2.010835e+07</td>\n",
       "      <td>2.011390e+07</td>\n",
       "    </tr>\n",
       "    <tr>\n",
       "      <th>std</th>\n",
       "      <td>2542.506244</td>\n",
       "      <td>22.584187</td>\n",
       "      <td>2.854986e+05</td>\n",
       "      <td>NaN</td>\n",
       "      <td>NaN</td>\n",
       "      <td>1.499773e+07</td>\n",
       "      <td>1.449801</td>\n",
       "      <td>NaN</td>\n",
       "      <td>13.909048</td>\n",
       "      <td>1.146395</td>\n",
       "      <td>NaN</td>\n",
       "      <td>NaN</td>\n",
       "      <td>0.459702</td>\n",
       "      <td>1.727042e+04</td>\n",
       "      <td>1.395780e+04</td>\n",
       "    </tr>\n",
       "    <tr>\n",
       "      <th>min</th>\n",
       "      <td>0.000000</td>\n",
       "      <td>9.000000</td>\n",
       "      <td>0.000000e+00</td>\n",
       "      <td>NaN</td>\n",
       "      <td>NaN</td>\n",
       "      <td>9.996000e+03</td>\n",
       "      <td>1.000000</td>\n",
       "      <td>NaN</td>\n",
       "      <td>0.000000</td>\n",
       "      <td>0.000000</td>\n",
       "      <td>NaN</td>\n",
       "      <td>NaN</td>\n",
       "      <td>0.000000</td>\n",
       "      <td>2.006091e+07</td>\n",
       "      <td>2.007083e+07</td>\n",
       "    </tr>\n",
       "    <tr>\n",
       "      <th>25%</th>\n",
       "      <td>2201.500000</td>\n",
       "      <td>12.000000</td>\n",
       "      <td>1.000000e+05</td>\n",
       "      <td>NaN</td>\n",
       "      <td>NaN</td>\n",
       "      <td>3.999960e+05</td>\n",
       "      <td>1.000000</td>\n",
       "      <td>NaN</td>\n",
       "      <td>37.000000</td>\n",
       "      <td>0.000000</td>\n",
       "      <td>NaN</td>\n",
       "      <td>NaN</td>\n",
       "      <td>0.000000</td>\n",
       "      <td>2.009123e+07</td>\n",
       "      <td>2.010121e+07</td>\n",
       "    </tr>\n",
       "    <tr>\n",
       "      <th>50%</th>\n",
       "      <td>4403.000000</td>\n",
       "      <td>19.000000</td>\n",
       "      <td>1.191941e+05</td>\n",
       "      <td>NaN</td>\n",
       "      <td>NaN</td>\n",
       "      <td>5.499960e+05</td>\n",
       "      <td>1.000000</td>\n",
       "      <td>NaN</td>\n",
       "      <td>46.000000</td>\n",
       "      <td>1.000000</td>\n",
       "      <td>NaN</td>\n",
       "      <td>NaN</td>\n",
       "      <td>0.000000</td>\n",
       "      <td>2.011011e+07</td>\n",
       "      <td>2.011121e+07</td>\n",
       "    </tr>\n",
       "    <tr>\n",
       "      <th>75%</th>\n",
       "      <td>6604.500000</td>\n",
       "      <td>37.000000</td>\n",
       "      <td>1.909890e+05</td>\n",
       "      <td>NaN</td>\n",
       "      <td>NaN</td>\n",
       "      <td>9.999960e+05</td>\n",
       "      <td>2.000000</td>\n",
       "      <td>NaN</td>\n",
       "      <td>57.000000</td>\n",
       "      <td>2.000000</td>\n",
       "      <td>NaN</td>\n",
       "      <td>NaN</td>\n",
       "      <td>1.000000</td>\n",
       "      <td>2.012123e+07</td>\n",
       "      <td>2.013020e+07</td>\n",
       "    </tr>\n",
       "    <tr>\n",
       "      <th>max</th>\n",
       "      <td>8806.000000</td>\n",
       "      <td>102.000000</td>\n",
       "      <td>1.010000e+07</td>\n",
       "      <td>NaN</td>\n",
       "      <td>NaN</td>\n",
       "      <td>1.000000e+09</td>\n",
       "      <td>6.000000</td>\n",
       "      <td>NaN</td>\n",
       "      <td>92.000000</td>\n",
       "      <td>3.000000</td>\n",
       "      <td>NaN</td>\n",
       "      <td>NaN</td>\n",
       "      <td>1.000000</td>\n",
       "      <td>2.013113e+07</td>\n",
       "      <td>2.013112e+07</td>\n",
       "    </tr>\n",
       "  </tbody>\n",
       "</table>\n",
       "</div>"
      ],
      "text/plain": [
       "                 id  MEMBERSHIP_TERM_YEARS   ANNUAL_FEES  \\\n",
       "count   8807.000000            8807.000000  8.807000e+03   \n",
       "unique          NaN                    NaN           NaN   \n",
       "top             NaN                    NaN           NaN   \n",
       "freq            NaN                    NaN           NaN   \n",
       "mean    4403.000000              29.518451  1.806998e+05   \n",
       "std     2542.506244              22.584187  2.854986e+05   \n",
       "min        0.000000               9.000000  0.000000e+00   \n",
       "25%     2201.500000              12.000000  1.000000e+05   \n",
       "50%     4403.000000              19.000000  1.191941e+05   \n",
       "75%     6604.500000              37.000000  1.909890e+05   \n",
       "max     8806.000000             102.000000  1.010000e+07   \n",
       "\n",
       "       MEMBER_MARITAL_STATUS MEMBER_GENDER  MEMBER_ANNUAL_INCOME  \\\n",
       "count                   6597          8305          7.338000e+03   \n",
       "unique                     4             2                   NaN   \n",
       "top                        M             M                   NaN   \n",
       "freq                    5455          6249                   NaN   \n",
       "mean                     NaN           NaN          1.375036e+06   \n",
       "std                      NaN           NaN          1.499773e+07   \n",
       "min                      NaN           NaN          9.996000e+03   \n",
       "25%                      NaN           NaN          3.999960e+05   \n",
       "50%                      NaN           NaN          5.499960e+05   \n",
       "75%                      NaN           NaN          9.999960e+05   \n",
       "max                      NaN           NaN          1.000000e+09   \n",
       "\n",
       "        MEMBER_OCCUPATION_CD MEMBERSHIP_PACKAGE  MEMBER_AGE_AT_ISSUE  \\\n",
       "count            8773.000000               8807          8807.000000   \n",
       "unique                   NaN                  2                  NaN   \n",
       "top                      NaN             TYPE-B                  NaN   \n",
       "freq                     NaN               5744                  NaN   \n",
       "mean                1.711159                NaN            46.766322   \n",
       "std                 1.449801                NaN            13.909048   \n",
       "min                 1.000000                NaN             0.000000   \n",
       "25%                 1.000000                NaN            37.000000   \n",
       "50%                 1.000000                NaN            46.000000   \n",
       "75%                 2.000000                NaN            57.000000   \n",
       "max                 6.000000                NaN            92.000000   \n",
       "\n",
       "        ADDITIONAL_MEMBERS PAYMENT_MODE AGENT_CODE  MEMBERSHIP_STATUS  \\\n",
       "count          8807.000000         8807       8807        8807.000000   \n",
       "unique                 NaN            5       3915                NaN   \n",
       "top                    NaN       ANNUAL     343344                NaN   \n",
       "freq                   NaN         5592        504                NaN   \n",
       "mean              1.412967          NaN        NaN           0.303281   \n",
       "std               1.146395          NaN        NaN           0.459702   \n",
       "min               0.000000          NaN        NaN           0.000000   \n",
       "25%               0.000000          NaN        NaN           0.000000   \n",
       "50%               1.000000          NaN        NaN           0.000000   \n",
       "75%               2.000000          NaN        NaN           1.000000   \n",
       "max               3.000000          NaN        NaN           1.000000   \n",
       "\n",
       "          START_DATE      END_DATE  \n",
       "count   8.807000e+03  2.671000e+03  \n",
       "unique           NaN           NaN  \n",
       "top              NaN           NaN  \n",
       "freq             NaN           NaN  \n",
       "mean    2.010835e+07  2.011390e+07  \n",
       "std     1.727042e+04  1.395780e+04  \n",
       "min     2.006091e+07  2.007083e+07  \n",
       "25%     2.009123e+07  2.010121e+07  \n",
       "50%     2.011011e+07  2.011121e+07  \n",
       "75%     2.012123e+07  2.013020e+07  \n",
       "max     2.013113e+07  2.013112e+07  "
      ]
     },
     "execution_count": 183,
     "metadata": {},
     "output_type": "execute_result"
    }
   ],
   "source": [
    "data.describe(include='all')"
   ]
  },
  {
   "cell_type": "markdown",
   "metadata": {},
   "source": [
    "### 중복행 개수"
   ]
  },
  {
   "cell_type": "code",
   "execution_count": 184,
   "metadata": {},
   "outputs": [
    {
     "data": {
      "text/plain": [
       "0"
      ]
     },
     "execution_count": 184,
     "metadata": {},
     "output_type": "execute_result"
    }
   ],
   "source": [
    "data.duplicated().sum()"
   ]
  },
  {
   "cell_type": "markdown",
   "metadata": {},
   "source": [
    "### 결측치 개수"
   ]
  },
  {
   "cell_type": "code",
   "execution_count": 185,
   "metadata": {},
   "outputs": [
    {
     "data": {
      "text/plain": [
       "id                          0\n",
       "MEMBERSHIP_TERM_YEARS       0\n",
       "ANNUAL_FEES                 0\n",
       "MEMBER_MARITAL_STATUS    2210\n",
       "MEMBER_GENDER             502\n",
       "MEMBER_ANNUAL_INCOME     1469\n",
       "MEMBER_OCCUPATION_CD       34\n",
       "MEMBERSHIP_PACKAGE          0\n",
       "MEMBER_AGE_AT_ISSUE         0\n",
       "ADDITIONAL_MEMBERS          0\n",
       "PAYMENT_MODE                0\n",
       "AGENT_CODE                  0\n",
       "MEMBERSHIP_STATUS           0\n",
       "START_DATE                  0\n",
       "END_DATE                 6136\n",
       "dtype: int64"
      ]
     },
     "execution_count": 185,
     "metadata": {},
     "output_type": "execute_result"
    }
   ],
   "source": [
    "data.isnull().sum()"
   ]
  },
  {
   "cell_type": "code",
   "execution_count": 186,
   "metadata": {},
   "outputs": [
    {
     "data": {
      "text/plain": [
       "MEMBERSHIP_STATUS\n",
       "0    6136\n",
       "1    2671\n",
       "Name: count, dtype: int64"
      ]
     },
     "execution_count": 186,
     "metadata": {},
     "output_type": "execute_result"
    }
   ],
   "source": [
    "data['MEMBERSHIP_STATUS'].value_counts()\n",
    "# END_DATE 결측치와 0 값이 동일 : 멤버쉽인 경우만 END_DATE 가 있다."
   ]
  },
  {
   "cell_type": "markdown",
   "metadata": {},
   "source": [
    "### 데이터 전처리 (Preprocessing)"
   ]
  },
  {
   "cell_type": "markdown",
   "metadata": {},
   "source": [
    "### 컬럼명 변경"
   ]
  },
  {
   "cell_type": "code",
   "execution_count": 187,
   "metadata": {},
   "outputs": [
    {
     "data": {
      "text/plain": [
       "Index(['id', 'MEMBERSHIP_TERM_YEARS', 'ANNUAL_FEES', 'MEMBER_MARITAL_STATUS',\n",
       "       'MEMBER_GENDER', 'MEMBER_ANNUAL_INCOME', 'MEMBER_OCCUPATION_CD',\n",
       "       'MEMBERSHIP_PACKAGE', 'MEMBER_AGE_AT_ISSUE', 'ADDITIONAL_MEMBERS',\n",
       "       'PAYMENT_MODE', 'AGENT_CODE', 'MEMBERSHIP_STATUS', 'START_DATE',\n",
       "       'END_DATE'],\n",
       "      dtype='object')"
      ]
     },
     "execution_count": 187,
     "metadata": {},
     "output_type": "execute_result"
    }
   ],
   "source": [
    "data.columns"
   ]
  },
  {
   "cell_type": "code",
   "execution_count": 188,
   "metadata": {},
   "outputs": [],
   "source": [
    "data.columns = ['id', 'term', 'fee', 'married', 'gender', 'income', 'job',\n",
    "'package', 'age', 'family', 'payment', 'agent', 'target', 'start_date', 'end_date']"
   ]
  },
  {
   "cell_type": "code",
   "execution_count": 189,
   "metadata": {},
   "outputs": [
    {
     "data": {
      "text/html": [
       "<div>\n",
       "<style scoped>\n",
       "    .dataframe tbody tr th:only-of-type {\n",
       "        vertical-align: middle;\n",
       "    }\n",
       "\n",
       "    .dataframe tbody tr th {\n",
       "        vertical-align: top;\n",
       "    }\n",
       "\n",
       "    .dataframe thead th {\n",
       "        text-align: right;\n",
       "    }\n",
       "</style>\n",
       "<table border=\"1\" class=\"dataframe\">\n",
       "  <thead>\n",
       "    <tr style=\"text-align: right;\">\n",
       "      <th></th>\n",
       "      <th>id</th>\n",
       "      <th>term</th>\n",
       "      <th>fee</th>\n",
       "      <th>married</th>\n",
       "      <th>gender</th>\n",
       "      <th>income</th>\n",
       "      <th>job</th>\n",
       "      <th>package</th>\n",
       "      <th>age</th>\n",
       "      <th>family</th>\n",
       "      <th>payment</th>\n",
       "      <th>agent</th>\n",
       "      <th>target</th>\n",
       "      <th>start_date</th>\n",
       "      <th>end_date</th>\n",
       "    </tr>\n",
       "  </thead>\n",
       "  <tbody>\n",
       "    <tr>\n",
       "      <th>0</th>\n",
       "      <td>0</td>\n",
       "      <td>22</td>\n",
       "      <td>100000.00</td>\n",
       "      <td>M</td>\n",
       "      <td>M</td>\n",
       "      <td>450000.0</td>\n",
       "      <td>1.0</td>\n",
       "      <td>TYPE-B</td>\n",
       "      <td>27</td>\n",
       "      <td>1</td>\n",
       "      <td>ANNUAL</td>\n",
       "      <td>666099</td>\n",
       "      <td>0</td>\n",
       "      <td>20091029</td>\n",
       "      <td>NaN</td>\n",
       "    </tr>\n",
       "    <tr>\n",
       "      <th>1</th>\n",
       "      <td>1</td>\n",
       "      <td>88</td>\n",
       "      <td>149029.58</td>\n",
       "      <td>NaN</td>\n",
       "      <td>M</td>\n",
       "      <td>NaN</td>\n",
       "      <td>6.0</td>\n",
       "      <td>TYPE-A</td>\n",
       "      <td>75</td>\n",
       "      <td>0</td>\n",
       "      <td>ANNUAL</td>\n",
       "      <td>132000</td>\n",
       "      <td>0</td>\n",
       "      <td>20131014</td>\n",
       "      <td>NaN</td>\n",
       "    </tr>\n",
       "    <tr>\n",
       "      <th>2</th>\n",
       "      <td>2</td>\n",
       "      <td>93</td>\n",
       "      <td>102999.94</td>\n",
       "      <td>NaN</td>\n",
       "      <td>M</td>\n",
       "      <td>600000.0</td>\n",
       "      <td>1.0</td>\n",
       "      <td>TYPE-A</td>\n",
       "      <td>49</td>\n",
       "      <td>0</td>\n",
       "      <td>ANNUAL</td>\n",
       "      <td>1407177</td>\n",
       "      <td>0</td>\n",
       "      <td>20130531</td>\n",
       "      <td>NaN</td>\n",
       "    </tr>\n",
       "    <tr>\n",
       "      <th>3</th>\n",
       "      <td>3</td>\n",
       "      <td>17</td>\n",
       "      <td>147576.48</td>\n",
       "      <td>M</td>\n",
       "      <td>F</td>\n",
       "      <td>450000.0</td>\n",
       "      <td>1.0</td>\n",
       "      <td>TYPE-A</td>\n",
       "      <td>47</td>\n",
       "      <td>3</td>\n",
       "      <td>MONTHLY</td>\n",
       "      <td>343344</td>\n",
       "      <td>0</td>\n",
       "      <td>20130331</td>\n",
       "      <td>NaN</td>\n",
       "    </tr>\n",
       "    <tr>\n",
       "      <th>4</th>\n",
       "      <td>4</td>\n",
       "      <td>39</td>\n",
       "      <td>100000.00</td>\n",
       "      <td>M</td>\n",
       "      <td>M</td>\n",
       "      <td>600000.0</td>\n",
       "      <td>1.0</td>\n",
       "      <td>TYPE-B</td>\n",
       "      <td>36</td>\n",
       "      <td>3</td>\n",
       "      <td>ANNUAL</td>\n",
       "      <td>119199</td>\n",
       "      <td>0</td>\n",
       "      <td>20080313</td>\n",
       "      <td>NaN</td>\n",
       "    </tr>\n",
       "  </tbody>\n",
       "</table>\n",
       "</div>"
      ],
      "text/plain": [
       "   id  term        fee married gender    income  job package  age  family  \\\n",
       "0   0    22  100000.00       M      M  450000.0  1.0  TYPE-B   27       1   \n",
       "1   1    88  149029.58     NaN      M       NaN  6.0  TYPE-A   75       0   \n",
       "2   2    93  102999.94     NaN      M  600000.0  1.0  TYPE-A   49       0   \n",
       "3   3    17  147576.48       M      F  450000.0  1.0  TYPE-A   47       3   \n",
       "4   4    39  100000.00       M      M  600000.0  1.0  TYPE-B   36       3   \n",
       "\n",
       "   payment    agent  target  start_date  end_date  \n",
       "0   ANNUAL   666099       0    20091029       NaN  \n",
       "1   ANNUAL   132000       0    20131014       NaN  \n",
       "2   ANNUAL  1407177       0    20130531       NaN  \n",
       "3  MONTHLY   343344       0    20130331       NaN  \n",
       "4   ANNUAL   119199       0    20080313       NaN  "
      ]
     },
     "execution_count": 189,
     "metadata": {},
     "output_type": "execute_result"
    }
   ],
   "source": [
    "data.head()"
   ]
  },
  {
   "cell_type": "markdown",
   "metadata": {},
   "source": [
    "### 결측값 처리"
   ]
  },
  {
   "cell_type": "code",
   "execution_count": 190,
   "metadata": {},
   "outputs": [
    {
     "data": {
      "text/plain": [
       "id               0\n",
       "term             0\n",
       "fee              0\n",
       "married       2210\n",
       "gender         502\n",
       "income        1469\n",
       "job             34\n",
       "package          0\n",
       "age              0\n",
       "family           0\n",
       "payment          0\n",
       "agent            0\n",
       "target           0\n",
       "start_date       0\n",
       "end_date      6136\n",
       "dtype: int64"
      ]
     },
     "execution_count": 190,
     "metadata": {},
     "output_type": "execute_result"
    }
   ],
   "source": [
    "data.isnull().sum()"
   ]
  },
  {
   "cell_type": "markdown",
   "metadata": {},
   "source": [
    "### 결측값 제거"
   ]
  },
  {
   "cell_type": "code",
   "execution_count": 191,
   "metadata": {},
   "outputs": [],
   "source": [
    "# end_date 열 삭제\n",
    "data = data.drop(['end_date'], axis=1)"
   ]
  },
  {
   "cell_type": "code",
   "execution_count": 192,
   "metadata": {},
   "outputs": [
    {
     "data": {
      "text/html": [
       "<div>\n",
       "<style scoped>\n",
       "    .dataframe tbody tr th:only-of-type {\n",
       "        vertical-align: middle;\n",
       "    }\n",
       "\n",
       "    .dataframe tbody tr th {\n",
       "        vertical-align: top;\n",
       "    }\n",
       "\n",
       "    .dataframe thead th {\n",
       "        text-align: right;\n",
       "    }\n",
       "</style>\n",
       "<table border=\"1\" class=\"dataframe\">\n",
       "  <thead>\n",
       "    <tr style=\"text-align: right;\">\n",
       "      <th></th>\n",
       "      <th>id</th>\n",
       "      <th>term</th>\n",
       "      <th>fee</th>\n",
       "      <th>married</th>\n",
       "      <th>gender</th>\n",
       "      <th>income</th>\n",
       "      <th>job</th>\n",
       "      <th>package</th>\n",
       "      <th>age</th>\n",
       "      <th>family</th>\n",
       "      <th>payment</th>\n",
       "      <th>agent</th>\n",
       "      <th>target</th>\n",
       "      <th>start_date</th>\n",
       "    </tr>\n",
       "  </thead>\n",
       "  <tbody>\n",
       "    <tr>\n",
       "      <th>0</th>\n",
       "      <td>0</td>\n",
       "      <td>22</td>\n",
       "      <td>100000.00</td>\n",
       "      <td>M</td>\n",
       "      <td>M</td>\n",
       "      <td>450000.0</td>\n",
       "      <td>1.0</td>\n",
       "      <td>TYPE-B</td>\n",
       "      <td>27</td>\n",
       "      <td>1</td>\n",
       "      <td>ANNUAL</td>\n",
       "      <td>666099</td>\n",
       "      <td>0</td>\n",
       "      <td>20091029</td>\n",
       "    </tr>\n",
       "    <tr>\n",
       "      <th>3</th>\n",
       "      <td>3</td>\n",
       "      <td>17</td>\n",
       "      <td>147576.48</td>\n",
       "      <td>M</td>\n",
       "      <td>F</td>\n",
       "      <td>450000.0</td>\n",
       "      <td>1.0</td>\n",
       "      <td>TYPE-A</td>\n",
       "      <td>47</td>\n",
       "      <td>3</td>\n",
       "      <td>MONTHLY</td>\n",
       "      <td>343344</td>\n",
       "      <td>0</td>\n",
       "      <td>20130331</td>\n",
       "    </tr>\n",
       "    <tr>\n",
       "      <th>4</th>\n",
       "      <td>4</td>\n",
       "      <td>39</td>\n",
       "      <td>100000.00</td>\n",
       "      <td>M</td>\n",
       "      <td>M</td>\n",
       "      <td>600000.0</td>\n",
       "      <td>1.0</td>\n",
       "      <td>TYPE-B</td>\n",
       "      <td>36</td>\n",
       "      <td>3</td>\n",
       "      <td>ANNUAL</td>\n",
       "      <td>119199</td>\n",
       "      <td>0</td>\n",
       "      <td>20080313</td>\n",
       "    </tr>\n",
       "    <tr>\n",
       "      <th>6</th>\n",
       "      <td>6</td>\n",
       "      <td>17</td>\n",
       "      <td>103016.16</td>\n",
       "      <td>S</td>\n",
       "      <td>M</td>\n",
       "      <td>999996.0</td>\n",
       "      <td>2.0</td>\n",
       "      <td>TYPE-A</td>\n",
       "      <td>35</td>\n",
       "      <td>0</td>\n",
       "      <td>MONTHLY</td>\n",
       "      <td>348099</td>\n",
       "      <td>0</td>\n",
       "      <td>20130930</td>\n",
       "    </tr>\n",
       "    <tr>\n",
       "      <th>9</th>\n",
       "      <td>9</td>\n",
       "      <td>12</td>\n",
       "      <td>300002.40</td>\n",
       "      <td>M</td>\n",
       "      <td>M</td>\n",
       "      <td>349992.0</td>\n",
       "      <td>1.0</td>\n",
       "      <td>TYPE-B</td>\n",
       "      <td>46</td>\n",
       "      <td>2</td>\n",
       "      <td>MONTHLY</td>\n",
       "      <td>1360477</td>\n",
       "      <td>1</td>\n",
       "      <td>20121130</td>\n",
       "    </tr>\n",
       "    <tr>\n",
       "      <th>...</th>\n",
       "      <td>...</td>\n",
       "      <td>...</td>\n",
       "      <td>...</td>\n",
       "      <td>...</td>\n",
       "      <td>...</td>\n",
       "      <td>...</td>\n",
       "      <td>...</td>\n",
       "      <td>...</td>\n",
       "      <td>...</td>\n",
       "      <td>...</td>\n",
       "      <td>...</td>\n",
       "      <td>...</td>\n",
       "      <td>...</td>\n",
       "      <td>...</td>\n",
       "    </tr>\n",
       "    <tr>\n",
       "      <th>8801</th>\n",
       "      <td>8801</td>\n",
       "      <td>12</td>\n",
       "      <td>100000.00</td>\n",
       "      <td>M</td>\n",
       "      <td>M</td>\n",
       "      <td>300000.0</td>\n",
       "      <td>2.0</td>\n",
       "      <td>TYPE-B</td>\n",
       "      <td>37</td>\n",
       "      <td>2</td>\n",
       "      <td>ANNUAL</td>\n",
       "      <td>1296622</td>\n",
       "      <td>1</td>\n",
       "      <td>20120806</td>\n",
       "    </tr>\n",
       "    <tr>\n",
       "      <th>8803</th>\n",
       "      <td>8803</td>\n",
       "      <td>49</td>\n",
       "      <td>100000.00</td>\n",
       "      <td>M</td>\n",
       "      <td>M</td>\n",
       "      <td>399996.0</td>\n",
       "      <td>1.0</td>\n",
       "      <td>TYPE-B</td>\n",
       "      <td>46</td>\n",
       "      <td>1</td>\n",
       "      <td>ANNUAL</td>\n",
       "      <td>841477</td>\n",
       "      <td>0</td>\n",
       "      <td>20100208</td>\n",
       "    </tr>\n",
       "    <tr>\n",
       "      <th>8804</th>\n",
       "      <td>8804</td>\n",
       "      <td>54</td>\n",
       "      <td>600001.16</td>\n",
       "      <td>M</td>\n",
       "      <td>M</td>\n",
       "      <td>2250000.0</td>\n",
       "      <td>2.0</td>\n",
       "      <td>TYPE-A</td>\n",
       "      <td>51</td>\n",
       "      <td>3</td>\n",
       "      <td>ANNUAL</td>\n",
       "      <td>1347855</td>\n",
       "      <td>0</td>\n",
       "      <td>20130331</td>\n",
       "    </tr>\n",
       "    <tr>\n",
       "      <th>8805</th>\n",
       "      <td>8805</td>\n",
       "      <td>27</td>\n",
       "      <td>100000.00</td>\n",
       "      <td>M</td>\n",
       "      <td>M</td>\n",
       "      <td>600000.0</td>\n",
       "      <td>1.0</td>\n",
       "      <td>TYPE-B</td>\n",
       "      <td>27</td>\n",
       "      <td>2</td>\n",
       "      <td>ANNUAL</td>\n",
       "      <td>798833</td>\n",
       "      <td>0</td>\n",
       "      <td>20100127</td>\n",
       "    </tr>\n",
       "    <tr>\n",
       "      <th>8806</th>\n",
       "      <td>8806</td>\n",
       "      <td>12</td>\n",
       "      <td>100000.80</td>\n",
       "      <td>M</td>\n",
       "      <td>M</td>\n",
       "      <td>2000004.0</td>\n",
       "      <td>1.0</td>\n",
       "      <td>TYPE-B</td>\n",
       "      <td>41</td>\n",
       "      <td>1</td>\n",
       "      <td>MONTHLY</td>\n",
       "      <td>664844</td>\n",
       "      <td>0</td>\n",
       "      <td>20100827</td>\n",
       "    </tr>\n",
       "  </tbody>\n",
       "</table>\n",
       "<p>6183 rows × 14 columns</p>\n",
       "</div>"
      ],
      "text/plain": [
       "        id  term        fee married gender     income  job package  age  \\\n",
       "0        0    22  100000.00       M      M   450000.0  1.0  TYPE-B   27   \n",
       "3        3    17  147576.48       M      F   450000.0  1.0  TYPE-A   47   \n",
       "4        4    39  100000.00       M      M   600000.0  1.0  TYPE-B   36   \n",
       "6        6    17  103016.16       S      M   999996.0  2.0  TYPE-A   35   \n",
       "9        9    12  300002.40       M      M   349992.0  1.0  TYPE-B   46   \n",
       "...    ...   ...        ...     ...    ...        ...  ...     ...  ...   \n",
       "8801  8801    12  100000.00       M      M   300000.0  2.0  TYPE-B   37   \n",
       "8803  8803    49  100000.00       M      M   399996.0  1.0  TYPE-B   46   \n",
       "8804  8804    54  600001.16       M      M  2250000.0  2.0  TYPE-A   51   \n",
       "8805  8805    27  100000.00       M      M   600000.0  1.0  TYPE-B   27   \n",
       "8806  8806    12  100000.80       M      M  2000004.0  1.0  TYPE-B   41   \n",
       "\n",
       "      family  payment    agent  target  start_date  \n",
       "0          1   ANNUAL   666099       0    20091029  \n",
       "3          3  MONTHLY   343344       0    20130331  \n",
       "4          3   ANNUAL   119199       0    20080313  \n",
       "6          0  MONTHLY   348099       0    20130930  \n",
       "9          2  MONTHLY  1360477       1    20121130  \n",
       "...      ...      ...      ...     ...         ...  \n",
       "8801       2   ANNUAL  1296622       1    20120806  \n",
       "8803       1   ANNUAL   841477       0    20100208  \n",
       "8804       3   ANNUAL  1347855       0    20130331  \n",
       "8805       2   ANNUAL   798833       0    20100127  \n",
       "8806       1  MONTHLY   664844       0    20100827  \n",
       "\n",
       "[6183 rows x 14 columns]"
      ]
     },
     "execution_count": 192,
     "metadata": {},
     "output_type": "execute_result"
    }
   ],
   "source": [
    "# 결측치가 있는 행 제거\n",
    "data.dropna(how='any')"
   ]
  },
  {
   "cell_type": "markdown",
   "metadata": {},
   "source": [
    "### 평균값 대체"
   ]
  },
  {
   "cell_type": "code",
   "execution_count": 193,
   "metadata": {},
   "outputs": [
    {
     "data": {
      "text/plain": [
       "income\n",
       "NaN          1469\n",
       "399996.0      518\n",
       "999996.0      512\n",
       "300000.0      489\n",
       "600000.0      458\n",
       "             ... \n",
       "209448.0        1\n",
       "520860.0        1\n",
       "161220.0        1\n",
       "341508.0        1\n",
       "2250000.0       1\n",
       "Name: count, Length: 720, dtype: int64"
      ]
     },
     "execution_count": 193,
     "metadata": {},
     "output_type": "execute_result"
    }
   ],
   "source": [
    "# income\n",
    "data['income'].value_counts(dropna=False)"
   ]
  },
  {
   "cell_type": "code",
   "execution_count": 194,
   "metadata": {},
   "outputs": [
    {
     "data": {
      "text/plain": [
       "16"
      ]
     },
     "execution_count": 194,
     "metadata": {},
     "output_type": "execute_result"
    }
   ],
   "source": [
    "# 결측치를 직업별 평균값으로 대체\n",
    "data['income'] = data['income'].fillna(data.groupby('job')['income'].transform('mean'))\n",
    "data['income'].isnull().sum() # 직업 결측치가 있기 때문에 결측치 16개 발생"
   ]
  },
  {
   "cell_type": "code",
   "execution_count": 195,
   "metadata": {},
   "outputs": [
    {
     "data": {
      "text/plain": [
       "0"
      ]
     },
     "execution_count": 195,
     "metadata": {},
     "output_type": "execute_result"
    }
   ],
   "source": [
    "# 결측치를 평균값으로 대체\n",
    "data['income'] = data['income'].fillna(data['income'].mean()) # 따라서 전체 평균값으로 대체\n",
    "data['income'].isnull().sum()"
   ]
  },
  {
   "cell_type": "markdown",
   "metadata": {},
   "source": [
    "### 로그 변환"
   ]
  },
  {
   "cell_type": "code",
   "execution_count": 196,
   "metadata": {},
   "outputs": [
    {
     "data": {
      "text/plain": [
       "<Axes: >"
      ]
     },
     "execution_count": 196,
     "metadata": {},
     "output_type": "execute_result"
    },
    {
     "data": {
      "image/png": "[encoded data removed]",
      "text/plain": [
       "<Figure size 640x480 with 1 Axes>"
      ]
     },
     "metadata": {},
     "output_type": "display_data"
    }
   ],
   "source": [
    "data['income'].plot(kind='box')"
   ]
  },
  {
   "cell_type": "code",
   "execution_count": 197,
   "metadata": {},
   "outputs": [
    {
     "data": {
      "text/plain": [
       "0       4.500000e+05\n",
       "1       5.447566e+05\n",
       "2       6.000000e+05\n",
       "3       4.500000e+05\n",
       "4       6.000000e+05\n",
       "            ...     \n",
       "8802    1.333332e+06\n",
       "8803    3.999960e+05\n",
       "8804    2.250000e+06\n",
       "8805    6.000000e+05\n",
       "8806    2.000004e+06\n",
       "Name: income, Length: 8807, dtype: float64"
      ]
     },
     "execution_count": 197,
     "metadata": {},
     "output_type": "execute_result"
    }
   ],
   "source": [
    "data['income']"
   ]
  },
  {
   "cell_type": "code",
   "execution_count": 198,
   "metadata": {},
   "outputs": [
    {
     "data": {
      "text/plain": [
       "<Axes: ylabel='Frequency'>"
      ]
     },
     "execution_count": 198,
     "metadata": {},
     "output_type": "execute_result"
    },
    {
     "data": {
      "image/png": "[encoded data removed]",
      "text/plain": [
       "<Figure size 640x480 with 1 Axes>"
      ]
     },
     "metadata": {},
     "output_type": "display_data"
    }
   ],
   "source": [
    "data['income'].plot(kind='hist')"
   ]
  },
  {
   "cell_type": "code",
   "execution_count": 199,
   "metadata": {},
   "outputs": [
    {
     "data": {
      "text/plain": [
       "(array([3.000e+00, 7.000e+00, 1.241e+03, 4.840e+03, 2.404e+03, 2.500e+02,\n",
       "        4.700e+01, 9.000e+00, 4.000e+00, 2.000e+00]),\n",
       " array([ 9.21004033, 10.36136288, 11.51268543, 12.66400798, 13.81533053,\n",
       "        14.96665308, 16.11797563, 17.26929818, 18.42062073, 19.57194328,\n",
       "        20.72326583]),\n",
       " <BarContainer object of 10 artists>)"
      ]
     },
     "execution_count": 199,
     "metadata": {},
     "output_type": "execute_result"
    },
    {
     "data": {
      "image/png": "[encoded data removed]",
      "text/plain": [
       "<Figure size 640x480 with 1 Axes>"
      ]
     },
     "metadata": {},
     "output_type": "display_data"
    }
   ],
   "source": [
    "plt.hist(np.log1p(data['income']))"
   ]
  },
  {
   "cell_type": "code",
   "execution_count": 200,
   "metadata": {},
   "outputs": [
    {
     "data": {
      "text/html": [
       "<div>\n",
       "<style scoped>\n",
       "    .dataframe tbody tr th:only-of-type {\n",
       "        vertical-align: middle;\n",
       "    }\n",
       "\n",
       "    .dataframe tbody tr th {\n",
       "        vertical-align: top;\n",
       "    }\n",
       "\n",
       "    .dataframe thead th {\n",
       "        text-align: right;\n",
       "    }\n",
       "</style>\n",
       "<table border=\"1\" class=\"dataframe\">\n",
       "  <thead>\n",
       "    <tr style=\"text-align: right;\">\n",
       "      <th></th>\n",
       "      <th>id</th>\n",
       "      <th>term</th>\n",
       "      <th>fee</th>\n",
       "      <th>married</th>\n",
       "      <th>gender</th>\n",
       "      <th>income</th>\n",
       "      <th>job</th>\n",
       "      <th>package</th>\n",
       "      <th>age</th>\n",
       "      <th>family</th>\n",
       "      <th>payment</th>\n",
       "      <th>agent</th>\n",
       "      <th>target</th>\n",
       "      <th>start_date</th>\n",
       "      <th>income_log</th>\n",
       "    </tr>\n",
       "  </thead>\n",
       "  <tbody>\n",
       "    <tr>\n",
       "      <th>0</th>\n",
       "      <td>0</td>\n",
       "      <td>22</td>\n",
       "      <td>100000.00</td>\n",
       "      <td>M</td>\n",
       "      <td>M</td>\n",
       "      <td>450000.000000</td>\n",
       "      <td>1.0</td>\n",
       "      <td>TYPE-B</td>\n",
       "      <td>27</td>\n",
       "      <td>1</td>\n",
       "      <td>ANNUAL</td>\n",
       "      <td>666099</td>\n",
       "      <td>0</td>\n",
       "      <td>20091029</td>\n",
       "      <td>13.017005</td>\n",
       "    </tr>\n",
       "    <tr>\n",
       "      <th>1</th>\n",
       "      <td>1</td>\n",
       "      <td>88</td>\n",
       "      <td>149029.58</td>\n",
       "      <td>NaN</td>\n",
       "      <td>M</td>\n",
       "      <td>544756.571429</td>\n",
       "      <td>6.0</td>\n",
       "      <td>TYPE-A</td>\n",
       "      <td>75</td>\n",
       "      <td>0</td>\n",
       "      <td>ANNUAL</td>\n",
       "      <td>132000</td>\n",
       "      <td>0</td>\n",
       "      <td>20131014</td>\n",
       "      <td>13.208096</td>\n",
       "    </tr>\n",
       "    <tr>\n",
       "      <th>2</th>\n",
       "      <td>2</td>\n",
       "      <td>93</td>\n",
       "      <td>102999.94</td>\n",
       "      <td>NaN</td>\n",
       "      <td>M</td>\n",
       "      <td>600000.000000</td>\n",
       "      <td>1.0</td>\n",
       "      <td>TYPE-A</td>\n",
       "      <td>49</td>\n",
       "      <td>0</td>\n",
       "      <td>ANNUAL</td>\n",
       "      <td>1407177</td>\n",
       "      <td>0</td>\n",
       "      <td>20130531</td>\n",
       "      <td>13.304687</td>\n",
       "    </tr>\n",
       "    <tr>\n",
       "      <th>3</th>\n",
       "      <td>3</td>\n",
       "      <td>17</td>\n",
       "      <td>147576.48</td>\n",
       "      <td>M</td>\n",
       "      <td>F</td>\n",
       "      <td>450000.000000</td>\n",
       "      <td>1.0</td>\n",
       "      <td>TYPE-A</td>\n",
       "      <td>47</td>\n",
       "      <td>3</td>\n",
       "      <td>MONTHLY</td>\n",
       "      <td>343344</td>\n",
       "      <td>0</td>\n",
       "      <td>20130331</td>\n",
       "      <td>13.017005</td>\n",
       "    </tr>\n",
       "    <tr>\n",
       "      <th>4</th>\n",
       "      <td>4</td>\n",
       "      <td>39</td>\n",
       "      <td>100000.00</td>\n",
       "      <td>M</td>\n",
       "      <td>M</td>\n",
       "      <td>600000.000000</td>\n",
       "      <td>1.0</td>\n",
       "      <td>TYPE-B</td>\n",
       "      <td>36</td>\n",
       "      <td>3</td>\n",
       "      <td>ANNUAL</td>\n",
       "      <td>119199</td>\n",
       "      <td>0</td>\n",
       "      <td>20080313</td>\n",
       "      <td>13.304687</td>\n",
       "    </tr>\n",
       "  </tbody>\n",
       "</table>\n",
       "</div>"
      ],
      "text/plain": [
       "   id  term        fee married gender         income  job package  age  \\\n",
       "0   0    22  100000.00       M      M  450000.000000  1.0  TYPE-B   27   \n",
       "1   1    88  149029.58     NaN      M  544756.571429  6.0  TYPE-A   75   \n",
       "2   2    93  102999.94     NaN      M  600000.000000  1.0  TYPE-A   49   \n",
       "3   3    17  147576.48       M      F  450000.000000  1.0  TYPE-A   47   \n",
       "4   4    39  100000.00       M      M  600000.000000  1.0  TYPE-B   36   \n",
       "\n",
       "   family  payment    agent  target  start_date  income_log  \n",
       "0       1   ANNUAL   666099       0    20091029   13.017005  \n",
       "1       0   ANNUAL   132000       0    20131014   13.208096  \n",
       "2       0   ANNUAL  1407177       0    20130531   13.304687  \n",
       "3       3  MONTHLY   343344       0    20130331   13.017005  \n",
       "4       3   ANNUAL   119199       0    20080313   13.304687  "
      ]
     },
     "execution_count": 200,
     "metadata": {},
     "output_type": "execute_result"
    }
   ],
   "source": [
    "data['income_log'] = np.log1p(data['income'])\n",
    "data.head()\n",
    "# start_date : 날짜로 인식할수 있게 to_datetime 으로 변환하거나 가입 후 지난 날짜를 계산한 변수로 변경"
   ]
  },
  {
   "cell_type": "markdown",
   "metadata": {},
   "source": [
    "### 최빈값 대체"
   ]
  },
  {
   "cell_type": "code",
   "execution_count": 201,
   "metadata": {},
   "outputs": [
    {
     "data": {
      "text/plain": [
       "gender\n",
       "M      6249\n",
       "F      2056\n",
       "NaN     502\n",
       "Name: count, dtype: int64"
      ]
     },
     "execution_count": 201,
     "metadata": {},
     "output_type": "execute_result"
    }
   ],
   "source": [
    "data['gender'].value_counts(dropna=False)"
   ]
  },
  {
   "cell_type": "code",
   "execution_count": 202,
   "metadata": {},
   "outputs": [
    {
     "data": {
      "text/plain": [
       "'M'"
      ]
     },
     "execution_count": 202,
     "metadata": {},
     "output_type": "execute_result"
    }
   ],
   "source": [
    "data['gender'].mode()[0]"
   ]
  },
  {
   "cell_type": "code",
   "execution_count": 203,
   "metadata": {},
   "outputs": [
    {
     "data": {
      "text/plain": [
       "married\n",
       "M      5455\n",
       "NaN    2210\n",
       "S       977\n",
       "W       128\n",
       "D        37\n",
       "Name: count, dtype: int64"
      ]
     },
     "execution_count": 203,
     "metadata": {},
     "output_type": "execute_result"
    }
   ],
   "source": [
    "data['married'].value_counts(dropna=False)"
   ]
  },
  {
   "cell_type": "code",
   "execution_count": 204,
   "metadata": {},
   "outputs": [
    {
     "data": {
      "text/plain": [
       "'M'"
      ]
     },
     "execution_count": 204,
     "metadata": {},
     "output_type": "execute_result"
    }
   ],
   "source": [
    "data['married'].mode()[0]"
   ]
  },
  {
   "cell_type": "code",
   "execution_count": 205,
   "metadata": {},
   "outputs": [
    {
     "data": {
      "text/plain": [
       "id             0\n",
       "term           0\n",
       "fee            0\n",
       "married        0\n",
       "gender         0\n",
       "income         0\n",
       "job           34\n",
       "package        0\n",
       "age            0\n",
       "family         0\n",
       "payment        0\n",
       "agent          0\n",
       "target         0\n",
       "start_date     0\n",
       "income_log     0\n",
       "dtype: int64"
      ]
     },
     "execution_count": 205,
     "metadata": {},
     "output_type": "execute_result"
    }
   ],
   "source": [
    "data['gender'] = data['gender'].fillna(data['gender'].mode()[0])\n",
    "data['married'] = data['married'].fillna(data['married'].mode()[0])\n",
    "\n",
    "data.isnull().sum()"
   ]
  },
  {
   "cell_type": "markdown",
   "metadata": {},
   "source": [
    "### 결측값을 별도로 표시"
   ]
  },
  {
   "cell_type": "code",
   "execution_count": 206,
   "metadata": {},
   "outputs": [
    {
     "data": {
      "text/plain": [
       "0       False\n",
       "1       False\n",
       "2       False\n",
       "3       False\n",
       "4       False\n",
       "        ...  \n",
       "8802    False\n",
       "8803    False\n",
       "8804    False\n",
       "8805    False\n",
       "8806    False\n",
       "Name: job, Length: 8807, dtype: bool"
      ]
     },
     "execution_count": 206,
     "metadata": {},
     "output_type": "execute_result"
    }
   ],
   "source": [
    "# job\n",
    "data['job'].isnull()"
   ]
  },
  {
   "cell_type": "code",
   "execution_count": 207,
   "metadata": {},
   "outputs": [
    {
     "data": {
      "text/plain": [
       "id            0\n",
       "term          0\n",
       "fee           0\n",
       "married       0\n",
       "gender        0\n",
       "income        0\n",
       "job           0\n",
       "package       0\n",
       "age           0\n",
       "family        0\n",
       "payment       0\n",
       "agent         0\n",
       "target        0\n",
       "start_date    0\n",
       "income_log    0\n",
       "isna_job      0\n",
       "dtype: int64"
      ]
     },
     "execution_count": 207,
     "metadata": {},
     "output_type": "execute_result"
    }
   ],
   "source": [
    "data['isna_job'] = data['job'].isnull()\n",
    "data['job'] = data['job'].fillna('etc')\n",
    "\n",
    "# data = data.dropna(subset=['job'], how='any')\n",
    "data.isnull().sum()"
   ]
  },
  {
   "cell_type": "markdown",
   "metadata": {},
   "source": [
    "### Label Encoding"
   ]
  },
  {
   "cell_type": "code",
   "execution_count": 208,
   "metadata": {},
   "outputs": [
    {
     "data": {
      "text/plain": [
       "['id',\n",
       " 'term',\n",
       " 'fee',\n",
       " 'income',\n",
       " 'age',\n",
       " 'family',\n",
       " 'target',\n",
       " 'start_date',\n",
       " 'income_log',\n",
       " 'isna_job']"
      ]
     },
     "execution_count": 208,
     "metadata": {},
     "output_type": "execute_result"
    }
   ],
   "source": [
    "# 숫자형 변수\n",
    "numeric_features = []\n",
    "for col in data.columns:\n",
    "    if data[col].dtype != 'object':\n",
    "        numeric_features.append(col)\n",
    "        \n",
    "numeric_features        "
   ]
  },
  {
   "cell_type": "code",
   "execution_count": 209,
   "metadata": {},
   "outputs": [
    {
     "data": {
      "text/plain": [
       "['married', 'gender', 'job', 'package', 'payment', 'agent']"
      ]
     },
     "execution_count": 209,
     "metadata": {},
     "output_type": "execute_result"
    }
   ],
   "source": [
    "# 범주형 변수\n",
    "categorical_features = []\n",
    "for col in data.columns:\n",
    "    if data[col].dtype == 'O':\n",
    "        categorical_features.append(col)\n",
    "        \n",
    "categorical_features"
   ]
  },
  {
   "cell_type": "code",
   "execution_count": 210,
   "metadata": {},
   "outputs": [
    {
     "data": {
      "text/html": [
       "<div>\n",
       "<style scoped>\n",
       "    .dataframe tbody tr th:only-of-type {\n",
       "        vertical-align: middle;\n",
       "    }\n",
       "\n",
       "    .dataframe tbody tr th {\n",
       "        vertical-align: top;\n",
       "    }\n",
       "\n",
       "    .dataframe thead th {\n",
       "        text-align: right;\n",
       "    }\n",
       "</style>\n",
       "<table border=\"1\" class=\"dataframe\">\n",
       "  <thead>\n",
       "    <tr style=\"text-align: right;\">\n",
       "      <th></th>\n",
       "      <th>id</th>\n",
       "      <th>term</th>\n",
       "      <th>fee</th>\n",
       "      <th>married</th>\n",
       "      <th>gender</th>\n",
       "      <th>income</th>\n",
       "      <th>job</th>\n",
       "      <th>package</th>\n",
       "      <th>age</th>\n",
       "      <th>family</th>\n",
       "      <th>payment</th>\n",
       "      <th>agent</th>\n",
       "      <th>target</th>\n",
       "      <th>start_date</th>\n",
       "      <th>income_log</th>\n",
       "      <th>isna_job</th>\n",
       "    </tr>\n",
       "  </thead>\n",
       "  <tbody>\n",
       "    <tr>\n",
       "      <th>0</th>\n",
       "      <td>0</td>\n",
       "      <td>22</td>\n",
       "      <td>100000.00</td>\n",
       "      <td>1</td>\n",
       "      <td>1</td>\n",
       "      <td>450000.000000</td>\n",
       "      <td>0</td>\n",
       "      <td>1</td>\n",
       "      <td>27</td>\n",
       "      <td>1</td>\n",
       "      <td>0</td>\n",
       "      <td>3055</td>\n",
       "      <td>0</td>\n",
       "      <td>20091029</td>\n",
       "      <td>13.017005</td>\n",
       "      <td>False</td>\n",
       "    </tr>\n",
       "    <tr>\n",
       "      <th>1</th>\n",
       "      <td>1</td>\n",
       "      <td>88</td>\n",
       "      <td>149029.58</td>\n",
       "      <td>1</td>\n",
       "      <td>1</td>\n",
       "      <td>544756.571429</td>\n",
       "      <td>5</td>\n",
       "      <td>0</td>\n",
       "      <td>75</td>\n",
       "      <td>0</td>\n",
       "      <td>0</td>\n",
       "      <td>1078</td>\n",
       "      <td>0</td>\n",
       "      <td>20131014</td>\n",
       "      <td>13.208096</td>\n",
       "      <td>False</td>\n",
       "    </tr>\n",
       "    <tr>\n",
       "      <th>2</th>\n",
       "      <td>2</td>\n",
       "      <td>93</td>\n",
       "      <td>102999.94</td>\n",
       "      <td>1</td>\n",
       "      <td>1</td>\n",
       "      <td>600000.000000</td>\n",
       "      <td>0</td>\n",
       "      <td>0</td>\n",
       "      <td>49</td>\n",
       "      <td>0</td>\n",
       "      <td>0</td>\n",
       "      <td>1460</td>\n",
       "      <td>0</td>\n",
       "      <td>20130531</td>\n",
       "      <td>13.304687</td>\n",
       "      <td>False</td>\n",
       "    </tr>\n",
       "    <tr>\n",
       "      <th>3</th>\n",
       "      <td>3</td>\n",
       "      <td>17</td>\n",
       "      <td>147576.48</td>\n",
       "      <td>1</td>\n",
       "      <td>0</td>\n",
       "      <td>450000.000000</td>\n",
       "      <td>0</td>\n",
       "      <td>0</td>\n",
       "      <td>47</td>\n",
       "      <td>3</td>\n",
       "      <td>1</td>\n",
       "      <td>2204</td>\n",
       "      <td>0</td>\n",
       "      <td>20130331</td>\n",
       "      <td>13.017005</td>\n",
       "      <td>False</td>\n",
       "    </tr>\n",
       "    <tr>\n",
       "      <th>4</th>\n",
       "      <td>4</td>\n",
       "      <td>39</td>\n",
       "      <td>100000.00</td>\n",
       "      <td>1</td>\n",
       "      <td>1</td>\n",
       "      <td>600000.000000</td>\n",
       "      <td>0</td>\n",
       "      <td>1</td>\n",
       "      <td>36</td>\n",
       "      <td>3</td>\n",
       "      <td>0</td>\n",
       "      <td>494</td>\n",
       "      <td>0</td>\n",
       "      <td>20080313</td>\n",
       "      <td>13.304687</td>\n",
       "      <td>False</td>\n",
       "    </tr>\n",
       "  </tbody>\n",
       "</table>\n",
       "</div>"
      ],
      "text/plain": [
       "   id  term        fee  married  gender         income  job  package  age  \\\n",
       "0   0    22  100000.00        1       1  450000.000000    0        1   27   \n",
       "1   1    88  149029.58        1       1  544756.571429    5        0   75   \n",
       "2   2    93  102999.94        1       1  600000.000000    0        0   49   \n",
       "3   3    17  147576.48        1       0  450000.000000    0        0   47   \n",
       "4   4    39  100000.00        1       1  600000.000000    0        1   36   \n",
       "\n",
       "   family  payment  agent  target  start_date  income_log  isna_job  \n",
       "0       1        0   3055       0    20091029   13.017005     False  \n",
       "1       0        0   1078       0    20131014   13.208096     False  \n",
       "2       0        0   1460       0    20130531   13.304687     False  \n",
       "3       3        1   2204       0    20130331   13.017005     False  \n",
       "4       3        0    494       0    20080313   13.304687     False  "
      ]
     },
     "execution_count": 210,
     "metadata": {},
     "output_type": "execute_result"
    }
   ],
   "source": [
    "# 범주형 변수 레이블 인코딩\n",
    "from sklearn.preprocessing import LabelEncoder\n",
    "\n",
    "le = LabelEncoder()\n",
    "for col in categorical_features:\n",
    "\n",
    "    data[col] = data[col].astype(str).astype('category')\n",
    "    data[col] = le.fit_transform(data[col])\n",
    "\n",
    "data.head()"
   ]
  },
  {
   "cell_type": "markdown",
   "metadata": {},
   "source": [
    "### Feature 선택"
   ]
  },
  {
   "cell_type": "code",
   "execution_count": 211,
   "metadata": {},
   "outputs": [
    {
     "data": {
      "text/plain": [
       "Index(['id', 'term', 'fee', 'married', 'gender', 'income', 'job', 'package',\n",
       "       'age', 'family', 'payment', 'agent', 'target', 'start_date',\n",
       "       'income_log', 'isna_job'],\n",
       "      dtype='object')"
      ]
     },
     "execution_count": 211,
     "metadata": {},
     "output_type": "execute_result"
    }
   ],
   "source": [
    "data.columns"
   ]
  },
  {
   "cell_type": "code",
   "execution_count": 212,
   "metadata": {},
   "outputs": [
    {
     "name": "stdout",
     "output_type": "stream",
     "text": [
      "(8807, 11) (8807,)\n"
     ]
    }
   ],
   "source": [
    "selected_features = ['term', 'fee', 'married', 'gender', 'job', 'package',\n",
    "       'age', 'family', 'payment', 'income_log', 'isna_job']\n",
    "\n",
    "X = data.loc[:, selected_features].copy()\n",
    "y = data.loc[:, 'target'].copy()\n",
    "\n",
    "print(X.shape, y.shape)"
   ]
  },
  {
   "cell_type": "code",
   "execution_count": 213,
   "metadata": {},
   "outputs": [
    {
     "data": {
      "text/plain": [
       "term          0\n",
       "fee           0\n",
       "married       0\n",
       "gender        0\n",
       "job           0\n",
       "package       0\n",
       "age           0\n",
       "family        0\n",
       "payment       0\n",
       "income_log    0\n",
       "isna_job      0\n",
       "dtype: int64"
      ]
     },
     "execution_count": 213,
     "metadata": {},
     "output_type": "execute_result"
    }
   ],
   "source": [
    "X.isnull().sum()"
   ]
  },
  {
   "cell_type": "markdown",
   "metadata": {},
   "source": [
    "### Train-Test 데이터셋 분할"
   ]
  },
  {
   "cell_type": "code",
   "execution_count": 214,
   "metadata": {},
   "outputs": [
    {
     "name": "stdout",
     "output_type": "stream",
     "text": [
      "훈련 데이터셋:  (7045, 11) (7045,)\n",
      "검증 데이터셋:  (1762, 11) (1762,)\n"
     ]
    }
   ],
   "source": [
    "from sklearn.model_selection import train_test_split\n",
    "X_tr, X_val, y_tr, y_val =  train_test_split(X, y, test_size=0.2, stratify=y, random_state=42)\n",
    "\n",
    "print(\"훈련 데이터셋: \", X_tr.shape, y_tr.shape)\n",
    "print(\"검증 데이터셋: \", X_val.shape, y_val.shape)"
   ]
  },
  {
   "cell_type": "markdown",
   "metadata": {},
   "source": [
    "### 모델 학습 및 평가"
   ]
  },
  {
   "cell_type": "markdown",
   "metadata": {},
   "source": [
    "### 로지스틱 회귀\n",
    "\n",
    "- 로지스틱 회귀 알고리즘\n",
    "\n",
    "    - 선형 회귀처럼 입력 변수들의 선형 결합을 사용한다.\n",
    "\n",
    "    - 선형 회귀와 달리 로지스틱 회귀는 예측값 z 를 그대로 사용하지 않고, 시그모이드 함수를 통해 확률값으로 변환한다.\n",
    "\n",
    "    - 확률값 0.5 를 기준으로 이보다 크면 1, 작으면 0 으로 분류한다.\n",
    "\n",
    "$$\n",
    "z = \\beta_0 + \\beta_1 x_1 + \\beta_2 x_2 + \\dots + \\beta_n x_n\n",
    "$$\n",
    "\n",
    "- 로지스틱 회귀 특징\n",
    "\n",
    "    - 비선형 데이터와 대량 데이터에는 적합하지 않다.\n",
    "\n",
    "    - 독립 변수들 간의 상관관계가 높을 경우 가중치 추정이 불안정해질 수 있다."
   ]
  },
  {
   "cell_type": "code",
   "execution_count": 215,
   "metadata": {},
   "outputs": [
    {
     "data": {
      "text/html": [
       "<style>#sk-container-id-4 {\n",
       "  /* Definition of color scheme common for light and dark mode */\n",
       "  --sklearn-color-text: #000;\n",
       "  --sklearn-color-text-muted: #666;\n",
       "  --sklearn-color-line: gray;\n",
       "  /* Definition of color scheme for unfitted estimators */\n",
       "  --sklearn-color-unfitted-level-0: #fff5e6;\n",
       "  --sklearn-color-unfitted-level-1: #f6e4d2;\n",
       "  --sklearn-color-unfitted-level-2: #ffe0b3;\n",
       "  --sklearn-color-unfitted-level-3: chocolate;\n",
       "  /* Definition of color scheme for fitted estimators */\n",
       "  --sklearn-color-fitted-level-0: #f0f8ff;\n",
       "  --sklearn-color-fitted-level-1: #d4ebff;\n",
       "  --sklearn-color-fitted-level-2: #b3dbfd;\n",
       "  --sklearn-color-fitted-level-3: cornflowerblue;\n",
       "\n",
       "  /* Specific color for light theme */\n",
       "  --sklearn-color-text-on-default-background: var(--sg-text-color, var(--theme-code-foreground, var(--jp-content-font-color1, black)));\n",
       "  --sklearn-color-background: var(--sg-background-color, var(--theme-background, var(--jp-layout-color0, white)));\n",
       "  --sklearn-color-border-box: var(--sg-text-color, var(--theme-code-foreground, var(--jp-content-font-color1, black)));\n",
       "  --sklearn-color-icon: #696969;\n",
       "\n",
       "  @media (prefers-color-scheme: dark) {\n",
       "    /* Redefinition of color scheme for dark theme */\n",
       "    --sklearn-color-text-on-default-background: var(--sg-text-color, var(--theme-code-foreground, var(--jp-content-font-color1, white)));\n",
       "    --sklearn-color-background: var(--sg-background-color, var(--theme-background, var(--jp-layout-color0, #111)));\n",
       "    --sklearn-color-border-box: var(--sg-text-color, var(--theme-code-foreground, var(--jp-content-font-color1, white)));\n",
       "    --sklearn-color-icon: #878787;\n",
       "  }\n",
       "}\n",
       "\n",
       "#sk-container-id-4 {\n",
       "  color: var(--sklearn-color-text);\n",
       "}\n",
       "\n",
       "#sk-container-id-4 pre {\n",
       "  padding: 0;\n",
       "}\n",
       "\n",
       "#sk-container-id-4 input.sk-hidden--visually {\n",
       "  border: 0;\n",
       "  clip: rect(1px 1px 1px 1px);\n",
       "  clip: rect(1px, 1px, 1px, 1px);\n",
       "  height: 1px;\n",
       "  margin: -1px;\n",
       "  overflow: hidden;\n",
       "  padding: 0;\n",
       "  position: absolute;\n",
       "  width: 1px;\n",
       "}\n",
       "\n",
       "#sk-container-id-4 div.sk-dashed-wrapped {\n",
       "  border: 1px dashed var(--sklearn-color-line);\n",
       "  margin: 0 0.4em 0.5em 0.4em;\n",
       "  box-sizing: border-box;\n",
       "  padding-bottom: 0.4em;\n",
       "  background-color: var(--sklearn-color-background);\n",
       "}\n",
       "\n",
       "#sk-container-id-4 div.sk-container {\n",
       "  /* jupyter's `normalize.less` sets `[hidden] { display: none; }`\n",
       "     but bootstrap.min.css set `[hidden] { display: none !important; }`\n",
       "     so we also need the `!important` here to be able to override the\n",
       "     default hidden behavior on the sphinx rendered scikit-learn.org.\n",
       "     See: https://github.com/scikit-learn/scikit-learn/issues/21755 */\n",
       "  display: inline-block !important;\n",
       "  position: relative;\n",
       "}\n",
       "\n",
       "#sk-container-id-4 div.sk-text-repr-fallback {\n",
       "  display: none;\n",
       "}\n",
       "\n",
       "div.sk-parallel-item,\n",
       "div.sk-serial,\n",
       "div.sk-item {\n",
       "  /* draw centered vertical line to link estimators */\n",
       "  background-image: linear-gradient(var(--sklearn-color-text-on-default-background), var(--sklearn-color-text-on-default-background));\n",
       "  background-size: 2px 100%;\n",
       "  background-repeat: no-repeat;\n",
       "  background-position: center center;\n",
       "}\n",
       "\n",
       "/* Parallel-specific style estimator block */\n",
       "\n",
       "#sk-container-id-4 div.sk-parallel-item::after {\n",
       "  content: \"\";\n",
       "  width: 100%;\n",
       "  border-bottom: 2px solid var(--sklearn-color-text-on-default-background);\n",
       "  flex-grow: 1;\n",
       "}\n",
       "\n",
       "#sk-container-id-4 div.sk-parallel {\n",
       "  display: flex;\n",
       "  align-items: stretch;\n",
       "  justify-content: center;\n",
       "  background-color: var(--sklearn-color-background);\n",
       "  position: relative;\n",
       "}\n",
       "\n",
       "#sk-container-id-4 div.sk-parallel-item {\n",
       "  display: flex;\n",
       "  flex-direction: column;\n",
       "}\n",
       "\n",
       "#sk-container-id-4 div.sk-parallel-item:first-child::after {\n",
       "  align-self: flex-end;\n",
       "  width: 50%;\n",
       "}\n",
       "\n",
       "#sk-container-id-4 div.sk-parallel-item:last-child::after {\n",
       "  align-self: flex-start;\n",
       "  width: 50%;\n",
       "}\n",
       "\n",
       "#sk-container-id-4 div.sk-parallel-item:only-child::after {\n",
       "  width: 0;\n",
       "}\n",
       "\n",
       "/* Serial-specific style estimator block */\n",
       "\n",
       "#sk-container-id-4 div.sk-serial {\n",
       "  display: flex;\n",
       "  flex-direction: column;\n",
       "  align-items: center;\n",
       "  background-color: var(--sklearn-color-background);\n",
       "  padding-right: 1em;\n",
       "  padding-left: 1em;\n",
       "}\n",
       "\n",
       "\n",
       "/* Toggleable style: style used for estimator/Pipeline/ColumnTransformer box that is\n",
       "clickable and can be expanded/collapsed.\n",
       "- Pipeline and ColumnTransformer use this feature and define the default style\n",
       "- Estimators will overwrite some part of the style using the `sk-estimator` class\n",
       "*/\n",
       "\n",
       "/* Pipeline and ColumnTransformer style (default) */\n",
       "\n",
       "#sk-container-id-4 div.sk-toggleable {\n",
       "  /* Default theme specific background. It is overwritten whether we have a\n",
       "  specific estimator or a Pipeline/ColumnTransformer */\n",
       "  background-color: var(--sklearn-color-background);\n",
       "}\n",
       "\n",
       "/* Toggleable label */\n",
       "#sk-container-id-4 label.sk-toggleable__label {\n",
       "  cursor: pointer;\n",
       "  display: flex;\n",
       "  width: 100%;\n",
       "  margin-bottom: 0;\n",
       "  padding: 0.5em;\n",
       "  box-sizing: border-box;\n",
       "  text-align: center;\n",
       "  align-items: start;\n",
       "  justify-content: space-between;\n",
       "  gap: 0.5em;\n",
       "}\n",
       "\n",
       "#sk-container-id-4 label.sk-toggleable__label .caption {\n",
       "  font-size: 0.6rem;\n",
       "  font-weight: lighter;\n",
       "  color: var(--sklearn-color-text-muted);\n",
       "}\n",
       "\n",
       "#sk-container-id-4 label.sk-toggleable__label-arrow:before {\n",
       "  /* Arrow on the left of the label */\n",
       "  content: \"▸\";\n",
       "  float: left;\n",
       "  margin-right: 0.25em;\n",
       "  color: var(--sklearn-color-icon);\n",
       "}\n",
       "\n",
       "#sk-container-id-4 label.sk-toggleable__label-arrow:hover:before {\n",
       "  color: var(--sklearn-color-text);\n",
       "}\n",
       "\n",
       "/* Toggleable content - dropdown */\n",
       "\n",
       "#sk-container-id-4 div.sk-toggleable__content {\n",
       "  max-height: 0;\n",
       "  max-width: 0;\n",
       "  overflow: hidden;\n",
       "  text-align: left;\n",
       "  /* unfitted */\n",
       "  background-color: var(--sklearn-color-unfitted-level-0);\n",
       "}\n",
       "\n",
       "#sk-container-id-4 div.sk-toggleable__content.fitted {\n",
       "  /* fitted */\n",
       "  background-color: var(--sklearn-color-fitted-level-0);\n",
       "}\n",
       "\n",
       "#sk-container-id-4 div.sk-toggleable__content pre {\n",
       "  margin: 0.2em;\n",
       "  border-radius: 0.25em;\n",
       "  color: var(--sklearn-color-text);\n",
       "  /* unfitted */\n",
       "  background-color: var(--sklearn-color-unfitted-level-0);\n",
       "}\n",
       "\n",
       "#sk-container-id-4 div.sk-toggleable__content.fitted pre {\n",
       "  /* unfitted */\n",
       "  background-color: var(--sklearn-color-fitted-level-0);\n",
       "}\n",
       "\n",
       "#sk-container-id-4 input.sk-toggleable__control:checked~div.sk-toggleable__content {\n",
       "  /* Expand drop-down */\n",
       "  max-height: 200px;\n",
       "  max-width: 100%;\n",
       "  overflow: auto;\n",
       "}\n",
       "\n",
       "#sk-container-id-4 input.sk-toggleable__control:checked~label.sk-toggleable__label-arrow:before {\n",
       "  content: \"▾\";\n",
       "}\n",
       "\n",
       "/* Pipeline/ColumnTransformer-specific style */\n",
       "\n",
       "#sk-container-id-4 div.sk-label input.sk-toggleable__control:checked~label.sk-toggleable__label {\n",
       "  color: var(--sklearn-color-text);\n",
       "  background-color: var(--sklearn-color-unfitted-level-2);\n",
       "}\n",
       "\n",
       "#sk-container-id-4 div.sk-label.fitted input.sk-toggleable__control:checked~label.sk-toggleable__label {\n",
       "  background-color: var(--sklearn-color-fitted-level-2);\n",
       "}\n",
       "\n",
       "/* Estimator-specific style */\n",
       "\n",
       "/* Colorize estimator box */\n",
       "#sk-container-id-4 div.sk-estimator input.sk-toggleable__control:checked~label.sk-toggleable__label {\n",
       "  /* unfitted */\n",
       "  background-color: var(--sklearn-color-unfitted-level-2);\n",
       "}\n",
       "\n",
       "#sk-container-id-4 div.sk-estimator.fitted input.sk-toggleable__control:checked~label.sk-toggleable__label {\n",
       "  /* fitted */\n",
       "  background-color: var(--sklearn-color-fitted-level-2);\n",
       "}\n",
       "\n",
       "#sk-container-id-4 div.sk-label label.sk-toggleable__label,\n",
       "#sk-container-id-4 div.sk-label label {\n",
       "  /* The background is the default theme color */\n",
       "  color: var(--sklearn-color-text-on-default-background);\n",
       "}\n",
       "\n",
       "/* On hover, darken the color of the background */\n",
       "#sk-container-id-4 div.sk-label:hover label.sk-toggleable__label {\n",
       "  color: var(--sklearn-color-text);\n",
       "  background-color: var(--sklearn-color-unfitted-level-2);\n",
       "}\n",
       "\n",
       "/* Label box, darken color on hover, fitted */\n",
       "#sk-container-id-4 div.sk-label.fitted:hover label.sk-toggleable__label.fitted {\n",
       "  color: var(--sklearn-color-text);\n",
       "  background-color: var(--sklearn-color-fitted-level-2);\n",
       "}\n",
       "\n",
       "/* Estimator label */\n",
       "\n",
       "#sk-container-id-4 div.sk-label label {\n",
       "  font-family: monospace;\n",
       "  font-weight: bold;\n",
       "  display: inline-block;\n",
       "  line-height: 1.2em;\n",
       "}\n",
       "\n",
       "#sk-container-id-4 div.sk-label-container {\n",
       "  text-align: center;\n",
       "}\n",
       "\n",
       "/* Estimator-specific */\n",
       "#sk-container-id-4 div.sk-estimator {\n",
       "  font-family: monospace;\n",
       "  border: 1px dotted var(--sklearn-color-border-box);\n",
       "  border-radius: 0.25em;\n",
       "  box-sizing: border-box;\n",
       "  margin-bottom: 0.5em;\n",
       "  /* unfitted */\n",
       "  background-color: var(--sklearn-color-unfitted-level-0);\n",
       "}\n",
       "\n",
       "#sk-container-id-4 div.sk-estimator.fitted {\n",
       "  /* fitted */\n",
       "  background-color: var(--sklearn-color-fitted-level-0);\n",
       "}\n",
       "\n",
       "/* on hover */\n",
       "#sk-container-id-4 div.sk-estimator:hover {\n",
       "  /* unfitted */\n",
       "  background-color: var(--sklearn-color-unfitted-level-2);\n",
       "}\n",
       "\n",
       "#sk-container-id-4 div.sk-estimator.fitted:hover {\n",
       "  /* fitted */\n",
       "  background-color: var(--sklearn-color-fitted-level-2);\n",
       "}\n",
       "\n",
       "/* Specification for estimator info (e.g. \"i\" and \"?\") */\n",
       "\n",
       "/* Common style for \"i\" and \"?\" */\n",
       "\n",
       ".sk-estimator-doc-link,\n",
       "a:link.sk-estimator-doc-link,\n",
       "a:visited.sk-estimator-doc-link {\n",
       "  float: right;\n",
       "  font-size: smaller;\n",
       "  line-height: 1em;\n",
       "  font-family: monospace;\n",
       "  background-color: var(--sklearn-color-background);\n",
       "  border-radius: 1em;\n",
       "  height: 1em;\n",
       "  width: 1em;\n",
       "  text-decoration: none !important;\n",
       "  margin-left: 0.5em;\n",
       "  text-align: center;\n",
       "  /* unfitted */\n",
       "  border: var(--sklearn-color-unfitted-level-1) 1pt solid;\n",
       "  color: var(--sklearn-color-unfitted-level-1);\n",
       "}\n",
       "\n",
       ".sk-estimator-doc-link.fitted,\n",
       "a:link.sk-estimator-doc-link.fitted,\n",
       "a:visited.sk-estimator-doc-link.fitted {\n",
       "  /* fitted */\n",
       "  border: var(--sklearn-color-fitted-level-1) 1pt solid;\n",
       "  color: var(--sklearn-color-fitted-level-1);\n",
       "}\n",
       "\n",
       "/* On hover */\n",
       "div.sk-estimator:hover .sk-estimator-doc-link:hover,\n",
       ".sk-estimator-doc-link:hover,\n",
       "div.sk-label-container:hover .sk-estimator-doc-link:hover,\n",
       ".sk-estimator-doc-link:hover {\n",
       "  /* unfitted */\n",
       "  background-color: var(--sklearn-color-unfitted-level-3);\n",
       "  color: var(--sklearn-color-background);\n",
       "  text-decoration: none;\n",
       "}\n",
       "\n",
       "div.sk-estimator.fitted:hover .sk-estimator-doc-link.fitted:hover,\n",
       ".sk-estimator-doc-link.fitted:hover,\n",
       "div.sk-label-container:hover .sk-estimator-doc-link.fitted:hover,\n",
       ".sk-estimator-doc-link.fitted:hover {\n",
       "  /* fitted */\n",
       "  background-color: var(--sklearn-color-fitted-level-3);\n",
       "  color: var(--sklearn-color-background);\n",
       "  text-decoration: none;\n",
       "}\n",
       "\n",
       "/* Span, style for the box shown on hovering the info icon */\n",
       ".sk-estimator-doc-link span {\n",
       "  display: none;\n",
       "  z-index: 9999;\n",
       "  position: relative;\n",
       "  font-weight: normal;\n",
       "  right: .2ex;\n",
       "  padding: .5ex;\n",
       "  margin: .5ex;\n",
       "  width: min-content;\n",
       "  min-width: 20ex;\n",
       "  max-width: 50ex;\n",
       "  color: var(--sklearn-color-text);\n",
       "  box-shadow: 2pt 2pt 4pt #999;\n",
       "  /* unfitted */\n",
       "  background: var(--sklearn-color-unfitted-level-0);\n",
       "  border: .5pt solid var(--sklearn-color-unfitted-level-3);\n",
       "}\n",
       "\n",
       ".sk-estimator-doc-link.fitted span {\n",
       "  /* fitted */\n",
       "  background: var(--sklearn-color-fitted-level-0);\n",
       "  border: var(--sklearn-color-fitted-level-3);\n",
       "}\n",
       "\n",
       ".sk-estimator-doc-link:hover span {\n",
       "  display: block;\n",
       "}\n",
       "\n",
       "/* \"?\"-specific style due to the `<a>` HTML tag */\n",
       "\n",
       "#sk-container-id-4 a.estimator_doc_link {\n",
       "  float: right;\n",
       "  font-size: 1rem;\n",
       "  line-height: 1em;\n",
       "  font-family: monospace;\n",
       "  background-color: var(--sklearn-color-background);\n",
       "  border-radius: 1rem;\n",
       "  height: 1rem;\n",
       "  width: 1rem;\n",
       "  text-decoration: none;\n",
       "  /* unfitted */\n",
       "  color: var(--sklearn-color-unfitted-level-1);\n",
       "  border: var(--sklearn-color-unfitted-level-1) 1pt solid;\n",
       "}\n",
       "\n",
       "#sk-container-id-4 a.estimator_doc_link.fitted {\n",
       "  /* fitted */\n",
       "  border: var(--sklearn-color-fitted-level-1) 1pt solid;\n",
       "  color: var(--sklearn-color-fitted-level-1);\n",
       "}\n",
       "\n",
       "/* On hover */\n",
       "#sk-container-id-4 a.estimator_doc_link:hover {\n",
       "  /* unfitted */\n",
       "  background-color: var(--sklearn-color-unfitted-level-3);\n",
       "  color: var(--sklearn-color-background);\n",
       "  text-decoration: none;\n",
       "}\n",
       "\n",
       "#sk-container-id-4 a.estimator_doc_link.fitted:hover {\n",
       "  /* fitted */\n",
       "  background-color: var(--sklearn-color-fitted-level-3);\n",
       "}\n",
       "</style><div id=\"sk-container-id-4\" class=\"sk-top-container\"><div class=\"sk-text-repr-fallback\"><pre>LogisticRegression()</pre><b>In a Jupyter environment, please rerun this cell to show the HTML representation or trust the notebook. <br />On GitHub, the HTML representation is unable to render, please try loading this page with nbviewer.org.</b></div><div class=\"sk-container\" hidden><div class=\"sk-item\"><div class=\"sk-estimator fitted sk-toggleable\"><input class=\"sk-toggleable__control sk-hidden--visually\" id=\"sk-estimator-id-4\" type=\"checkbox\" checked><label for=\"sk-estimator-id-4\" class=\"sk-toggleable__label fitted sk-toggleable__label-arrow\"><div><div>LogisticRegression</div></div><div><a class=\"sk-estimator-doc-link fitted\" rel=\"noreferrer\" target=\"_blank\" href=\"https://scikit-learn.org/1.6/modules/generated/sklearn.linear_model.LogisticRegression.html\">?<span>Documentation for LogisticRegression</span></a><span class=\"sk-estimator-doc-link fitted\">i<span>Fitted</span></span></div></label><div class=\"sk-toggleable__content fitted\"><pre>LogisticRegression()</pre></div> </div></div></div></div>"
      ],
      "text/plain": [
       "LogisticRegression()"
      ]
     },
     "execution_count": 215,
     "metadata": {},
     "output_type": "execute_result"
    }
   ],
   "source": [
    "from sklearn.linear_model import LogisticRegression\n",
    "lr = LogisticRegression()\n",
    "lr.fit(X_tr, y_tr)"
   ]
  },
  {
   "cell_type": "code",
   "execution_count": 216,
   "metadata": {},
   "outputs": [
    {
     "data": {
      "text/plain": [
       "array([0, 0, 0, ..., 0, 0, 0], dtype=int64)"
      ]
     },
     "execution_count": 216,
     "metadata": {},
     "output_type": "execute_result"
    }
   ],
   "source": [
    "# 각 샘플이 각 클래스에 속할 확률\n",
    "lr.predict(X_val)"
   ]
  },
  {
   "cell_type": "code",
   "execution_count": 217,
   "metadata": {},
   "outputs": [
    {
     "data": {
      "text/plain": [
       "array([0, 0, 0, ..., 0, 0, 0], dtype=int64)"
      ]
     },
     "execution_count": 217,
     "metadata": {},
     "output_type": "execute_result"
    }
   ],
   "source": [
    "# 각 샘플의 가장 높은 확률값\n",
    "# 기본적으로 0.5 를 기준으로 하나 다른 임계값 설정 가능\n",
    "# proba = lr.predict_proba(X_val)\n",
    "# custom_predictions = (proba[:, 1] > 0.7).astype(int)  # 클래스 1의 확률이 0.7 이상인 경우만 1로 예측\n",
    "np.argmax(lr.predict_proba(X_val), axis=1)"
   ]
  },
  {
   "cell_type": "code",
   "execution_count": 218,
   "metadata": {},
   "outputs": [
    {
     "data": {
      "text/plain": [
       "0    1762\n",
       "Name: count, dtype: int64"
      ]
     },
     "execution_count": 218,
     "metadata": {},
     "output_type": "execute_result"
    }
   ],
   "source": [
    "pd.Series(lr.predict(X_val)).value_counts()"
   ]
  },
  {
   "cell_type": "code",
   "execution_count": 219,
   "metadata": {},
   "outputs": [
    {
     "name": "stdout",
     "output_type": "stream",
     "text": [
      "Accuracy:  0.6969353007945517\n"
     ]
    }
   ],
   "source": [
    "# 평가 지표 - Accuracy\n",
    "from sklearn.metrics import accuracy_score\n",
    "\n",
    "val_pred = lr.predict(X_val)\n",
    "print(\"Accuracy: \", accuracy_score(y_val, val_pred))"
   ]
  },
  {
   "cell_type": "code",
   "execution_count": 220,
   "metadata": {},
   "outputs": [
    {
     "data": {
      "text/plain": [
       "target\n",
       "0    1228\n",
       "1     534\n",
       "Name: count, dtype: int64"
      ]
     },
     "execution_count": 220,
     "metadata": {},
     "output_type": "execute_result"
    }
   ],
   "source": [
    "y_val.value_counts()"
   ]
  },
  {
   "cell_type": "markdown",
   "metadata": {},
   "source": [
    "### 랜덤 포레스트 "
   ]
  },
  {
   "cell_type": "code",
   "execution_count": 221,
   "metadata": {},
   "outputs": [
    {
     "name": "stdout",
     "output_type": "stream",
     "text": [
      "Accuracy:  0.6855845629965948\n"
     ]
    }
   ],
   "source": [
    "from sklearn.ensemble import RandomForestClassifier\n",
    "rf = RandomForestClassifier(random_state=42)\n",
    "rf.fit(X_tr, y_tr)\n",
    "\n",
    "val_pred = rf.predict(X_val)\n",
    "print(\"Accuracy: \", accuracy_score(y_val, val_pred))"
   ]
  },
  {
   "cell_type": "markdown",
   "metadata": {},
   "source": [
    "### 성능 평가"
   ]
  },
  {
   "cell_type": "markdown",
   "metadata": {},
   "source": [
    "<img src='https://img1.daumcdn.net/thumb/R1280x0/?scode=mtistory2&fname=https%3A%2F%2Fblog.kakaocdn.net%2Fdn%2Fl6TSw%2FbtsFV8j8WH0%2FJ4avuGkYT52dSCg1tNP4x0%2Fimg.png' width=50%>\n",
    "<img src='https://miro.medium.com/max/700/1*3KDYxZCMmGbUDtmQdnYhmw.jpeg' width=50%>\n",
    "<img src='https://miro.medium.com/max/1400/1*A0Lu2dZfWsCMqWlhw1ZNfQ.png' width=50%>    \n",
    "\n",
    "- F1 score는 Precision과 Recall의 조화평균으로 주로 **분류 클래스 간의 데이터가 불균형이 심각할때 사용**한다.\n"
   ]
  },
  {
   "cell_type": "markdown",
   "metadata": {},
   "source": [
    "<img src='https://img1.daumcdn.net/thumb/R1280x0/?scode=mtistory2&fname=https%3A%2F%2Fblog.kakaocdn.net%2Fdn%2FzAaM7%2FbtsFWJD9GZY%2F7IFvyfjVdFZ1QIRi5HrxVk%2Fimg.png' width=50%>"
   ]
  },
  {
   "cell_type": "code",
   "execution_count": 222,
   "metadata": {},
   "outputs": [
    {
     "name": "stdout",
     "output_type": "stream",
     "text": [
      "[[1057  171]\n",
      " [ 383  151]]\n"
     ]
    }
   ],
   "source": [
    "# 모형 성능 평가 - Confusion Matrix 계산\n",
    "from sklearn import metrics\n",
    "\n",
    "cm = metrics.confusion_matrix(y_val, val_pred)\n",
    "print(cm)"
   ]
  },
  {
   "cell_type": "code",
   "execution_count": 223,
   "metadata": {},
   "outputs": [
    {
     "data": {
      "image/png": "[encoded data removed]",
      "text/plain": [
       "<Figure size 800x600 with 2 Axes>"
      ]
     },
     "metadata": {},
     "output_type": "display_data"
    }
   ],
   "source": [
    "# Confusion Matrix 시각화\n",
    "\n",
    "plt.figure(figsize=(8, 6))\n",
    "sns.heatmap(cm, annot=True, fmt='d', cmap='Greens', \n",
    "            xticklabels=['Negative', 'Positive'], \n",
    "            yticklabels=['Negative', 'Positive'])\n",
    "\n",
    "plt.title('Confusion Matrix')\n",
    "plt.ylabel('Actual label')\n",
    "plt.xlabel('Predicted label')\n",
    "plt.show()"
   ]
  },
  {
   "cell_type": "markdown",
   "metadata": {},
   "source": [
    "- ROC AUC Score\n",
    "\n",
    "    - ROC 곡선은 FPR 이 변할 때 TPR 의 변화를 나타낸다.\n",
    "\n",
    "    - 평가 지표는 ROC 곡선 면적에 기반한 AUC 값으로, AUC 값은 ROC 곡선 밑의 면적이며 일반적으로 1 에 가까울수록 좋은 수치이다.\n",
    "\n",
    "<img src=\"https://postfiles.pstatic.net/MjAyNTAxMTRfOTIg/MDAxNzM2ODI3NTE1NzIx.dWDzrZmDN_-c2HktfxkSCl5ivKil4BcL-e2I8kAazdQg.xf2NO02RPVBl7PFtM20tmxLc48mZaSNErgB8HUM4EBcg.PNG/image.png?type=w773\" width=50%>"
   ]
  },
  {
   "cell_type": "code",
   "execution_count": 224,
   "metadata": {},
   "outputs": [
    {
     "name": "stdout",
     "output_type": "stream",
     "text": [
      "Precision:  0.468944099378882\n",
      "Recall:  0.28277153558052437\n",
      "F1 Score:  0.352803738317757\n",
      "ROC AUC Score:  0.5717603606241385\n"
     ]
    }
   ],
   "source": [
    "# 평가 지표 - Precision\n",
    "from sklearn.metrics import precision_score, recall_score, f1_score, roc_auc_score\n",
    "\n",
    "precision = precision_score(y_val, val_pred)\n",
    "print(\"Precision: \", precision)\n",
    "\n",
    "# 평가 지표 - Recall\n",
    "recall = recall_score(y_val, val_pred)\n",
    "print(\"Recall: \", recall)\n",
    "\n",
    "# 평가 지표 - F1 Score\n",
    "f1 = f1_score(y_val, val_pred)\n",
    "print(\"F1 Score: \", f1)\n",
    "\n",
    "# 평가 지표 - ROC AUC Score\n",
    "roc_auc = roc_auc_score(y_val, val_pred)\n",
    "print(\"ROC AUC Score: \", roc_auc)"
   ]
  },
  {
   "cell_type": "markdown",
   "metadata": {},
   "source": [
    "- Classification Report\n",
    "\n",
    "    - support : 각 클래스의 실제 데이터 수\n",
    "\n",
    "    - weighted avg : 클래스의 데이터 수를 고려한 평균\n",
    "\n",
    "    - macro avg : 각 클래스별로 동일한 비중을 둔 평균\n",
    "\n",
    "        - 클래스별 데이터 수가 다른 경우에는 weighted avg 가 더 의미있는 평가 지표가 될 수 있다."
   ]
  },
  {
   "cell_type": "code",
   "execution_count": 225,
   "metadata": {},
   "outputs": [
    {
     "name": "stdout",
     "output_type": "stream",
     "text": [
      "              precision    recall  f1-score   support\n",
      "\n",
      "           0       0.73      0.86      0.79      1228\n",
      "           1       0.47      0.28      0.35       534\n",
      "\n",
      "    accuracy                           0.69      1762\n",
      "   macro avg       0.60      0.57      0.57      1762\n",
      "weighted avg       0.65      0.69      0.66      1762\n",
      "\n"
     ]
    }
   ],
   "source": [
    "# 모형 성능 평가 - 평가지표 계산\n",
    "eval_report = metrics.classification_report(y_val, val_pred)\n",
    "print(eval_report)"
   ]
  },
  {
   "cell_type": "code",
   "execution_count": 226,
   "metadata": {},
   "outputs": [
    {
     "data": {
      "text/html": [
       "<div>\n",
       "<style scoped>\n",
       "    .dataframe tbody tr th:only-of-type {\n",
       "        vertical-align: middle;\n",
       "    }\n",
       "\n",
       "    .dataframe tbody tr th {\n",
       "        vertical-align: top;\n",
       "    }\n",
       "\n",
       "    .dataframe thead th {\n",
       "        text-align: right;\n",
       "    }\n",
       "</style>\n",
       "<table border=\"1\" class=\"dataframe\">\n",
       "  <thead>\n",
       "    <tr style=\"text-align: right;\">\n",
       "      <th></th>\n",
       "      <th>Importance</th>\n",
       "    </tr>\n",
       "  </thead>\n",
       "  <tbody>\n",
       "    <tr>\n",
       "      <th>age</th>\n",
       "      <td>0.239232</td>\n",
       "    </tr>\n",
       "    <tr>\n",
       "      <th>income_log</th>\n",
       "      <td>0.219620</td>\n",
       "    </tr>\n",
       "    <tr>\n",
       "      <th>fee</th>\n",
       "      <td>0.174611</td>\n",
       "    </tr>\n",
       "    <tr>\n",
       "      <th>term</th>\n",
       "      <td>0.149155</td>\n",
       "    </tr>\n",
       "    <tr>\n",
       "      <th>family</th>\n",
       "      <td>0.063608</td>\n",
       "    </tr>\n",
       "    <tr>\n",
       "      <th>payment</th>\n",
       "      <td>0.046877</td>\n",
       "    </tr>\n",
       "    <tr>\n",
       "      <th>package</th>\n",
       "      <td>0.034505</td>\n",
       "    </tr>\n",
       "    <tr>\n",
       "      <th>job</th>\n",
       "      <td>0.032386</td>\n",
       "    </tr>\n",
       "    <tr>\n",
       "      <th>gender</th>\n",
       "      <td>0.025267</td>\n",
       "    </tr>\n",
       "    <tr>\n",
       "      <th>married</th>\n",
       "      <td>0.013733</td>\n",
       "    </tr>\n",
       "    <tr>\n",
       "      <th>isna_job</th>\n",
       "      <td>0.001006</td>\n",
       "    </tr>\n",
       "  </tbody>\n",
       "</table>\n",
       "</div>"
      ],
      "text/plain": [
       "            Importance\n",
       "age           0.239232\n",
       "income_log    0.219620\n",
       "fee           0.174611\n",
       "term          0.149155\n",
       "family        0.063608\n",
       "payment       0.046877\n",
       "package       0.034505\n",
       "job           0.032386\n",
       "gender        0.025267\n",
       "married       0.013733\n",
       "isna_job      0.001006"
      ]
     },
     "execution_count": 226,
     "metadata": {},
     "output_type": "execute_result"
    }
   ],
   "source": [
    "# 특성 중요도 출력\n",
    "features = pd.DataFrame(rf.feature_importances_, \n",
    "                        index=X_tr.columns, \n",
    "                        columns=['Importance'])\n",
    "features = features.sort_values(by='Importance', ascending=False)\n",
    "\n",
    "features"
   ]
  },
  {
   "cell_type": "code",
   "execution_count": 227,
   "metadata": {},
   "outputs": [
    {
     "data": {
      "image/png": "[encoded data removed]",
      "text/plain": [
       "<Figure size 1000x600 with 1 Axes>"
      ]
     },
     "metadata": {},
     "output_type": "display_data"
    }
   ],
   "source": [
    "# 특성 중요도 시각화\n",
    "plt.figure(figsize=(10, 6))\n",
    "sns.barplot(x=features.Importance, y=features.index,\n",
    "            hue=features.index, legend=False,\n",
    "            palette='viridis')\n",
    "plt.title('Feature Importances')\n",
    "plt.xlabel('Importance')\n",
    "plt.ylabel('Features')\n",
    "plt.show()"
   ]
  },
  {
   "cell_type": "markdown",
   "metadata": {},
   "source": [
    "### 모델 성능 개선하기"
   ]
  },
  {
   "cell_type": "markdown",
   "metadata": {},
   "source": [
    "### 변수 선택 \n",
    "Feature Importance 분석에 따라, 가장 낮은 married, isna_job 열을 제외하고 분석"
   ]
  },
  {
   "cell_type": "code",
   "execution_count": 228,
   "metadata": {},
   "outputs": [
    {
     "data": {
      "text/plain": [
       "Index(['term', 'fee', 'married', 'gender', 'job', 'package', 'age', 'family',\n",
       "       'payment', 'income_log', 'isna_job'],\n",
       "      dtype='object')"
      ]
     },
     "execution_count": 228,
     "metadata": {},
     "output_type": "execute_result"
    }
   ],
   "source": [
    "X_tr.columns"
   ]
  },
  {
   "cell_type": "code",
   "execution_count": 229,
   "metadata": {},
   "outputs": [],
   "source": [
    "selected_features = ['term', 'fee', 'job', 'package', 'age', 'family', 'payment', 'income_log']\n",
    "X_tr_selected = X_tr.loc[:, selected_features].copy()\n",
    "X_val_selected = X_val.loc[:, selected_features].copy()"
   ]
  },
  {
   "cell_type": "markdown",
   "metadata": {},
   "source": [
    "### 최초 모델"
   ]
  },
  {
   "cell_type": "code",
   "execution_count": 230,
   "metadata": {},
   "outputs": [
    {
     "name": "stdout",
     "output_type": "stream",
     "text": [
      "정확도: 0.70\n",
      "정밀도: 0.00\n",
      "재현율: 0.00\n",
      "F1 스코어: 0.00\n",
      "ROC AUC: 0.50\n"
     ]
    }
   ],
   "source": [
    "model = RandomForestClassifier(max_depth=3, random_state=42) # 기본값으로 먼저 해보고 max_depth 를 조절 혹은 max_depth 를 낮은 값에서 시작\n",
    "model.fit(X_tr_selected, y_tr)\n",
    "val_pred = model.predict(X_val_selected)\n",
    "\n",
    "# 평가 지표\n",
    "print(\"정확도: %0.2f\" % accuracy_score(y_val, val_pred))\n",
    "print(\"정밀도: %0.2f\" % precision_score(y_val, val_pred))\n",
    "print(\"재현율: %0.2f\" % recall_score(y_val, val_pred))\n",
    "print(\"F1 스코어: %0.2f\" % f1_score(y_val, val_pred))\n",
    "print(\"ROC AUC: %0.2f\" % roc_auc_score(y_val, val_pred))"
   ]
  },
  {
   "cell_type": "code",
   "execution_count": 231,
   "metadata": {},
   "outputs": [
    {
     "data": {
      "text/plain": [
       "target\n",
       "0    4908\n",
       "1    2137\n",
       "Name: count, dtype: int64"
      ]
     },
     "execution_count": 231,
     "metadata": {},
     "output_type": "execute_result"
    }
   ],
   "source": [
    "y_tr.value_counts()"
   ]
  },
  {
   "cell_type": "code",
   "execution_count": 232,
   "metadata": {},
   "outputs": [
    {
     "data": {
      "text/plain": [
       "(array([4908.,    0.,    0.,    0.,    0.,    0.,    0.,    0.,    0.,\n",
       "        2137.]),\n",
       " array([0. , 0.1, 0.2, 0.3, 0.4, 0.5, 0.6, 0.7, 0.8, 0.9, 1. ]),\n",
       " <BarContainer object of 10 artists>)"
      ]
     },
     "execution_count": 232,
     "metadata": {},
     "output_type": "execute_result"
    },
    {
     "data": {
      "image/png": "[encoded data removed]",
      "text/plain": [
       "<Figure size 640x480 with 1 Axes>"
      ]
     },
     "metadata": {},
     "output_type": "display_data"
    }
   ],
   "source": [
    "plt.hist(y_tr)"
   ]
  },
  {
   "cell_type": "code",
   "execution_count": 233,
   "metadata": {},
   "outputs": [
    {
     "name": "stdout",
     "output_type": "stream",
     "text": [
      "              precision    recall  f1-score   support\n",
      "\n",
      "           0       0.70      1.00      0.82      1228\n",
      "           1       0.00      0.00      0.00       534\n",
      "\n",
      "    accuracy                           0.70      1762\n",
      "   macro avg       0.35      0.50      0.41      1762\n",
      "weighted avg       0.49      0.70      0.57      1762\n",
      "\n"
     ]
    }
   ],
   "source": [
    "# 모형 성능 평가 - 평가지표 계산\n",
    "eval_report = metrics.classification_report(y_val, val_pred)\n",
    "print(eval_report)"
   ]
  },
  {
   "cell_type": "markdown",
   "metadata": {},
   "source": [
    "### 모델 파라미터 변경"
   ]
  },
  {
   "cell_type": "code",
   "execution_count": 234,
   "metadata": {},
   "outputs": [],
   "source": [
    "model = RandomForestClassifier(\n",
    "    n_estimators=100, # 100개의 Decision Tree\n",
    "      max_depth=3, \n",
    "      class_weight='balanced', \n",
    "      random_state=42,\n",
    "      )\n",
    "\n",
    "model.fit(X_tr_selected, y_tr)\n",
    "val_pred = model.predict(X_val_selected)"
   ]
  },
  {
   "cell_type": "code",
   "execution_count": 235,
   "metadata": {},
   "outputs": [
    {
     "name": "stdout",
     "output_type": "stream",
     "text": [
      "정확도: 0.58\n",
      "정밀도: 0.40\n",
      "재현율: 0.77\n",
      "\n",
      "훈련 F1: 0.52\n",
      "검증 F1: 0.53\n",
      "훈련 AUC: 0.63\n",
      "검증 AUC: 0.63\n"
     ]
    }
   ],
   "source": [
    "# 평가 지표\n",
    "print(\"정확도: %0.2f\" % accuracy_score(y_val, val_pred))\n",
    "print(\"정밀도: %0.2f\" % precision_score(y_val, val_pred))\n",
    "print(\"재현율: %0.2f\" % recall_score(y_val, val_pred))\n",
    "print()\n",
    "\n",
    "print(\"훈련 F1: %0.2f\" % f1_score(y_tr, model.predict(X_tr_selected)))\n",
    "print(\"검증 F1: %0.2f\" % f1_score(y_val, val_pred))\n",
    "\n",
    "print(\"훈련 AUC: %0.2f\" % roc_auc_score(y_tr, model.predict(X_tr_selected)))\n",
    "print(\"검증 AUC: %0.2f\" % roc_auc_score(y_val, val_pred))"
   ]
  },
  {
   "cell_type": "code",
   "execution_count": 236,
   "metadata": {},
   "outputs": [
    {
     "name": "stdout",
     "output_type": "stream",
     "text": [
      "[[608 620]\n",
      " [122 412]]\n"
     ]
    },
    {
     "data": {
      "image/png": "[encoded data removed]",
      "text/plain": [
       "<Figure size 800x600 with 2 Axes>"
      ]
     },
     "metadata": {},
     "output_type": "display_data"
    }
   ],
   "source": [
    "# 모형 성능 평가 - Confusion Matrix 계산\n",
    "from sklearn import metrics\n",
    "\n",
    "cm = metrics.confusion_matrix(y_val, val_pred)\n",
    "print(cm)\n",
    "\n",
    "# Confusion Matrix 시각화\n",
    "\n",
    "plt.figure(figsize=(8, 6))\n",
    "sns.heatmap(cm, annot=True, fmt='d', cmap='Greens', \n",
    "            xticklabels=['Negative', 'Positive'], \n",
    "            yticklabels=['Negative', 'Positive'])\n",
    "\n",
    "plt.title('Confusion Matrix')\n",
    "plt.ylabel('Actual label')\n",
    "plt.xlabel('Predicted label')\n",
    "plt.show()"
   ]
  },
  {
   "cell_type": "code",
   "execution_count": 237,
   "metadata": {},
   "outputs": [],
   "source": [
    "# 피처 스케일링\n",
    "from sklearn.preprocessing import MinMaxScaler\n",
    "\n",
    "scaler = MinMaxScaler()\n",
    "X_tr_scaled = scaler.fit_transform(X_tr_selected)\n",
    "X_val_scaled = scaler.fit_transform(X_val_selected)"
   ]
  },
  {
   "cell_type": "code",
   "execution_count": 238,
   "metadata": {},
   "outputs": [],
   "source": [
    "from sklearn.svm import SVC\n",
    "\n",
    "model = SVC()\n",
    "\n",
    "model.fit(X_tr_scaled, y_tr)\n",
    "val_pred = model.predict(X_val_scaled)"
   ]
  },
  {
   "cell_type": "code",
   "execution_count": 239,
   "metadata": {},
   "outputs": [
    {
     "name": "stdout",
     "output_type": "stream",
     "text": [
      "정확도: 0.70\n",
      "정밀도: 0.00\n",
      "재현율: 0.00\n",
      "\n",
      "훈련 F1: 0.00\n",
      "검증 F1: 0.00\n",
      "훈련 AUC: 0.50\n",
      "검증 AUC: 0.50\n"
     ]
    }
   ],
   "source": [
    "# 평가 지표\n",
    "print(\"정확도: %0.2f\" % accuracy_score(y_val, val_pred))\n",
    "print(\"정밀도: %0.2f\" % precision_score(y_val, val_pred))\n",
    "print(\"재현율: %0.2f\" % recall_score(y_val, val_pred))\n",
    "print()\n",
    "\n",
    "print(\"훈련 F1: %0.2f\" % f1_score(y_tr, model.predict(X_tr_selected)))\n",
    "print(\"검증 F1: %0.2f\" % f1_score(y_val, val_pred))\n",
    "\n",
    "print(\"훈련 AUC: %0.2f\" % roc_auc_score(y_tr, model.predict(X_tr_selected)))\n",
    "print(\"검증 AUC: %0.2f\" % roc_auc_score(y_val, val_pred))"
   ]
  }
 ],
 "metadata": {
  "kernelspec": {
   "display_name": "sesac",
   "language": "python",
   "name": "python3"
  },
  "language_info": {
   "codemirror_mode": {
    "name": "ipython",
    "version": 3
   },
   "file_extension": ".py",
   "mimetype": "text/x-python",
   "name": "python",
   "nbconvert_exporter": "python",
   "pygments_lexer": "ipython3",
   "version": "3.11.11"
  }
 },
 "nbformat": 4,
 "nbformat_minor": 2
}
