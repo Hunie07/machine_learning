{
 "cells": [
  {
   "cell_type": "markdown",
   "metadata": {},
   "source": [
    "### 라이브러리 임포트"
   ]
  },
  {
   "cell_type": "code",
   "execution_count": 1,
   "metadata": {},
   "outputs": [],
   "source": [
    "import pandas as pd\n",
    "import numpy as np\n",
    "\n",
    "import matplotlib.pyplot as plt\n",
    "import seaborn as sns\n",
    "\n",
    "import warnings\n",
    "warnings.filterwarnings(action='ignore')"
   ]
  },
  {
   "cell_type": "markdown",
   "metadata": {},
   "source": [
    "### 데이터 불러오기"
   ]
  },
  {
   "cell_type": "code",
   "execution_count": 2,
   "metadata": {},
   "outputs": [
    {
     "name": "stdout",
     "output_type": "stream",
     "text": [
      "(8807, 15)\n"
     ]
    },
    {
     "data": {
      "text/html": [
       "<div>\n",
       "<style scoped>\n",
       "    .dataframe tbody tr th:only-of-type {\n",
       "        vertical-align: middle;\n",
       "    }\n",
       "\n",
       "    .dataframe tbody tr th {\n",
       "        vertical-align: top;\n",
       "    }\n",
       "\n",
       "    .dataframe thead th {\n",
       "        text-align: right;\n",
       "    }\n",
       "</style>\n",
       "<table border=\"1\" class=\"dataframe\">\n",
       "  <thead>\n",
       "    <tr style=\"text-align: right;\">\n",
       "      <th></th>\n",
       "      <th>id</th>\n",
       "      <th>MEMBERSHIP_TERM_YEARS</th>\n",
       "      <th>ANNUAL_FEES</th>\n",
       "      <th>MEMBER_MARITAL_STATUS</th>\n",
       "      <th>MEMBER_GENDER</th>\n",
       "      <th>MEMBER_ANNUAL_INCOME</th>\n",
       "      <th>MEMBER_OCCUPATION_CD</th>\n",
       "      <th>MEMBERSHIP_PACKAGE</th>\n",
       "      <th>MEMBER_AGE_AT_ISSUE</th>\n",
       "      <th>ADDITIONAL_MEMBERS</th>\n",
       "      <th>PAYMENT_MODE</th>\n",
       "      <th>AGENT_CODE</th>\n",
       "      <th>MEMBERSHIP_STATUS</th>\n",
       "      <th>START_DATE</th>\n",
       "      <th>END_DATE</th>\n",
       "    </tr>\n",
       "  </thead>\n",
       "  <tbody>\n",
       "    <tr>\n",
       "      <th>0</th>\n",
       "      <td>0</td>\n",
       "      <td>22</td>\n",
       "      <td>100000.00</td>\n",
       "      <td>M</td>\n",
       "      <td>M</td>\n",
       "      <td>450000.0</td>\n",
       "      <td>1.0</td>\n",
       "      <td>TYPE-B</td>\n",
       "      <td>27</td>\n",
       "      <td>1</td>\n",
       "      <td>ANNUAL</td>\n",
       "      <td>666099</td>\n",
       "      <td>0</td>\n",
       "      <td>20091029</td>\n",
       "      <td>NaN</td>\n",
       "    </tr>\n",
       "    <tr>\n",
       "      <th>1</th>\n",
       "      <td>1</td>\n",
       "      <td>88</td>\n",
       "      <td>149029.58</td>\n",
       "      <td>NaN</td>\n",
       "      <td>M</td>\n",
       "      <td>NaN</td>\n",
       "      <td>6.0</td>\n",
       "      <td>TYPE-A</td>\n",
       "      <td>75</td>\n",
       "      <td>0</td>\n",
       "      <td>ANNUAL</td>\n",
       "      <td>132000</td>\n",
       "      <td>0</td>\n",
       "      <td>20131014</td>\n",
       "      <td>NaN</td>\n",
       "    </tr>\n",
       "    <tr>\n",
       "      <th>2</th>\n",
       "      <td>2</td>\n",
       "      <td>93</td>\n",
       "      <td>102999.94</td>\n",
       "      <td>NaN</td>\n",
       "      <td>M</td>\n",
       "      <td>600000.0</td>\n",
       "      <td>1.0</td>\n",
       "      <td>TYPE-A</td>\n",
       "      <td>49</td>\n",
       "      <td>0</td>\n",
       "      <td>ANNUAL</td>\n",
       "      <td>1407177</td>\n",
       "      <td>0</td>\n",
       "      <td>20130531</td>\n",
       "      <td>NaN</td>\n",
       "    </tr>\n",
       "    <tr>\n",
       "      <th>3</th>\n",
       "      <td>3</td>\n",
       "      <td>17</td>\n",
       "      <td>147576.48</td>\n",
       "      <td>M</td>\n",
       "      <td>F</td>\n",
       "      <td>450000.0</td>\n",
       "      <td>1.0</td>\n",
       "      <td>TYPE-A</td>\n",
       "      <td>47</td>\n",
       "      <td>3</td>\n",
       "      <td>MONTHLY</td>\n",
       "      <td>343344</td>\n",
       "      <td>0</td>\n",
       "      <td>20130331</td>\n",
       "      <td>NaN</td>\n",
       "    </tr>\n",
       "    <tr>\n",
       "      <th>4</th>\n",
       "      <td>4</td>\n",
       "      <td>39</td>\n",
       "      <td>100000.00</td>\n",
       "      <td>M</td>\n",
       "      <td>M</td>\n",
       "      <td>600000.0</td>\n",
       "      <td>1.0</td>\n",
       "      <td>TYPE-B</td>\n",
       "      <td>36</td>\n",
       "      <td>3</td>\n",
       "      <td>ANNUAL</td>\n",
       "      <td>119199</td>\n",
       "      <td>0</td>\n",
       "      <td>20080313</td>\n",
       "      <td>NaN</td>\n",
       "    </tr>\n",
       "  </tbody>\n",
       "</table>\n",
       "</div>"
      ],
      "text/plain": [
       "   id  MEMBERSHIP_TERM_YEARS  ANNUAL_FEES MEMBER_MARITAL_STATUS MEMBER_GENDER  \\\n",
       "0   0                     22    100000.00                     M             M   \n",
       "1   1                     88    149029.58                   NaN             M   \n",
       "2   2                     93    102999.94                   NaN             M   \n",
       "3   3                     17    147576.48                     M             F   \n",
       "4   4                     39    100000.00                     M             M   \n",
       "\n",
       "   MEMBER_ANNUAL_INCOME  MEMBER_OCCUPATION_CD MEMBERSHIP_PACKAGE  \\\n",
       "0              450000.0                   1.0             TYPE-B   \n",
       "1                   NaN                   6.0             TYPE-A   \n",
       "2              600000.0                   1.0             TYPE-A   \n",
       "3              450000.0                   1.0             TYPE-A   \n",
       "4              600000.0                   1.0             TYPE-B   \n",
       "\n",
       "   MEMBER_AGE_AT_ISSUE  ADDITIONAL_MEMBERS PAYMENT_MODE AGENT_CODE  \\\n",
       "0                   27                   1       ANNUAL     666099   \n",
       "1                   75                   0       ANNUAL     132000   \n",
       "2                   49                   0       ANNUAL    1407177   \n",
       "3                   47                   3      MONTHLY     343344   \n",
       "4                   36                   3       ANNUAL     119199   \n",
       "\n",
       "   MEMBERSHIP_STATUS  START_DATE  END_DATE  \n",
       "0                  0    20091029       NaN  \n",
       "1                  0    20131014       NaN  \n",
       "2                  0    20130531       NaN  \n",
       "3                  0    20130331       NaN  \n",
       "4                  0    20080313       NaN  "
      ]
     },
     "execution_count": 2,
     "metadata": {},
     "output_type": "execute_result"
    }
   ],
   "source": [
    "data = pd.read_csv(\"../Module03_머신러닝/membership.csv\")\n",
    "print(data.shape)\n",
    "data.head()"
   ]
  },
  {
   "cell_type": "code",
   "execution_count": 3,
   "metadata": {},
   "outputs": [],
   "source": [
    "data.columns = ['id', 'term', 'fee', 'married', 'gender', 'income', 'job',\n",
    "'package', 'age', 'family', 'payment', 'agent', 'target', 'start_date', 'end_date']"
   ]
  },
  {
   "cell_type": "markdown",
   "metadata": {},
   "source": [
    "### 결측값 제거"
   ]
  },
  {
   "cell_type": "code",
   "execution_count": 4,
   "metadata": {},
   "outputs": [],
   "source": [
    "# end_date 열 삭제\n",
    "data = data.drop(['end_date'], axis=1)"
   ]
  },
  {
   "cell_type": "code",
   "execution_count": 5,
   "metadata": {},
   "outputs": [
    {
     "data": {
      "text/html": [
       "<div>\n",
       "<style scoped>\n",
       "    .dataframe tbody tr th:only-of-type {\n",
       "        vertical-align: middle;\n",
       "    }\n",
       "\n",
       "    .dataframe tbody tr th {\n",
       "        vertical-align: top;\n",
       "    }\n",
       "\n",
       "    .dataframe thead th {\n",
       "        text-align: right;\n",
       "    }\n",
       "</style>\n",
       "<table border=\"1\" class=\"dataframe\">\n",
       "  <thead>\n",
       "    <tr style=\"text-align: right;\">\n",
       "      <th></th>\n",
       "      <th>id</th>\n",
       "      <th>term</th>\n",
       "      <th>fee</th>\n",
       "      <th>married</th>\n",
       "      <th>gender</th>\n",
       "      <th>income</th>\n",
       "      <th>job</th>\n",
       "      <th>package</th>\n",
       "      <th>age</th>\n",
       "      <th>family</th>\n",
       "      <th>payment</th>\n",
       "      <th>agent</th>\n",
       "      <th>target</th>\n",
       "      <th>start_date</th>\n",
       "    </tr>\n",
       "  </thead>\n",
       "  <tbody>\n",
       "    <tr>\n",
       "      <th>0</th>\n",
       "      <td>0</td>\n",
       "      <td>22</td>\n",
       "      <td>100000.00</td>\n",
       "      <td>M</td>\n",
       "      <td>M</td>\n",
       "      <td>450000.0</td>\n",
       "      <td>1.0</td>\n",
       "      <td>TYPE-B</td>\n",
       "      <td>27</td>\n",
       "      <td>1</td>\n",
       "      <td>ANNUAL</td>\n",
       "      <td>666099</td>\n",
       "      <td>0</td>\n",
       "      <td>20091029</td>\n",
       "    </tr>\n",
       "    <tr>\n",
       "      <th>3</th>\n",
       "      <td>3</td>\n",
       "      <td>17</td>\n",
       "      <td>147576.48</td>\n",
       "      <td>M</td>\n",
       "      <td>F</td>\n",
       "      <td>450000.0</td>\n",
       "      <td>1.0</td>\n",
       "      <td>TYPE-A</td>\n",
       "      <td>47</td>\n",
       "      <td>3</td>\n",
       "      <td>MONTHLY</td>\n",
       "      <td>343344</td>\n",
       "      <td>0</td>\n",
       "      <td>20130331</td>\n",
       "    </tr>\n",
       "    <tr>\n",
       "      <th>4</th>\n",
       "      <td>4</td>\n",
       "      <td>39</td>\n",
       "      <td>100000.00</td>\n",
       "      <td>M</td>\n",
       "      <td>M</td>\n",
       "      <td>600000.0</td>\n",
       "      <td>1.0</td>\n",
       "      <td>TYPE-B</td>\n",
       "      <td>36</td>\n",
       "      <td>3</td>\n",
       "      <td>ANNUAL</td>\n",
       "      <td>119199</td>\n",
       "      <td>0</td>\n",
       "      <td>20080313</td>\n",
       "    </tr>\n",
       "    <tr>\n",
       "      <th>6</th>\n",
       "      <td>6</td>\n",
       "      <td>17</td>\n",
       "      <td>103016.16</td>\n",
       "      <td>S</td>\n",
       "      <td>M</td>\n",
       "      <td>999996.0</td>\n",
       "      <td>2.0</td>\n",
       "      <td>TYPE-A</td>\n",
       "      <td>35</td>\n",
       "      <td>0</td>\n",
       "      <td>MONTHLY</td>\n",
       "      <td>348099</td>\n",
       "      <td>0</td>\n",
       "      <td>20130930</td>\n",
       "    </tr>\n",
       "    <tr>\n",
       "      <th>9</th>\n",
       "      <td>9</td>\n",
       "      <td>12</td>\n",
       "      <td>300002.40</td>\n",
       "      <td>M</td>\n",
       "      <td>M</td>\n",
       "      <td>349992.0</td>\n",
       "      <td>1.0</td>\n",
       "      <td>TYPE-B</td>\n",
       "      <td>46</td>\n",
       "      <td>2</td>\n",
       "      <td>MONTHLY</td>\n",
       "      <td>1360477</td>\n",
       "      <td>1</td>\n",
       "      <td>20121130</td>\n",
       "    </tr>\n",
       "    <tr>\n",
       "      <th>...</th>\n",
       "      <td>...</td>\n",
       "      <td>...</td>\n",
       "      <td>...</td>\n",
       "      <td>...</td>\n",
       "      <td>...</td>\n",
       "      <td>...</td>\n",
       "      <td>...</td>\n",
       "      <td>...</td>\n",
       "      <td>...</td>\n",
       "      <td>...</td>\n",
       "      <td>...</td>\n",
       "      <td>...</td>\n",
       "      <td>...</td>\n",
       "      <td>...</td>\n",
       "    </tr>\n",
       "    <tr>\n",
       "      <th>8801</th>\n",
       "      <td>8801</td>\n",
       "      <td>12</td>\n",
       "      <td>100000.00</td>\n",
       "      <td>M</td>\n",
       "      <td>M</td>\n",
       "      <td>300000.0</td>\n",
       "      <td>2.0</td>\n",
       "      <td>TYPE-B</td>\n",
       "      <td>37</td>\n",
       "      <td>2</td>\n",
       "      <td>ANNUAL</td>\n",
       "      <td>1296622</td>\n",
       "      <td>1</td>\n",
       "      <td>20120806</td>\n",
       "    </tr>\n",
       "    <tr>\n",
       "      <th>8803</th>\n",
       "      <td>8803</td>\n",
       "      <td>49</td>\n",
       "      <td>100000.00</td>\n",
       "      <td>M</td>\n",
       "      <td>M</td>\n",
       "      <td>399996.0</td>\n",
       "      <td>1.0</td>\n",
       "      <td>TYPE-B</td>\n",
       "      <td>46</td>\n",
       "      <td>1</td>\n",
       "      <td>ANNUAL</td>\n",
       "      <td>841477</td>\n",
       "      <td>0</td>\n",
       "      <td>20100208</td>\n",
       "    </tr>\n",
       "    <tr>\n",
       "      <th>8804</th>\n",
       "      <td>8804</td>\n",
       "      <td>54</td>\n",
       "      <td>600001.16</td>\n",
       "      <td>M</td>\n",
       "      <td>M</td>\n",
       "      <td>2250000.0</td>\n",
       "      <td>2.0</td>\n",
       "      <td>TYPE-A</td>\n",
       "      <td>51</td>\n",
       "      <td>3</td>\n",
       "      <td>ANNUAL</td>\n",
       "      <td>1347855</td>\n",
       "      <td>0</td>\n",
       "      <td>20130331</td>\n",
       "    </tr>\n",
       "    <tr>\n",
       "      <th>8805</th>\n",
       "      <td>8805</td>\n",
       "      <td>27</td>\n",
       "      <td>100000.00</td>\n",
       "      <td>M</td>\n",
       "      <td>M</td>\n",
       "      <td>600000.0</td>\n",
       "      <td>1.0</td>\n",
       "      <td>TYPE-B</td>\n",
       "      <td>27</td>\n",
       "      <td>2</td>\n",
       "      <td>ANNUAL</td>\n",
       "      <td>798833</td>\n",
       "      <td>0</td>\n",
       "      <td>20100127</td>\n",
       "    </tr>\n",
       "    <tr>\n",
       "      <th>8806</th>\n",
       "      <td>8806</td>\n",
       "      <td>12</td>\n",
       "      <td>100000.80</td>\n",
       "      <td>M</td>\n",
       "      <td>M</td>\n",
       "      <td>2000004.0</td>\n",
       "      <td>1.0</td>\n",
       "      <td>TYPE-B</td>\n",
       "      <td>41</td>\n",
       "      <td>1</td>\n",
       "      <td>MONTHLY</td>\n",
       "      <td>664844</td>\n",
       "      <td>0</td>\n",
       "      <td>20100827</td>\n",
       "    </tr>\n",
       "  </tbody>\n",
       "</table>\n",
       "<p>6183 rows × 14 columns</p>\n",
       "</div>"
      ],
      "text/plain": [
       "        id  term        fee married gender     income  job package  age  \\\n",
       "0        0    22  100000.00       M      M   450000.0  1.0  TYPE-B   27   \n",
       "3        3    17  147576.48       M      F   450000.0  1.0  TYPE-A   47   \n",
       "4        4    39  100000.00       M      M   600000.0  1.0  TYPE-B   36   \n",
       "6        6    17  103016.16       S      M   999996.0  2.0  TYPE-A   35   \n",
       "9        9    12  300002.40       M      M   349992.0  1.0  TYPE-B   46   \n",
       "...    ...   ...        ...     ...    ...        ...  ...     ...  ...   \n",
       "8801  8801    12  100000.00       M      M   300000.0  2.0  TYPE-B   37   \n",
       "8803  8803    49  100000.00       M      M   399996.0  1.0  TYPE-B   46   \n",
       "8804  8804    54  600001.16       M      M  2250000.0  2.0  TYPE-A   51   \n",
       "8805  8805    27  100000.00       M      M   600000.0  1.0  TYPE-B   27   \n",
       "8806  8806    12  100000.80       M      M  2000004.0  1.0  TYPE-B   41   \n",
       "\n",
       "      family  payment    agent  target  start_date  \n",
       "0          1   ANNUAL   666099       0    20091029  \n",
       "3          3  MONTHLY   343344       0    20130331  \n",
       "4          3   ANNUAL   119199       0    20080313  \n",
       "6          0  MONTHLY   348099       0    20130930  \n",
       "9          2  MONTHLY  1360477       1    20121130  \n",
       "...      ...      ...      ...     ...         ...  \n",
       "8801       2   ANNUAL  1296622       1    20120806  \n",
       "8803       1   ANNUAL   841477       0    20100208  \n",
       "8804       3   ANNUAL  1347855       0    20130331  \n",
       "8805       2   ANNUAL   798833       0    20100127  \n",
       "8806       1  MONTHLY   664844       0    20100827  \n",
       "\n",
       "[6183 rows x 14 columns]"
      ]
     },
     "execution_count": 5,
     "metadata": {},
     "output_type": "execute_result"
    }
   ],
   "source": [
    "# 결측치가 있는 행 제거\n",
    "data.dropna(how='any')"
   ]
  },
  {
   "cell_type": "markdown",
   "metadata": {},
   "source": [
    "### 평균값 대체"
   ]
  },
  {
   "cell_type": "code",
   "execution_count": 6,
   "metadata": {},
   "outputs": [
    {
     "data": {
      "text/plain": [
       "16"
      ]
     },
     "execution_count": 6,
     "metadata": {},
     "output_type": "execute_result"
    }
   ],
   "source": [
    "# 결측치를 직업별 평균값으로 대체\n",
    "data['income'] = data['income'].fillna(data.groupby('job')['income'].transform('mean'))\n",
    "data['income'].isnull().sum() # 직업 결측치가 있기 때문에 결측치 16개 발생"
   ]
  },
  {
   "cell_type": "code",
   "execution_count": 7,
   "metadata": {},
   "outputs": [
    {
     "data": {
      "text/plain": [
       "0"
      ]
     },
     "execution_count": 7,
     "metadata": {},
     "output_type": "execute_result"
    }
   ],
   "source": [
    "# 결측치를 평균값으로 대체\n",
    "data['income'] = data['income'].fillna(data['income'].mean()) # 따라서 전체 평균값으로 대체\n",
    "data['income'].isnull().sum()"
   ]
  },
  {
   "cell_type": "code",
   "execution_count": 8,
   "metadata": {},
   "outputs": [
    {
     "data": {
      "text/html": [
       "<div>\n",
       "<style scoped>\n",
       "    .dataframe tbody tr th:only-of-type {\n",
       "        vertical-align: middle;\n",
       "    }\n",
       "\n",
       "    .dataframe tbody tr th {\n",
       "        vertical-align: top;\n",
       "    }\n",
       "\n",
       "    .dataframe thead th {\n",
       "        text-align: right;\n",
       "    }\n",
       "</style>\n",
       "<table border=\"1\" class=\"dataframe\">\n",
       "  <thead>\n",
       "    <tr style=\"text-align: right;\">\n",
       "      <th></th>\n",
       "      <th>id</th>\n",
       "      <th>term</th>\n",
       "      <th>fee</th>\n",
       "      <th>married</th>\n",
       "      <th>gender</th>\n",
       "      <th>income</th>\n",
       "      <th>job</th>\n",
       "      <th>package</th>\n",
       "      <th>age</th>\n",
       "      <th>family</th>\n",
       "      <th>payment</th>\n",
       "      <th>agent</th>\n",
       "      <th>target</th>\n",
       "      <th>start_date</th>\n",
       "      <th>income_log</th>\n",
       "    </tr>\n",
       "  </thead>\n",
       "  <tbody>\n",
       "    <tr>\n",
       "      <th>0</th>\n",
       "      <td>0</td>\n",
       "      <td>22</td>\n",
       "      <td>100000.00</td>\n",
       "      <td>M</td>\n",
       "      <td>M</td>\n",
       "      <td>450000.000000</td>\n",
       "      <td>1.0</td>\n",
       "      <td>TYPE-B</td>\n",
       "      <td>27</td>\n",
       "      <td>1</td>\n",
       "      <td>ANNUAL</td>\n",
       "      <td>666099</td>\n",
       "      <td>0</td>\n",
       "      <td>20091029</td>\n",
       "      <td>13.017005</td>\n",
       "    </tr>\n",
       "    <tr>\n",
       "      <th>1</th>\n",
       "      <td>1</td>\n",
       "      <td>88</td>\n",
       "      <td>149029.58</td>\n",
       "      <td>NaN</td>\n",
       "      <td>M</td>\n",
       "      <td>544756.571429</td>\n",
       "      <td>6.0</td>\n",
       "      <td>TYPE-A</td>\n",
       "      <td>75</td>\n",
       "      <td>0</td>\n",
       "      <td>ANNUAL</td>\n",
       "      <td>132000</td>\n",
       "      <td>0</td>\n",
       "      <td>20131014</td>\n",
       "      <td>13.208096</td>\n",
       "    </tr>\n",
       "    <tr>\n",
       "      <th>2</th>\n",
       "      <td>2</td>\n",
       "      <td>93</td>\n",
       "      <td>102999.94</td>\n",
       "      <td>NaN</td>\n",
       "      <td>M</td>\n",
       "      <td>600000.000000</td>\n",
       "      <td>1.0</td>\n",
       "      <td>TYPE-A</td>\n",
       "      <td>49</td>\n",
       "      <td>0</td>\n",
       "      <td>ANNUAL</td>\n",
       "      <td>1407177</td>\n",
       "      <td>0</td>\n",
       "      <td>20130531</td>\n",
       "      <td>13.304687</td>\n",
       "    </tr>\n",
       "    <tr>\n",
       "      <th>3</th>\n",
       "      <td>3</td>\n",
       "      <td>17</td>\n",
       "      <td>147576.48</td>\n",
       "      <td>M</td>\n",
       "      <td>F</td>\n",
       "      <td>450000.000000</td>\n",
       "      <td>1.0</td>\n",
       "      <td>TYPE-A</td>\n",
       "      <td>47</td>\n",
       "      <td>3</td>\n",
       "      <td>MONTHLY</td>\n",
       "      <td>343344</td>\n",
       "      <td>0</td>\n",
       "      <td>20130331</td>\n",
       "      <td>13.017005</td>\n",
       "    </tr>\n",
       "    <tr>\n",
       "      <th>4</th>\n",
       "      <td>4</td>\n",
       "      <td>39</td>\n",
       "      <td>100000.00</td>\n",
       "      <td>M</td>\n",
       "      <td>M</td>\n",
       "      <td>600000.000000</td>\n",
       "      <td>1.0</td>\n",
       "      <td>TYPE-B</td>\n",
       "      <td>36</td>\n",
       "      <td>3</td>\n",
       "      <td>ANNUAL</td>\n",
       "      <td>119199</td>\n",
       "      <td>0</td>\n",
       "      <td>20080313</td>\n",
       "      <td>13.304687</td>\n",
       "    </tr>\n",
       "  </tbody>\n",
       "</table>\n",
       "</div>"
      ],
      "text/plain": [
       "   id  term        fee married gender         income  job package  age  \\\n",
       "0   0    22  100000.00       M      M  450000.000000  1.0  TYPE-B   27   \n",
       "1   1    88  149029.58     NaN      M  544756.571429  6.0  TYPE-A   75   \n",
       "2   2    93  102999.94     NaN      M  600000.000000  1.0  TYPE-A   49   \n",
       "3   3    17  147576.48       M      F  450000.000000  1.0  TYPE-A   47   \n",
       "4   4    39  100000.00       M      M  600000.000000  1.0  TYPE-B   36   \n",
       "\n",
       "   family  payment    agent  target  start_date  income_log  \n",
       "0       1   ANNUAL   666099       0    20091029   13.017005  \n",
       "1       0   ANNUAL   132000       0    20131014   13.208096  \n",
       "2       0   ANNUAL  1407177       0    20130531   13.304687  \n",
       "3       3  MONTHLY   343344       0    20130331   13.017005  \n",
       "4       3   ANNUAL   119199       0    20080313   13.304687  "
      ]
     },
     "execution_count": 8,
     "metadata": {},
     "output_type": "execute_result"
    }
   ],
   "source": [
    "data['income_log'] = np.log1p(data['income'])\n",
    "data.head()\n",
    "# start_date : 날짜로 인식할수 있게 to_datetime 으로 변환하거나 가입 후 지난 날짜를 계산한 변수로 변경"
   ]
  },
  {
   "cell_type": "markdown",
   "metadata": {},
   "source": [
    "### 최빈값 대체"
   ]
  },
  {
   "cell_type": "code",
   "execution_count": 9,
   "metadata": {},
   "outputs": [
    {
     "data": {
      "text/plain": [
       "id             0\n",
       "term           0\n",
       "fee            0\n",
       "married        0\n",
       "gender         0\n",
       "income         0\n",
       "job           34\n",
       "package        0\n",
       "age            0\n",
       "family         0\n",
       "payment        0\n",
       "agent          0\n",
       "target         0\n",
       "start_date     0\n",
       "income_log     0\n",
       "dtype: int64"
      ]
     },
     "execution_count": 9,
     "metadata": {},
     "output_type": "execute_result"
    }
   ],
   "source": [
    "data['gender'] = data['gender'].fillna(data['gender'].mode()[0])\n",
    "data['married'] = data['married'].fillna(data['married'].mode()[0])\n",
    "\n",
    "data.isnull().sum()"
   ]
  },
  {
   "cell_type": "code",
   "execution_count": 10,
   "metadata": {},
   "outputs": [
    {
     "data": {
      "text/plain": [
       "id            0\n",
       "term          0\n",
       "fee           0\n",
       "married       0\n",
       "gender        0\n",
       "income        0\n",
       "job           0\n",
       "package       0\n",
       "age           0\n",
       "family        0\n",
       "payment       0\n",
       "agent         0\n",
       "target        0\n",
       "start_date    0\n",
       "income_log    0\n",
       "isna_job      0\n",
       "dtype: int64"
      ]
     },
     "execution_count": 10,
     "metadata": {},
     "output_type": "execute_result"
    }
   ],
   "source": [
    "data['isna_job'] = data['job'].isnull()\n",
    "data['job'] = data['job'].fillna('etc')\n",
    "\n",
    "# data = data.dropna(subset=['job'], how='any')\n",
    "data.isnull().sum()"
   ]
  },
  {
   "cell_type": "markdown",
   "metadata": {},
   "source": [
    "### Label Encoding"
   ]
  },
  {
   "cell_type": "code",
   "execution_count": 11,
   "metadata": {},
   "outputs": [
    {
     "data": {
      "text/plain": [
       "['id',\n",
       " 'term',\n",
       " 'fee',\n",
       " 'income',\n",
       " 'age',\n",
       " 'family',\n",
       " 'target',\n",
       " 'start_date',\n",
       " 'income_log',\n",
       " 'isna_job']"
      ]
     },
     "execution_count": 11,
     "metadata": {},
     "output_type": "execute_result"
    }
   ],
   "source": [
    "# 숫자형 변수\n",
    "numeric_features = []\n",
    "for col in data.columns:\n",
    "    if data[col].dtype != 'object':\n",
    "        numeric_features.append(col)\n",
    "        \n",
    "numeric_features        "
   ]
  },
  {
   "cell_type": "code",
   "execution_count": 12,
   "metadata": {},
   "outputs": [
    {
     "data": {
      "text/plain": [
       "['married', 'gender', 'job', 'package', 'payment', 'agent']"
      ]
     },
     "execution_count": 12,
     "metadata": {},
     "output_type": "execute_result"
    }
   ],
   "source": [
    "# 범주형 변수\n",
    "categorical_features = []\n",
    "for col in data.columns:\n",
    "    if data[col].dtype == 'O':\n",
    "        categorical_features.append(col)\n",
    "        \n",
    "categorical_features"
   ]
  },
  {
   "cell_type": "code",
   "execution_count": 13,
   "metadata": {},
   "outputs": [
    {
     "data": {
      "text/html": [
       "<div>\n",
       "<style scoped>\n",
       "    .dataframe tbody tr th:only-of-type {\n",
       "        vertical-align: middle;\n",
       "    }\n",
       "\n",
       "    .dataframe tbody tr th {\n",
       "        vertical-align: top;\n",
       "    }\n",
       "\n",
       "    .dataframe thead th {\n",
       "        text-align: right;\n",
       "    }\n",
       "</style>\n",
       "<table border=\"1\" class=\"dataframe\">\n",
       "  <thead>\n",
       "    <tr style=\"text-align: right;\">\n",
       "      <th></th>\n",
       "      <th>id</th>\n",
       "      <th>term</th>\n",
       "      <th>fee</th>\n",
       "      <th>married</th>\n",
       "      <th>gender</th>\n",
       "      <th>income</th>\n",
       "      <th>job</th>\n",
       "      <th>package</th>\n",
       "      <th>age</th>\n",
       "      <th>family</th>\n",
       "      <th>payment</th>\n",
       "      <th>agent</th>\n",
       "      <th>target</th>\n",
       "      <th>start_date</th>\n",
       "      <th>income_log</th>\n",
       "      <th>isna_job</th>\n",
       "    </tr>\n",
       "  </thead>\n",
       "  <tbody>\n",
       "    <tr>\n",
       "      <th>0</th>\n",
       "      <td>0</td>\n",
       "      <td>22</td>\n",
       "      <td>100000.00</td>\n",
       "      <td>1</td>\n",
       "      <td>1</td>\n",
       "      <td>450000.000000</td>\n",
       "      <td>0</td>\n",
       "      <td>1</td>\n",
       "      <td>27</td>\n",
       "      <td>1</td>\n",
       "      <td>0</td>\n",
       "      <td>3055</td>\n",
       "      <td>0</td>\n",
       "      <td>20091029</td>\n",
       "      <td>13.017005</td>\n",
       "      <td>False</td>\n",
       "    </tr>\n",
       "    <tr>\n",
       "      <th>1</th>\n",
       "      <td>1</td>\n",
       "      <td>88</td>\n",
       "      <td>149029.58</td>\n",
       "      <td>1</td>\n",
       "      <td>1</td>\n",
       "      <td>544756.571429</td>\n",
       "      <td>5</td>\n",
       "      <td>0</td>\n",
       "      <td>75</td>\n",
       "      <td>0</td>\n",
       "      <td>0</td>\n",
       "      <td>1078</td>\n",
       "      <td>0</td>\n",
       "      <td>20131014</td>\n",
       "      <td>13.208096</td>\n",
       "      <td>False</td>\n",
       "    </tr>\n",
       "    <tr>\n",
       "      <th>2</th>\n",
       "      <td>2</td>\n",
       "      <td>93</td>\n",
       "      <td>102999.94</td>\n",
       "      <td>1</td>\n",
       "      <td>1</td>\n",
       "      <td>600000.000000</td>\n",
       "      <td>0</td>\n",
       "      <td>0</td>\n",
       "      <td>49</td>\n",
       "      <td>0</td>\n",
       "      <td>0</td>\n",
       "      <td>1460</td>\n",
       "      <td>0</td>\n",
       "      <td>20130531</td>\n",
       "      <td>13.304687</td>\n",
       "      <td>False</td>\n",
       "    </tr>\n",
       "    <tr>\n",
       "      <th>3</th>\n",
       "      <td>3</td>\n",
       "      <td>17</td>\n",
       "      <td>147576.48</td>\n",
       "      <td>1</td>\n",
       "      <td>0</td>\n",
       "      <td>450000.000000</td>\n",
       "      <td>0</td>\n",
       "      <td>0</td>\n",
       "      <td>47</td>\n",
       "      <td>3</td>\n",
       "      <td>1</td>\n",
       "      <td>2204</td>\n",
       "      <td>0</td>\n",
       "      <td>20130331</td>\n",
       "      <td>13.017005</td>\n",
       "      <td>False</td>\n",
       "    </tr>\n",
       "    <tr>\n",
       "      <th>4</th>\n",
       "      <td>4</td>\n",
       "      <td>39</td>\n",
       "      <td>100000.00</td>\n",
       "      <td>1</td>\n",
       "      <td>1</td>\n",
       "      <td>600000.000000</td>\n",
       "      <td>0</td>\n",
       "      <td>1</td>\n",
       "      <td>36</td>\n",
       "      <td>3</td>\n",
       "      <td>0</td>\n",
       "      <td>494</td>\n",
       "      <td>0</td>\n",
       "      <td>20080313</td>\n",
       "      <td>13.304687</td>\n",
       "      <td>False</td>\n",
       "    </tr>\n",
       "  </tbody>\n",
       "</table>\n",
       "</div>"
      ],
      "text/plain": [
       "   id  term        fee  married  gender         income  job  package  age  \\\n",
       "0   0    22  100000.00        1       1  450000.000000    0        1   27   \n",
       "1   1    88  149029.58        1       1  544756.571429    5        0   75   \n",
       "2   2    93  102999.94        1       1  600000.000000    0        0   49   \n",
       "3   3    17  147576.48        1       0  450000.000000    0        0   47   \n",
       "4   4    39  100000.00        1       1  600000.000000    0        1   36   \n",
       "\n",
       "   family  payment  agent  target  start_date  income_log  isna_job  \n",
       "0       1        0   3055       0    20091029   13.017005     False  \n",
       "1       0        0   1078       0    20131014   13.208096     False  \n",
       "2       0        0   1460       0    20130531   13.304687     False  \n",
       "3       3        1   2204       0    20130331   13.017005     False  \n",
       "4       3        0    494       0    20080313   13.304687     False  "
      ]
     },
     "execution_count": 13,
     "metadata": {},
     "output_type": "execute_result"
    }
   ],
   "source": [
    "# 범주형 변수 레이블 인코딩\n",
    "from sklearn.preprocessing import LabelEncoder\n",
    "\n",
    "le = LabelEncoder()\n",
    "for col in categorical_features:\n",
    "\n",
    "    data[col] = data[col].astype(str).astype('category')\n",
    "    data[col] = le.fit_transform(data[col])\n",
    "\n",
    "data.head()"
   ]
  },
  {
   "cell_type": "markdown",
   "metadata": {},
   "source": [
    "### Feature 선택"
   ]
  },
  {
   "cell_type": "code",
   "execution_count": 14,
   "metadata": {},
   "outputs": [
    {
     "name": "stdout",
     "output_type": "stream",
     "text": [
      "(8807, 11) (8807,)\n"
     ]
    }
   ],
   "source": [
    "selected_features = ['term', 'fee', 'married', 'gender', 'job', 'package',\n",
    "       'age', 'family', 'payment', 'income_log', 'isna_job']\n",
    "\n",
    "X = data.loc[:, selected_features].copy()\n",
    "y = data.loc[:, 'target'].copy()\n",
    "\n",
    "print(X.shape, y.shape)"
   ]
  },
  {
   "cell_type": "code",
   "execution_count": 15,
   "metadata": {},
   "outputs": [],
   "source": [
    "import xgboost as xgb\n",
    "from sklearn.metrics import f1_score\n",
    "from sklearn.model_selection import StratifiedKFold"
   ]
  },
  {
   "cell_type": "markdown",
   "metadata": {},
   "source": [
    "### Optuna 최적화"
   ]
  },
  {
   "cell_type": "code",
   "execution_count": 16,
   "metadata": {},
   "outputs": [
    {
     "name": "stderr",
     "output_type": "stream",
     "text": [
      "[I 2025-01-28 16:16:59,669] A new study created in memory with name: xgboost_optimization\n",
      "[I 2025-01-28 16:17:00,052] Trial 0 finished with value: 0.5211983612798796 and parameters: {'n_estimators': 79, 'max_depth': 2, 'learning_rate': 0.01928752977096398, 'subsample': 0.5793748289074372, 'colsample_bytree': 0.9437251142564883, 'reg_alpha': 0.0002985579568882888, 'reg_lambda': 0.9940033008905271, 'scale_pos_weight': 2.839981967807057}. Best is trial 0 with value: 0.5211983612798796.\n"
     ]
    },
    {
     "name": "stdout",
     "output_type": "stream",
     "text": [
      "\n",
      "Trial 0:\n",
      "Mean F1 Score: 0.5212\n",
      "Mean Training Time: 0.07 seconds\n",
      "Parameters: {'n_estimators': 79, 'max_depth': 2, 'learning_rate': 0.01928752977096398, 'subsample': 0.5793748289074372, 'colsample_bytree': 0.9437251142564883, 'reg_alpha': 0.0002985579568882888, 'reg_lambda': 0.9940033008905271, 'scale_pos_weight': 2.839981967807057}\n"
     ]
    },
    {
     "name": "stderr",
     "output_type": "stream",
     "text": [
      "[I 2025-01-28 16:17:01,853] Trial 1 finished with value: 0.4930724971739101 and parameters: {'n_estimators': 371, 'max_depth': 4, 'learning_rate': 0.04619728846191235, 'subsample': 0.7854432251075598, 'colsample_bytree': 0.69789715729707, 'reg_alpha': 0.0001561761772706679, 'reg_lambda': 0.03264823586500685, 'scale_pos_weight': 1.7540169646062447}. Best is trial 0 with value: 0.5211983612798796.\n"
     ]
    },
    {
     "name": "stdout",
     "output_type": "stream",
     "text": [
      "\n",
      "Trial 1:\n",
      "Mean F1 Score: 0.4931\n",
      "Mean Training Time: 0.35 seconds\n",
      "Parameters: {'n_estimators': 371, 'max_depth': 4, 'learning_rate': 0.04619728846191235, 'subsample': 0.7854432251075598, 'colsample_bytree': 0.69789715729707, 'reg_alpha': 0.0001561761772706679, 'reg_lambda': 0.03264823586500685, 'scale_pos_weight': 1.7540169646062447}\n"
     ]
    },
    {
     "name": "stderr",
     "output_type": "stream",
     "text": [
      "[I 2025-01-28 16:17:03,046] Trial 2 finished with value: 0.53445566039846 and parameters: {'n_estimators': 220, 'max_depth': 5, 'learning_rate': 0.030529823770469373, 'subsample': 0.6505053631988998, 'colsample_bytree': 0.6135509451319288, 'reg_alpha': 0.07892437750814096, 'reg_lambda': 0.0023290147662228815, 'scale_pos_weight': 2.5964629318005676}. Best is trial 2 with value: 0.53445566039846.\n"
     ]
    },
    {
     "name": "stdout",
     "output_type": "stream",
     "text": [
      "\n",
      "Trial 2:\n",
      "Mean F1 Score: 0.5345\n",
      "Mean Training Time: 0.23 seconds\n",
      "Parameters: {'n_estimators': 220, 'max_depth': 5, 'learning_rate': 0.030529823770469373, 'subsample': 0.6505053631988998, 'colsample_bytree': 0.6135509451319288, 'reg_alpha': 0.07892437750814096, 'reg_lambda': 0.0023290147662228815, 'scale_pos_weight': 2.5964629318005676}\n"
     ]
    },
    {
     "name": "stderr",
     "output_type": "stream",
     "text": [
      "[I 2025-01-28 16:17:05,597] Trial 3 finished with value: 0.3809205402970356 and parameters: {'n_estimators': 448, 'max_depth': 5, 'learning_rate': 0.055621138595300865, 'subsample': 0.5013723794106733, 'colsample_bytree': 0.9208852264210817, 'reg_alpha': 0.007492413631194563, 'reg_lambda': 3.3929312192567186e-07, 'scale_pos_weight': 1.124209811777579}. Best is trial 2 with value: 0.53445566039846.\n"
     ]
    },
    {
     "name": "stdout",
     "output_type": "stream",
     "text": [
      "\n",
      "Trial 3:\n",
      "Mean F1 Score: 0.3809\n",
      "Mean Training Time: 0.50 seconds\n",
      "Parameters: {'n_estimators': 448, 'max_depth': 5, 'learning_rate': 0.055621138595300865, 'subsample': 0.5013723794106733, 'colsample_bytree': 0.9208852264210817, 'reg_alpha': 0.007492413631194563, 'reg_lambda': 3.3929312192567186e-07, 'scale_pos_weight': 1.124209811777579}\n"
     ]
    },
    {
     "name": "stderr",
     "output_type": "stream",
     "text": [
      "[I 2025-01-28 16:17:06,168] Trial 4 finished with value: 0.3950626759140328 and parameters: {'n_estimators': 124, 'max_depth': 2, 'learning_rate': 0.014829566895219876, 'subsample': 0.922986059043114, 'colsample_bytree': 0.7594717147615152, 'reg_alpha': 0.003197119901369823, 'reg_lambda': 0.19630024203241325, 'scale_pos_weight': 1.7313251042126137}. Best is trial 2 with value: 0.53445566039846.\n"
     ]
    },
    {
     "name": "stdout",
     "output_type": "stream",
     "text": [
      "\n",
      "Trial 4:\n",
      "Mean F1 Score: 0.3951\n",
      "Mean Training Time: 0.11 seconds\n",
      "Parameters: {'n_estimators': 124, 'max_depth': 2, 'learning_rate': 0.014829566895219876, 'subsample': 0.922986059043114, 'colsample_bytree': 0.7594717147615152, 'reg_alpha': 0.003197119901369823, 'reg_lambda': 0.19630024203241325, 'scale_pos_weight': 1.7313251042126137}\n"
     ]
    },
    {
     "name": "stderr",
     "output_type": "stream",
     "text": [
      "[I 2025-01-28 16:17:08,203] Trial 5 finished with value: 0.5332233508615747 and parameters: {'n_estimators': 434, 'max_depth': 3, 'learning_rate': 0.027959906341514348, 'subsample': 0.6468213367635229, 'colsample_bytree': 0.8612054456456333, 'reg_alpha': 0.00824336376571507, 'reg_lambda': 0.005115346631413965, 'scale_pos_weight': 2.385255112701392}. Best is trial 2 with value: 0.53445566039846.\n"
     ]
    },
    {
     "name": "stdout",
     "output_type": "stream",
     "text": [
      "\n",
      "Trial 5:\n",
      "Mean F1 Score: 0.5332\n",
      "Mean Training Time: 0.40 seconds\n",
      "Parameters: {'n_estimators': 434, 'max_depth': 3, 'learning_rate': 0.027959906341514348, 'subsample': 0.6468213367635229, 'colsample_bytree': 0.8612054456456333, 'reg_alpha': 0.00824336376571507, 'reg_lambda': 0.005115346631413965, 'scale_pos_weight': 2.385255112701392}\n"
     ]
    },
    {
     "name": "stderr",
     "output_type": "stream",
     "text": [
      "[I 2025-01-28 16:17:08,791] Trial 6 finished with value: 0.5237098919990597 and parameters: {'n_estimators': 108, 'max_depth': 3, 'learning_rate': 0.019437282357561123, 'subsample': 0.848840256949724, 'colsample_bytree': 0.7202683288567859, 'reg_alpha': 0.019390813678552502, 'reg_lambda': 0.8976654780560833, 'scale_pos_weight': 3.681484633038485}. Best is trial 2 with value: 0.53445566039846.\n"
     ]
    },
    {
     "name": "stdout",
     "output_type": "stream",
     "text": [
      "\n",
      "Trial 6:\n",
      "Mean F1 Score: 0.5237\n",
      "Mean Training Time: 0.11 seconds\n",
      "Parameters: {'n_estimators': 108, 'max_depth': 3, 'learning_rate': 0.019437282357561123, 'subsample': 0.848840256949724, 'colsample_bytree': 0.7202683288567859, 'reg_alpha': 0.019390813678552502, 'reg_lambda': 0.8976654780560833, 'scale_pos_weight': 3.681484633038485}\n"
     ]
    },
    {
     "name": "stderr",
     "output_type": "stream",
     "text": [
      "[I 2025-01-28 16:17:09,163] Trial 7 finished with value: -inf and parameters: {'n_estimators': 183, 'max_depth': 2, 'learning_rate': 0.010282514154604147, 'subsample': 0.9587384639565357, 'colsample_bytree': 0.5136722169906678, 'reg_alpha': 0.0006160555443820768, 'reg_lambda': 3.1692512487946106e-06, 'scale_pos_weight': 3.526470862746957}. Best is trial 2 with value: 0.53445566039846.\n"
     ]
    },
    {
     "name": "stdout",
     "output_type": "stream",
     "text": [
      "Error in trial 7: \n"
     ]
    },
    {
     "name": "stderr",
     "output_type": "stream",
     "text": [
      "[I 2025-01-28 16:17:09,495] Trial 8 finished with value: 0.5372930651571205 and parameters: {'n_estimators': 54, 'max_depth': 3, 'learning_rate': 0.08140043819062062, 'subsample': 0.7410099777128472, 'colsample_bytree': 0.9248473274569027, 'reg_alpha': 2.453445896986848e-05, 'reg_lambda': 0.06897274168855157, 'scale_pos_weight': 2.680702478566129}. Best is trial 8 with value: 0.5372930651571205.\n"
     ]
    },
    {
     "name": "stdout",
     "output_type": "stream",
     "text": [
      "\n",
      "Trial 8:\n",
      "Mean F1 Score: 0.5373\n",
      "Mean Training Time: 0.06 seconds\n",
      "Parameters: {'n_estimators': 54, 'max_depth': 3, 'learning_rate': 0.08140043819062062, 'subsample': 0.7410099777128472, 'colsample_bytree': 0.9248473274569027, 'reg_alpha': 2.453445896986848e-05, 'reg_lambda': 0.06897274168855157, 'scale_pos_weight': 2.680702478566129}\n"
     ]
    },
    {
     "name": "stderr",
     "output_type": "stream",
     "text": [
      "[I 2025-01-28 16:17:09,902] Trial 9 finished with value: 0.5282194964267354 and parameters: {'n_estimators': 61, 'max_depth': 4, 'learning_rate': 0.01665855602955541, 'subsample': 0.8990802746540305, 'colsample_bytree': 0.5915824586333233, 'reg_alpha': 0.10620188888087047, 'reg_lambda': 4.3357824304901857e-07, 'scale_pos_weight': 3.105874872144122}. Best is trial 8 with value: 0.5372930651571205.\n"
     ]
    },
    {
     "name": "stdout",
     "output_type": "stream",
     "text": [
      "\n",
      "Trial 9:\n",
      "Mean F1 Score: 0.5282\n",
      "Mean Training Time: 0.08 seconds\n",
      "Parameters: {'n_estimators': 61, 'max_depth': 4, 'learning_rate': 0.01665855602955541, 'subsample': 0.8990802746540305, 'colsample_bytree': 0.5915824586333233, 'reg_alpha': 0.10620188888087047, 'reg_lambda': 4.3357824304901857e-07, 'scale_pos_weight': 3.105874872144122}\n",
      "\n",
      "Best trial:\n",
      "Value: 0.5373\n",
      "Best hyperparameters:\n",
      "    n_estimators: 54\n",
      "    max_depth: 3\n",
      "    learning_rate: 0.08140043819062062\n",
      "    subsample: 0.7410099777128472\n",
      "    colsample_bytree: 0.9248473274569027\n",
      "    reg_alpha: 2.453445896986848e-05\n",
      "    reg_lambda: 0.06897274168855157\n",
      "    scale_pos_weight: 2.680702478566129\n"
     ]
    }
   ],
   "source": [
    "import optuna\n",
    "import time\n",
    "\n",
    "def objective(trial):\n",
    "    # 더 다양한 하이퍼파라미터 탐색\n",
    "    # 본 코드에서는 xgboost 모델을 활용해서 해당 모델의 최적의 파라미터를 설정한다.\n",
    "    # 따라서 아래의 params 는 xgboost 의 파라미터들이며, 각 파라미터의 범위는 직접 설정해야 한다.\n",
    "    params = {\n",
    "        'n_estimators': trial.suggest_int('n_estimators', 50, 500),\n",
    "        'max_depth': trial.suggest_int('max_depth', 2, 5),\n",
    "        'learning_rate': trial.suggest_loguniform('learning_rate', 0.01, 0.1),\n",
    "        'subsample': trial.suggest_uniform('subsample', 0.5, 1.0),\n",
    "        'colsample_bytree': trial.suggest_uniform('colsample_bytree', 0.5, 1.0),\n",
    "        'reg_alpha': trial.suggest_loguniform('reg_alpha', 1e-8, 1.0),\n",
    "        'reg_lambda': trial.suggest_loguniform('reg_lambda', 1e-8, 1.0),\n",
    "        'scale_pos_weight': trial.suggest_uniform('scale_pos_weight', 1.0, 5.0)\n",
    "    }\n",
    "\n",
    "    # 교차 검증을 위한 지표들\n",
    "    cv_scores = {\n",
    "        'f1': [],\n",
    "        'training_time': []\n",
    "    }\n",
    "\n",
    "    # xgboost 모델을 실행해서 위의 지표들을 통해 평가하고 최적의 파라미터를 찾는다.\n",
    "    try:\n",
    "        model = xgb.XGBClassifier(\n",
    "            random_state=42,\n",
    "            tree_method='hist',  # 더 빠른 학습을 위한 설정\n",
    "            **params\n",
    "        )\n",
    "\n",
    "        skf = StratifiedKFold(n_splits=5, random_state=42, shuffle=True)\n",
    "\n",
    "        for fold, (train_idx, valid_idx) in enumerate(skf.split(X, y), 1):\n",
    "            X_tr, X_val = X.iloc[train_idx], X.iloc[valid_idx]\n",
    "            y_tr, y_val = y.iloc[train_idx], y.iloc[valid_idx]\n",
    "\n",
    "            # 학습 시간 측정\n",
    "            start_time = time.time()\n",
    "            model.fit(X_tr, y_tr,\n",
    "                    eval_set=[(X_val, y_val)], # evaluation set : 검증셋 설정\n",
    "                    verbose=0)\n",
    "            training_time = time.time() - start_time\n",
    "\n",
    "            y_pred = model.predict(X_val)\n",
    "            fold_f1 = f1_score(y_val, y_pred)\n",
    "            \n",
    "            cv_scores['f1'].append(fold_f1)\n",
    "            cv_scores['training_time'].append(training_time)\n",
    "\n",
    "            # 중간 결과 출력\n",
    "            trial.report(fold_f1, fold)\n",
    "\n",
    "            # 성능이 너무 안 좋으면 early stopping\n",
    "            if trial.should_prune():\n",
    "                raise optuna.TrialPruned()\n",
    "\n",
    "        # 평균 성능 계산\n",
    "        mean_f1 = np.mean(cv_scores['f1'])\n",
    "        mean_time = np.mean(cv_scores['training_time'])\n",
    "\n",
    "        # 결과 로깅\n",
    "        print(f\"\\nTrial {trial.number}:\")\n",
    "        print(f\"Mean F1 Score: {mean_f1:.4f}\")\n",
    "        print(f\"Mean Training Time: {mean_time:.2f} seconds\")\n",
    "        print(f\"Parameters: {params}\")\n",
    "\n",
    "        return mean_f1\n",
    "\n",
    "    except Exception as e:\n",
    "        print(f\"Error in trial {trial.number}: {str(e)}\")\n",
    "        return float('-inf')\n",
    "\n",
    "# Optuna study 설정\n",
    "study = optuna.create_study(\n",
    "    direction='maximize',   # f1 score 를 최대화하려는 설정\n",
    "    pruner=optuna.pruners.MedianPruner(n_startup_trials=5),\n",
    "    study_name='xgboost_optimization'\n",
    ")\n",
    "\n",
    "# 최적화 실행\n",
    "study.optimize(\n",
    "    objective, \n",
    "    n_trials=10,   # 10회 실험 -> 실험 횟수 많이 할수록 더 좋아진다.\n",
    "    timeout=3600,  # 1시간 제한\n",
    "    catch=(Exception,)\n",
    ")\n",
    "\n",
    "# 최적화 결과 출력\n",
    "print(\"\\nBest trial:\")\n",
    "print(f\"Value: {study.best_value:.4f}\")\n",
    "print(\"Best hyperparameters:\")\n",
    "for key, value in study.best_params.items():\n",
    "    print(f\"    {key}: {value}\")"
   ]
  },
  {
   "cell_type": "code",
   "execution_count": 17,
   "metadata": {},
   "outputs": [
    {
     "data": {
      "application/vnd.plotly.v1+json": {
       "config": {
        "plotlyServerURL": "https://plot.ly"
       },
       "data": [
        {
         "mode": "markers",
         "name": "Objective Value",
         "type": "scatter",
         "x": [
          0,
          1,
          2,
          3,
          4,
          5,
          6,
          7,
          8,
          9
         ],
         "y": [
          0.5211983612798796,
          0.4930724971739101,
          0.53445566039846,
          0.3809205402970356,
          0.3950626759140328,
          0.5332233508615747,
          0.5237098919990597,
          null,
          0.5372930651571205,
          0.5282194964267354
         ]
        },
        {
         "mode": "lines",
         "name": "Best Value",
         "type": "scatter",
         "x": [
          0,
          1,
          2,
          3,
          4,
          5,
          6,
          7,
          8,
          9
         ],
         "y": [
          0.5211983612798796,
          0.5211983612798796,
          0.53445566039846,
          0.53445566039846,
          0.53445566039846,
          0.53445566039846,
          0.53445566039846,
          0.53445566039846,
          0.5372930651571205,
          0.5372930651571205
         ]
        },
        {
         "marker": {
          "color": "#cccccc"
         },
         "mode": "markers",
         "name": "Infeasible Trial",
         "showlegend": false,
         "type": "scatter",
         "x": [],
         "y": []
        }
       ],
       "layout": {
        "template": {
         "data": {
          "bar": [
           {
            "error_x": {
             "color": "#2a3f5f"
            },
            "error_y": {
             "color": "#2a3f5f"
            },
            "marker": {
             "line": {
              "color": "#E5ECF6",
              "width": 0.5
             },
             "pattern": {
              "fillmode": "overlay",
              "size": 10,
              "solidity": 0.2
             }
            },
            "type": "bar"
           }
          ],
          "barpolar": [
           {
            "marker": {
             "line": {
              "color": "#E5ECF6",
              "width": 0.5
             },
             "pattern": {
              "fillmode": "overlay",
              "size": 10,
              "solidity": 0.2
             }
            },
            "type": "barpolar"
           }
          ],
          "carpet": [
           {
            "aaxis": {
             "endlinecolor": "#2a3f5f",
             "gridcolor": "white",
             "linecolor": "white",
             "minorgridcolor": "white",
             "startlinecolor": "#2a3f5f"
            },
            "baxis": {
             "endlinecolor": "#2a3f5f",
             "gridcolor": "white",
             "linecolor": "white",
             "minorgridcolor": "white",
             "startlinecolor": "#2a3f5f"
            },
            "type": "carpet"
           }
          ],
          "choropleth": [
           {
            "colorbar": {
             "outlinewidth": 0,
             "ticks": ""
            },
            "type": "choropleth"
           }
          ],
          "contour": [
           {
            "colorbar": {
             "outlinewidth": 0,
             "ticks": ""
            },
            "colorscale": [
             [
              0,
              "#0d0887"
             ],
             [
              0.1111111111111111,
              "#46039f"
             ],
             [
              0.2222222222222222,
              "#7201a8"
             ],
             [
              0.3333333333333333,
              "#9c179e"
             ],
             [
              0.4444444444444444,
              "#bd3786"
             ],
             [
              0.5555555555555556,
              "#d8576b"
             ],
             [
              0.6666666666666666,
              "#ed7953"
             ],
             [
              0.7777777777777778,
              "#fb9f3a"
             ],
             [
              0.8888888888888888,
              "#fdca26"
             ],
             [
              1,
              "#f0f921"
             ]
            ],
            "type": "contour"
           }
          ],
          "contourcarpet": [
           {
            "colorbar": {
             "outlinewidth": 0,
             "ticks": ""
            },
            "type": "contourcarpet"
           }
          ],
          "heatmap": [
           {
            "colorbar": {
             "outlinewidth": 0,
             "ticks": ""
            },
            "colorscale": [
             [
              0,
              "#0d0887"
             ],
             [
              0.1111111111111111,
              "#46039f"
             ],
             [
              0.2222222222222222,
              "#7201a8"
             ],
             [
              0.3333333333333333,
              "#9c179e"
             ],
             [
              0.4444444444444444,
              "#bd3786"
             ],
             [
              0.5555555555555556,
              "#d8576b"
             ],
             [
              0.6666666666666666,
              "#ed7953"
             ],
             [
              0.7777777777777778,
              "#fb9f3a"
             ],
             [
              0.8888888888888888,
              "#fdca26"
             ],
             [
              1,
              "#f0f921"
             ]
            ],
            "type": "heatmap"
           }
          ],
          "heatmapgl": [
           {
            "colorbar": {
             "outlinewidth": 0,
             "ticks": ""
            },
            "colorscale": [
             [
              0,
              "#0d0887"
             ],
             [
              0.1111111111111111,
              "#46039f"
             ],
             [
              0.2222222222222222,
              "#7201a8"
             ],
             [
              0.3333333333333333,
              "#9c179e"
             ],
             [
              0.4444444444444444,
              "#bd3786"
             ],
             [
              0.5555555555555556,
              "#d8576b"
             ],
             [
              0.6666666666666666,
              "#ed7953"
             ],
             [
              0.7777777777777778,
              "#fb9f3a"
             ],
             [
              0.8888888888888888,
              "#fdca26"
             ],
             [
              1,
              "#f0f921"
             ]
            ],
            "type": "heatmapgl"
           }
          ],
          "histogram": [
           {
            "marker": {
             "pattern": {
              "fillmode": "overlay",
              "size": 10,
              "solidity": 0.2
             }
            },
            "type": "histogram"
           }
          ],
          "histogram2d": [
           {
            "colorbar": {
             "outlinewidth": 0,
             "ticks": ""
            },
            "colorscale": [
             [
              0,
              "#0d0887"
             ],
             [
              0.1111111111111111,
              "#46039f"
             ],
             [
              0.2222222222222222,
              "#7201a8"
             ],
             [
              0.3333333333333333,
              "#9c179e"
             ],
             [
              0.4444444444444444,
              "#bd3786"
             ],
             [
              0.5555555555555556,
              "#d8576b"
             ],
             [
              0.6666666666666666,
              "#ed7953"
             ],
             [
              0.7777777777777778,
              "#fb9f3a"
             ],
             [
              0.8888888888888888,
              "#fdca26"
             ],
             [
              1,
              "#f0f921"
             ]
            ],
            "type": "histogram2d"
           }
          ],
          "histogram2dcontour": [
           {
            "colorbar": {
             "outlinewidth": 0,
             "ticks": ""
            },
            "colorscale": [
             [
              0,
              "#0d0887"
             ],
             [
              0.1111111111111111,
              "#46039f"
             ],
             [
              0.2222222222222222,
              "#7201a8"
             ],
             [
              0.3333333333333333,
              "#9c179e"
             ],
             [
              0.4444444444444444,
              "#bd3786"
             ],
             [
              0.5555555555555556,
              "#d8576b"
             ],
             [
              0.6666666666666666,
              "#ed7953"
             ],
             [
              0.7777777777777778,
              "#fb9f3a"
             ],
             [
              0.8888888888888888,
              "#fdca26"
             ],
             [
              1,
              "#f0f921"
             ]
            ],
            "type": "histogram2dcontour"
           }
          ],
          "mesh3d": [
           {
            "colorbar": {
             "outlinewidth": 0,
             "ticks": ""
            },
            "type": "mesh3d"
           }
          ],
          "parcoords": [
           {
            "line": {
             "colorbar": {
              "outlinewidth": 0,
              "ticks": ""
             }
            },
            "type": "parcoords"
           }
          ],
          "pie": [
           {
            "automargin": true,
            "type": "pie"
           }
          ],
          "scatter": [
           {
            "fillpattern": {
             "fillmode": "overlay",
             "size": 10,
             "solidity": 0.2
            },
            "type": "scatter"
           }
          ],
          "scatter3d": [
           {
            "line": {
             "colorbar": {
              "outlinewidth": 0,
              "ticks": ""
             }
            },
            "marker": {
             "colorbar": {
              "outlinewidth": 0,
              "ticks": ""
             }
            },
            "type": "scatter3d"
           }
          ],
          "scattercarpet": [
           {
            "marker": {
             "colorbar": {
              "outlinewidth": 0,
              "ticks": ""
             }
            },
            "type": "scattercarpet"
           }
          ],
          "scattergeo": [
           {
            "marker": {
             "colorbar": {
              "outlinewidth": 0,
              "ticks": ""
             }
            },
            "type": "scattergeo"
           }
          ],
          "scattergl": [
           {
            "marker": {
             "colorbar": {
              "outlinewidth": 0,
              "ticks": ""
             }
            },
            "type": "scattergl"
           }
          ],
          "scattermapbox": [
           {
            "marker": {
             "colorbar": {
              "outlinewidth": 0,
              "ticks": ""
             }
            },
            "type": "scattermapbox"
           }
          ],
          "scatterpolar": [
           {
            "marker": {
             "colorbar": {
              "outlinewidth": 0,
              "ticks": ""
             }
            },
            "type": "scatterpolar"
           }
          ],
          "scatterpolargl": [
           {
            "marker": {
             "colorbar": {
              "outlinewidth": 0,
              "ticks": ""
             }
            },
            "type": "scatterpolargl"
           }
          ],
          "scatterternary": [
           {
            "marker": {
             "colorbar": {
              "outlinewidth": 0,
              "ticks": ""
             }
            },
            "type": "scatterternary"
           }
          ],
          "surface": [
           {
            "colorbar": {
             "outlinewidth": 0,
             "ticks": ""
            },
            "colorscale": [
             [
              0,
              "#0d0887"
             ],
             [
              0.1111111111111111,
              "#46039f"
             ],
             [
              0.2222222222222222,
              "#7201a8"
             ],
             [
              0.3333333333333333,
              "#9c179e"
             ],
             [
              0.4444444444444444,
              "#bd3786"
             ],
             [
              0.5555555555555556,
              "#d8576b"
             ],
             [
              0.6666666666666666,
              "#ed7953"
             ],
             [
              0.7777777777777778,
              "#fb9f3a"
             ],
             [
              0.8888888888888888,
              "#fdca26"
             ],
             [
              1,
              "#f0f921"
             ]
            ],
            "type": "surface"
           }
          ],
          "table": [
           {
            "cells": {
             "fill": {
              "color": "#EBF0F8"
             },
             "line": {
              "color": "white"
             }
            },
            "header": {
             "fill": {
              "color": "#C8D4E3"
             },
             "line": {
              "color": "white"
             }
            },
            "type": "table"
           }
          ]
         },
         "layout": {
          "annotationdefaults": {
           "arrowcolor": "#2a3f5f",
           "arrowhead": 0,
           "arrowwidth": 1
          },
          "autotypenumbers": "strict",
          "coloraxis": {
           "colorbar": {
            "outlinewidth": 0,
            "ticks": ""
           }
          },
          "colorscale": {
           "diverging": [
            [
             0,
             "#8e0152"
            ],
            [
             0.1,
             "#c51b7d"
            ],
            [
             0.2,
             "#de77ae"
            ],
            [
             0.3,
             "#f1b6da"
            ],
            [
             0.4,
             "#fde0ef"
            ],
            [
             0.5,
             "#f7f7f7"
            ],
            [
             0.6,
             "#e6f5d0"
            ],
            [
             0.7,
             "#b8e186"
            ],
            [
             0.8,
             "#7fbc41"
            ],
            [
             0.9,
             "#4d9221"
            ],
            [
             1,
             "#276419"
            ]
           ],
           "sequential": [
            [
             0,
             "#0d0887"
            ],
            [
             0.1111111111111111,
             "#46039f"
            ],
            [
             0.2222222222222222,
             "#7201a8"
            ],
            [
             0.3333333333333333,
             "#9c179e"
            ],
            [
             0.4444444444444444,
             "#bd3786"
            ],
            [
             0.5555555555555556,
             "#d8576b"
            ],
            [
             0.6666666666666666,
             "#ed7953"
            ],
            [
             0.7777777777777778,
             "#fb9f3a"
            ],
            [
             0.8888888888888888,
             "#fdca26"
            ],
            [
             1,
             "#f0f921"
            ]
           ],
           "sequentialminus": [
            [
             0,
             "#0d0887"
            ],
            [
             0.1111111111111111,
             "#46039f"
            ],
            [
             0.2222222222222222,
             "#7201a8"
            ],
            [
             0.3333333333333333,
             "#9c179e"
            ],
            [
             0.4444444444444444,
             "#bd3786"
            ],
            [
             0.5555555555555556,
             "#d8576b"
            ],
            [
             0.6666666666666666,
             "#ed7953"
            ],
            [
             0.7777777777777778,
             "#fb9f3a"
            ],
            [
             0.8888888888888888,
             "#fdca26"
            ],
            [
             1,
             "#f0f921"
            ]
           ]
          },
          "colorway": [
           "#636efa",
           "#EF553B",
           "#00cc96",
           "#ab63fa",
           "#FFA15A",
           "#19d3f3",
           "#FF6692",
           "#B6E880",
           "#FF97FF",
           "#FECB52"
          ],
          "font": {
           "color": "#2a3f5f"
          },
          "geo": {
           "bgcolor": "white",
           "lakecolor": "white",
           "landcolor": "#E5ECF6",
           "showlakes": true,
           "showland": true,
           "subunitcolor": "white"
          },
          "hoverlabel": {
           "align": "left"
          },
          "hovermode": "closest",
          "mapbox": {
           "style": "light"
          },
          "paper_bgcolor": "white",
          "plot_bgcolor": "#E5ECF6",
          "polar": {
           "angularaxis": {
            "gridcolor": "white",
            "linecolor": "white",
            "ticks": ""
           },
           "bgcolor": "#E5ECF6",
           "radialaxis": {
            "gridcolor": "white",
            "linecolor": "white",
            "ticks": ""
           }
          },
          "scene": {
           "xaxis": {
            "backgroundcolor": "#E5ECF6",
            "gridcolor": "white",
            "gridwidth": 2,
            "linecolor": "white",
            "showbackground": true,
            "ticks": "",
            "zerolinecolor": "white"
           },
           "yaxis": {
            "backgroundcolor": "#E5ECF6",
            "gridcolor": "white",
            "gridwidth": 2,
            "linecolor": "white",
            "showbackground": true,
            "ticks": "",
            "zerolinecolor": "white"
           },
           "zaxis": {
            "backgroundcolor": "#E5ECF6",
            "gridcolor": "white",
            "gridwidth": 2,
            "linecolor": "white",
            "showbackground": true,
            "ticks": "",
            "zerolinecolor": "white"
           }
          },
          "shapedefaults": {
           "line": {
            "color": "#2a3f5f"
           }
          },
          "ternary": {
           "aaxis": {
            "gridcolor": "white",
            "linecolor": "white",
            "ticks": ""
           },
           "baxis": {
            "gridcolor": "white",
            "linecolor": "white",
            "ticks": ""
           },
           "bgcolor": "#E5ECF6",
           "caxis": {
            "gridcolor": "white",
            "linecolor": "white",
            "ticks": ""
           }
          },
          "title": {
           "x": 0.05
          },
          "xaxis": {
           "automargin": true,
           "gridcolor": "white",
           "linecolor": "white",
           "ticks": "",
           "title": {
            "standoff": 15
           },
           "zerolinecolor": "white",
           "zerolinewidth": 2
          },
          "yaxis": {
           "automargin": true,
           "gridcolor": "white",
           "linecolor": "white",
           "ticks": "",
           "title": {
            "standoff": 15
           },
           "zerolinecolor": "white",
           "zerolinewidth": 2
          }
         }
        },
        "title": {
         "text": "Optimization History Plot"
        },
        "xaxis": {
         "title": {
          "text": "Trial"
         }
        },
        "yaxis": {
         "title": {
          "text": "Objective Value"
         }
        }
       }
      }
     },
     "metadata": {},
     "output_type": "display_data"
    }
   ],
   "source": [
    "# 결과 시각화\n",
    "optuna.visualization.plot_optimization_history(study)"
   ]
  },
  {
   "attachments": {
    "plot_optimization_history.png": {
     "image/png": "[encoded data removed]"
    }
   },
   "cell_type": "markdown",
   "metadata": {},
   "source": [
    "![plot_optimization_history.png](attachment:plot_optimization_history.png)"
   ]
  },
  {
   "cell_type": "code",
   "execution_count": 18,
   "metadata": {},
   "outputs": [
    {
     "name": "stderr",
     "output_type": "stream",
     "text": [
      "[W 2025-01-28 16:17:10,244] Trial 7 is omitted in visualization because its objective value is inf or nan.\n"
     ]
    },
    {
     "data": {
      "application/vnd.plotly.v1+json": {
       "config": {
        "plotlyServerURL": "https://plot.ly"
       },
       "data": [
        {
         "cliponaxis": false,
         "hovertemplate": [
          "reg_alpha (FloatDistribution): 0.0001352515399193489<extra></extra>",
          "reg_lambda (FloatDistribution): 0.0018493605213670754<extra></extra>",
          "max_depth (IntDistribution): 0.025167829521733093<extra></extra>",
          "colsample_bytree (FloatDistribution): 0.04582584427830693<extra></extra>",
          "n_estimators (IntDistribution): 0.05071500325786899<extra></extra>",
          "subsample (FloatDistribution): 0.09097070807748704<extra></extra>",
          "learning_rate (FloatDistribution): 0.15428816921040817<extra></extra>",
          "scale_pos_weight (FloatDistribution): 0.6310478335929093<extra></extra>"
         ],
         "name": "Objective Value",
         "orientation": "h",
         "text": [
          "<0.01",
          "<0.01",
          "0.03",
          "0.05",
          "0.05",
          "0.09",
          "0.15",
          "0.63"
         ],
         "textposition": "outside",
         "type": "bar",
         "x": [
          0.0001352515399193489,
          0.0018493605213670754,
          0.025167829521733093,
          0.04582584427830693,
          0.05071500325786899,
          0.09097070807748704,
          0.15428816921040817,
          0.6310478335929093
         ],
         "y": [
          "reg_alpha",
          "reg_lambda",
          "max_depth",
          "colsample_bytree",
          "n_estimators",
          "subsample",
          "learning_rate",
          "scale_pos_weight"
         ]
        }
       ],
       "layout": {
        "template": {
         "data": {
          "bar": [
           {
            "error_x": {
             "color": "#2a3f5f"
            },
            "error_y": {
             "color": "#2a3f5f"
            },
            "marker": {
             "line": {
              "color": "#E5ECF6",
              "width": 0.5
             },
             "pattern": {
              "fillmode": "overlay",
              "size": 10,
              "solidity": 0.2
             }
            },
            "type": "bar"
           }
          ],
          "barpolar": [
           {
            "marker": {
             "line": {
              "color": "#E5ECF6",
              "width": 0.5
             },
             "pattern": {
              "fillmode": "overlay",
              "size": 10,
              "solidity": 0.2
             }
            },
            "type": "barpolar"
           }
          ],
          "carpet": [
           {
            "aaxis": {
             "endlinecolor": "#2a3f5f",
             "gridcolor": "white",
             "linecolor": "white",
             "minorgridcolor": "white",
             "startlinecolor": "#2a3f5f"
            },
            "baxis": {
             "endlinecolor": "#2a3f5f",
             "gridcolor": "white",
             "linecolor": "white",
             "minorgridcolor": "white",
             "startlinecolor": "#2a3f5f"
            },
            "type": "carpet"
           }
          ],
          "choropleth": [
           {
            "colorbar": {
             "outlinewidth": 0,
             "ticks": ""
            },
            "type": "choropleth"
           }
          ],
          "contour": [
           {
            "colorbar": {
             "outlinewidth": 0,
             "ticks": ""
            },
            "colorscale": [
             [
              0,
              "#0d0887"
             ],
             [
              0.1111111111111111,
              "#46039f"
             ],
             [
              0.2222222222222222,
              "#7201a8"
             ],
             [
              0.3333333333333333,
              "#9c179e"
             ],
             [
              0.4444444444444444,
              "#bd3786"
             ],
             [
              0.5555555555555556,
              "#d8576b"
             ],
             [
              0.6666666666666666,
              "#ed7953"
             ],
             [
              0.7777777777777778,
              "#fb9f3a"
             ],
             [
              0.8888888888888888,
              "#fdca26"
             ],
             [
              1,
              "#f0f921"
             ]
            ],
            "type": "contour"
           }
          ],
          "contourcarpet": [
           {
            "colorbar": {
             "outlinewidth": 0,
             "ticks": ""
            },
            "type": "contourcarpet"
           }
          ],
          "heatmap": [
           {
            "colorbar": {
             "outlinewidth": 0,
             "ticks": ""
            },
            "colorscale": [
             [
              0,
              "#0d0887"
             ],
             [
              0.1111111111111111,
              "#46039f"
             ],
             [
              0.2222222222222222,
              "#7201a8"
             ],
             [
              0.3333333333333333,
              "#9c179e"
             ],
             [
              0.4444444444444444,
              "#bd3786"
             ],
             [
              0.5555555555555556,
              "#d8576b"
             ],
             [
              0.6666666666666666,
              "#ed7953"
             ],
             [
              0.7777777777777778,
              "#fb9f3a"
             ],
             [
              0.8888888888888888,
              "#fdca26"
             ],
             [
              1,
              "#f0f921"
             ]
            ],
            "type": "heatmap"
           }
          ],
          "heatmapgl": [
           {
            "colorbar": {
             "outlinewidth": 0,
             "ticks": ""
            },
            "colorscale": [
             [
              0,
              "#0d0887"
             ],
             [
              0.1111111111111111,
              "#46039f"
             ],
             [
              0.2222222222222222,
              "#7201a8"
             ],
             [
              0.3333333333333333,
              "#9c179e"
             ],
             [
              0.4444444444444444,
              "#bd3786"
             ],
             [
              0.5555555555555556,
              "#d8576b"
             ],
             [
              0.6666666666666666,
              "#ed7953"
             ],
             [
              0.7777777777777778,
              "#fb9f3a"
             ],
             [
              0.8888888888888888,
              "#fdca26"
             ],
             [
              1,
              "#f0f921"
             ]
            ],
            "type": "heatmapgl"
           }
          ],
          "histogram": [
           {
            "marker": {
             "pattern": {
              "fillmode": "overlay",
              "size": 10,
              "solidity": 0.2
             }
            },
            "type": "histogram"
           }
          ],
          "histogram2d": [
           {
            "colorbar": {
             "outlinewidth": 0,
             "ticks": ""
            },
            "colorscale": [
             [
              0,
              "#0d0887"
             ],
             [
              0.1111111111111111,
              "#46039f"
             ],
             [
              0.2222222222222222,
              "#7201a8"
             ],
             [
              0.3333333333333333,
              "#9c179e"
             ],
             [
              0.4444444444444444,
              "#bd3786"
             ],
             [
              0.5555555555555556,
              "#d8576b"
             ],
             [
              0.6666666666666666,
              "#ed7953"
             ],
             [
              0.7777777777777778,
              "#fb9f3a"
             ],
             [
              0.8888888888888888,
              "#fdca26"
             ],
             [
              1,
              "#f0f921"
             ]
            ],
            "type": "histogram2d"
           }
          ],
          "histogram2dcontour": [
           {
            "colorbar": {
             "outlinewidth": 0,
             "ticks": ""
            },
            "colorscale": [
             [
              0,
              "#0d0887"
             ],
             [
              0.1111111111111111,
              "#46039f"
             ],
             [
              0.2222222222222222,
              "#7201a8"
             ],
             [
              0.3333333333333333,
              "#9c179e"
             ],
             [
              0.4444444444444444,
              "#bd3786"
             ],
             [
              0.5555555555555556,
              "#d8576b"
             ],
             [
              0.6666666666666666,
              "#ed7953"
             ],
             [
              0.7777777777777778,
              "#fb9f3a"
             ],
             [
              0.8888888888888888,
              "#fdca26"
             ],
             [
              1,
              "#f0f921"
             ]
            ],
            "type": "histogram2dcontour"
           }
          ],
          "mesh3d": [
           {
            "colorbar": {
             "outlinewidth": 0,
             "ticks": ""
            },
            "type": "mesh3d"
           }
          ],
          "parcoords": [
           {
            "line": {
             "colorbar": {
              "outlinewidth": 0,
              "ticks": ""
             }
            },
            "type": "parcoords"
           }
          ],
          "pie": [
           {
            "automargin": true,
            "type": "pie"
           }
          ],
          "scatter": [
           {
            "fillpattern": {
             "fillmode": "overlay",
             "size": 10,
             "solidity": 0.2
            },
            "type": "scatter"
           }
          ],
          "scatter3d": [
           {
            "line": {
             "colorbar": {
              "outlinewidth": 0,
              "ticks": ""
             }
            },
            "marker": {
             "colorbar": {
              "outlinewidth": 0,
              "ticks": ""
             }
            },
            "type": "scatter3d"
           }
          ],
          "scattercarpet": [
           {
            "marker": {
             "colorbar": {
              "outlinewidth": 0,
              "ticks": ""
             }
            },
            "type": "scattercarpet"
           }
          ],
          "scattergeo": [
           {
            "marker": {
             "colorbar": {
              "outlinewidth": 0,
              "ticks": ""
             }
            },
            "type": "scattergeo"
           }
          ],
          "scattergl": [
           {
            "marker": {
             "colorbar": {
              "outlinewidth": 0,
              "ticks": ""
             }
            },
            "type": "scattergl"
           }
          ],
          "scattermapbox": [
           {
            "marker": {
             "colorbar": {
              "outlinewidth": 0,
              "ticks": ""
             }
            },
            "type": "scattermapbox"
           }
          ],
          "scatterpolar": [
           {
            "marker": {
             "colorbar": {
              "outlinewidth": 0,
              "ticks": ""
             }
            },
            "type": "scatterpolar"
           }
          ],
          "scatterpolargl": [
           {
            "marker": {
             "colorbar": {
              "outlinewidth": 0,
              "ticks": ""
             }
            },
            "type": "scatterpolargl"
           }
          ],
          "scatterternary": [
           {
            "marker": {
             "colorbar": {
              "outlinewidth": 0,
              "ticks": ""
             }
            },
            "type": "scatterternary"
           }
          ],
          "surface": [
           {
            "colorbar": {
             "outlinewidth": 0,
             "ticks": ""
            },
            "colorscale": [
             [
              0,
              "#0d0887"
             ],
             [
              0.1111111111111111,
              "#46039f"
             ],
             [
              0.2222222222222222,
              "#7201a8"
             ],
             [
              0.3333333333333333,
              "#9c179e"
             ],
             [
              0.4444444444444444,
              "#bd3786"
             ],
             [
              0.5555555555555556,
              "#d8576b"
             ],
             [
              0.6666666666666666,
              "#ed7953"
             ],
             [
              0.7777777777777778,
              "#fb9f3a"
             ],
             [
              0.8888888888888888,
              "#fdca26"
             ],
             [
              1,
              "#f0f921"
             ]
            ],
            "type": "surface"
           }
          ],
          "table": [
           {
            "cells": {
             "fill": {
              "color": "#EBF0F8"
             },
             "line": {
              "color": "white"
             }
            },
            "header": {
             "fill": {
              "color": "#C8D4E3"
             },
             "line": {
              "color": "white"
             }
            },
            "type": "table"
           }
          ]
         },
         "layout": {
          "annotationdefaults": {
           "arrowcolor": "#2a3f5f",
           "arrowhead": 0,
           "arrowwidth": 1
          },
          "autotypenumbers": "strict",
          "coloraxis": {
           "colorbar": {
            "outlinewidth": 0,
            "ticks": ""
           }
          },
          "colorscale": {
           "diverging": [
            [
             0,
             "#8e0152"
            ],
            [
             0.1,
             "#c51b7d"
            ],
            [
             0.2,
             "#de77ae"
            ],
            [
             0.3,
             "#f1b6da"
            ],
            [
             0.4,
             "#fde0ef"
            ],
            [
             0.5,
             "#f7f7f7"
            ],
            [
             0.6,
             "#e6f5d0"
            ],
            [
             0.7,
             "#b8e186"
            ],
            [
             0.8,
             "#7fbc41"
            ],
            [
             0.9,
             "#4d9221"
            ],
            [
             1,
             "#276419"
            ]
           ],
           "sequential": [
            [
             0,
             "#0d0887"
            ],
            [
             0.1111111111111111,
             "#46039f"
            ],
            [
             0.2222222222222222,
             "#7201a8"
            ],
            [
             0.3333333333333333,
             "#9c179e"
            ],
            [
             0.4444444444444444,
             "#bd3786"
            ],
            [
             0.5555555555555556,
             "#d8576b"
            ],
            [
             0.6666666666666666,
             "#ed7953"
            ],
            [
             0.7777777777777778,
             "#fb9f3a"
            ],
            [
             0.8888888888888888,
             "#fdca26"
            ],
            [
             1,
             "#f0f921"
            ]
           ],
           "sequentialminus": [
            [
             0,
             "#0d0887"
            ],
            [
             0.1111111111111111,
             "#46039f"
            ],
            [
             0.2222222222222222,
             "#7201a8"
            ],
            [
             0.3333333333333333,
             "#9c179e"
            ],
            [
             0.4444444444444444,
             "#bd3786"
            ],
            [
             0.5555555555555556,
             "#d8576b"
            ],
            [
             0.6666666666666666,
             "#ed7953"
            ],
            [
             0.7777777777777778,
             "#fb9f3a"
            ],
            [
             0.8888888888888888,
             "#fdca26"
            ],
            [
             1,
             "#f0f921"
            ]
           ]
          },
          "colorway": [
           "#636efa",
           "#EF553B",
           "#00cc96",
           "#ab63fa",
           "#FFA15A",
           "#19d3f3",
           "#FF6692",
           "#B6E880",
           "#FF97FF",
           "#FECB52"
          ],
          "font": {
           "color": "#2a3f5f"
          },
          "geo": {
           "bgcolor": "white",
           "lakecolor": "white",
           "landcolor": "#E5ECF6",
           "showlakes": true,
           "showland": true,
           "subunitcolor": "white"
          },
          "hoverlabel": {
           "align": "left"
          },
          "hovermode": "closest",
          "mapbox": {
           "style": "light"
          },
          "paper_bgcolor": "white",
          "plot_bgcolor": "#E5ECF6",
          "polar": {
           "angularaxis": {
            "gridcolor": "white",
            "linecolor": "white",
            "ticks": ""
           },
           "bgcolor": "#E5ECF6",
           "radialaxis": {
            "gridcolor": "white",
            "linecolor": "white",
            "ticks": ""
           }
          },
          "scene": {
           "xaxis": {
            "backgroundcolor": "#E5ECF6",
            "gridcolor": "white",
            "gridwidth": 2,
            "linecolor": "white",
            "showbackground": true,
            "ticks": "",
            "zerolinecolor": "white"
           },
           "yaxis": {
            "backgroundcolor": "#E5ECF6",
            "gridcolor": "white",
            "gridwidth": 2,
            "linecolor": "white",
            "showbackground": true,
            "ticks": "",
            "zerolinecolor": "white"
           },
           "zaxis": {
            "backgroundcolor": "#E5ECF6",
            "gridcolor": "white",
            "gridwidth": 2,
            "linecolor": "white",
            "showbackground": true,
            "ticks": "",
            "zerolinecolor": "white"
           }
          },
          "shapedefaults": {
           "line": {
            "color": "#2a3f5f"
           }
          },
          "ternary": {
           "aaxis": {
            "gridcolor": "white",
            "linecolor": "white",
            "ticks": ""
           },
           "baxis": {
            "gridcolor": "white",
            "linecolor": "white",
            "ticks": ""
           },
           "bgcolor": "#E5ECF6",
           "caxis": {
            "gridcolor": "white",
            "linecolor": "white",
            "ticks": ""
           }
          },
          "title": {
           "x": 0.05
          },
          "xaxis": {
           "automargin": true,
           "gridcolor": "white",
           "linecolor": "white",
           "ticks": "",
           "title": {
            "standoff": 15
           },
           "zerolinecolor": "white",
           "zerolinewidth": 2
          },
          "yaxis": {
           "automargin": true,
           "gridcolor": "white",
           "linecolor": "white",
           "ticks": "",
           "title": {
            "standoff": 15
           },
           "zerolinecolor": "white",
           "zerolinewidth": 2
          }
         }
        },
        "title": {
         "text": "Hyperparameter Importances"
        },
        "xaxis": {
         "title": {
          "text": "Hyperparameter Importance"
         }
        },
        "yaxis": {
         "title": {
          "text": "Hyperparameter"
         }
        }
       }
      }
     },
     "metadata": {},
     "output_type": "display_data"
    }
   ],
   "source": [
    "optuna.visualization.plot_param_importances(study)"
   ]
  },
  {
   "attachments": {
    "plot_param_importances.png": {
     "image/png": "[encoded data removed]"
    }
   },
   "cell_type": "markdown",
   "metadata": {},
   "source": [
    "![plot_param_importances.png](attachment:plot_param_importances.png)"
   ]
  },
  {
   "cell_type": "code",
   "execution_count": 19,
   "metadata": {},
   "outputs": [
    {
     "data": {
      "text/plain": [
       "{'n_estimators': 54,\n",
       " 'max_depth': 3,\n",
       " 'learning_rate': 0.08140043819062062,\n",
       " 'subsample': 0.7410099777128472,\n",
       " 'colsample_bytree': 0.9248473274569027,\n",
       " 'reg_alpha': 2.453445896986848e-05,\n",
       " 'reg_lambda': 0.06897274168855157,\n",
       " 'scale_pos_weight': 2.680702478566129}"
      ]
     },
     "execution_count": 19,
     "metadata": {},
     "output_type": "execute_result"
    }
   ],
   "source": [
    "# 최적화된 하이퍼파라미터 출력\n",
    "best_params = study.best_params\n",
    "best_params"
   ]
  },
  {
   "cell_type": "code",
   "execution_count": null,
   "metadata": {},
   "outputs": [],
   "source": [
    "# 최적화된 하이퍼파라미터로 모델 학습 (scikit-learn 1.5.2 설치)\n",
    "best_model = xgb.XGBClassifier(\n",
    "    random_state=42,\n",
    "    **best_params\n",
    ")\n",
    "\n",
    "best_model.fit(X, y)"
   ]
  },
  {
   "cell_type": "code",
   "execution_count": 21,
   "metadata": {},
   "outputs": [
    {
     "data": {
      "text/plain": [
       "['model.pkl']"
      ]
     },
     "execution_count": 21,
     "metadata": {},
     "output_type": "execute_result"
    }
   ],
   "source": [
    "# 최종 모델 저장\n",
    "import joblib\n",
    "\n",
    "joblib.dump(best_model, 'model.pkl')"
   ]
  },
  {
   "cell_type": "code",
   "execution_count": 22,
   "metadata": {},
   "outputs": [
    {
     "data": {
      "text/plain": [
       "array([0.59783375, 0.35669652, 0.4146889 , ..., 0.29693308, 0.5977525 ,\n",
       "       0.61330205], dtype=float32)"
      ]
     },
     "execution_count": 22,
     "metadata": {},
     "output_type": "execute_result"
    }
   ],
   "source": [
    "# 최종 모델 불러오기\n",
    "loaded_model = joblib.load('model.pkl')\n",
    "\n",
    "# 예측\n",
    "loaded_model.predict(X)\n",
    "\n",
    "# 예측 확률\n",
    "loaded_model.predict_proba(X)\n",
    "\n",
    "# 예측 확률 중 Positive 클래스에 대한 예측 확률\n",
    "loaded_model.predict_proba(X)[:, 1]"
   ]
  }
 ],
 "metadata": {
  "kernelspec": {
   "display_name": "sesac",
   "language": "python",
   "name": "python3"
  },
  "language_info": {
   "codemirror_mode": {
    "name": "ipython",
    "version": 3
   },
   "file_extension": ".py",
   "mimetype": "text/x-python",
   "name": "python",
   "nbconvert_exporter": "python",
   "pygments_lexer": "ipython3",
   "version": "3.11.11"
  }
 },
 "nbformat": 4,
 "nbformat_minor": 2
}
